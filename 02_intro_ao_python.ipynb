{
 "cells": [
  {
   "cell_type": "markdown",
   "metadata": {
    "slideshow": {
     "slide_type": "skip"
    }
   },
   "source": [
    "<table>\n",
    " <tr align=left><td><img align=left src=\"./images/CC-BY.png\">\n",
    " <td>Text provided under a Creative Commons Attribution license, CC-BY. All code is made available under the FSF-approved MIT license. (c) Kyle T. Mandli</td>\n",
    "</table>"
   ]
  },
  {
   "cell_type": "code",
   "execution_count": null,
   "metadata": {
    "slideshow": {
     "slide_type": "skip"
    }
   },
   "outputs": [],
   "source": [
    "from __future__ import print_function, division"
   ]
  },
  {
   "cell_type": "code",
   "execution_count": null,
   "metadata": {
    "slideshow": {
     "slide_type": "-"
    }
   },
   "outputs": [],
   "source": [
    "import math\n",
    "math.sqrt(4)"
   ]
  },
  {
   "cell_type": "markdown",
   "metadata": {
    "slideshow": {
     "slide_type": "slide"
    }
   },
   "source": [
    "## Control Flow\n",
    "         \n",
    "Nesta secção, são fornecidas várias maneiras de controlar a ordem de execução dos  comandos. Em Python um pedaço de código de execução condicionada ou controlada chama-se um bloco.  Temos   blocos 'if' caso a execução seja controlada por uma condição.  Chamamos loop a um bloco executado repetidamente em função de uma condição. Em Pythen existem dois tipos de loops: 'while' loop ou 'for' loop. Nos 'while' loops o bloco é executado enquanto uma condição for verdadeira. No 'for' loop o bloco é executado para uma sequencia de elementos que podem, por exemplo, estar numa lista."
   ]
  },
  {
   "cell_type": "markdown",
   "metadata": {
    "slideshow": {
     "slide_type": "subslide"
    }
   },
   "source": [
    "### `if`\n",
    "Este é o comando de controle básico. Um conjunto de instruções é executado se uma determinada condição for verdadeira. Observe que o Python decide qual conjunto de comandos executar com base  na forma em que o código está indentado.\n",
    "\n",
    "Nota: Veja a lista completa de operadores suportados em python [here](https://www.tutorialspoint.com/python/python_basic_operators.htm)"
   ]
  },
  {
   "cell_type": "code",
   "execution_count": 3,
   "metadata": {
    "slideshow": {
     "slide_type": "fragment"
    }
   },
   "outputs": [
    {
     "name": "stdout",
     "output_type": "stream",
     "text": [
      "x é igual a 5\n",
      "O valor de itsBig é False\n"
     ]
    }
   ],
   "source": [
    "x = 5\n",
    "if x > 5:\n",
    "    itsBig = True\n",
    "    print(\"x é maior que 5\")\n",
    "elif 1 < x < 5:\n",
    "    itsBig = False\n",
    "    print(\"x é menor que 5\")\n",
    "elif x <= 1:\n",
    "    itsBig = False\n",
    "    print(\"x é menor ou igual a 1\")\n",
    "else:\n",
    "    itsBig = not True\n",
    "    print(\"x é igual a 5\")\n",
    "print(\"O valor de itsBig é {0}\".format(itsBig))"
   ]
  },
  {
   "cell_type": "markdown",
   "metadata": {
    "slideshow": {
     "slide_type": "subslide"
    }
   },
   "source": [
    "### `for` loops\n",
    "\n",
    "A  instrução `for` é usada para definir o tipo mais comum de loops no Python. Permitem que um conjunto de comandos seja repetido por um número fixo de vezes. O comando requer pelo menos uma variável e cada vez que o loop repete um novo valor da variável é usado. Por exemplo, se uma lista é usada como argumento, o loop `for` itera sobre cada valor na lista . "
   ]
  },
  {
   "cell_type": "code",
   "execution_count": 11,
   "metadata": {},
   "outputs": [],
   "source": [
    "print?"
   ]
  },
  {
   "cell_type": "code",
   "execution_count": 8,
   "metadata": {
    "slideshow": {
     "slide_type": "fragment"
    }
   },
   "outputs": [
    {
     "name": "stdout",
     "output_type": "stream",
     "text": [
      "-10\n",
      "-9\n",
      "-8\n",
      "-7\n",
      "-6\n",
      "-5\n",
      "-4\n",
      "-3\n",
      "-2\n",
      "-1\n",
      "0\n",
      "1\n",
      "2\n",
      "O número de vezes que o loop repetido é 13\n"
     ]
    }
   ],
   "source": [
    "acumulador = 0\n",
    "for i in range(-10, 3,):\n",
    "    acumulador = acumulador + 1\n",
    "    print(i)\n",
    "print(\"O número de vezes que o loop repetido é {0}\".format(acumulador))"
   ]
  },
  {
   "cell_type": "code",
   "execution_count": 7,
   "metadata": {
    "slideshow": {
     "slide_type": "subslide"
    }
   },
   "outputs": [
    {
     "name": "stdout",
     "output_type": "stream",
     "text": [
      "3\n",
      "4\n",
      "5\n",
      "6\n"
     ]
    }
   ],
   "source": [
    "for i in range(3,7):\n",
    "    print(i)"
   ]
  },
  {
   "cell_type": "code",
   "execution_count": 13,
   "metadata": {},
   "outputs": [
    {
     "data": {
      "text/plain": [
       "<enumerate at 0x261fd6ad180>"
      ]
     },
     "execution_count": 13,
     "metadata": {},
     "output_type": "execute_result"
    }
   ],
   "source": [
    "enumerate(['gato', 'cão', 'chinchilla'])"
   ]
  },
  {
   "cell_type": "code",
   "execution_count": 12,
   "metadata": {
    "slideshow": {
     "slide_type": "fragment"
    }
   },
   "outputs": [
    {
     "name": "stdout",
     "output_type": "stream",
     "text": [
      "0 gato\n",
      "2 chinchilla\n"
     ]
    }
   ],
   "source": [
    "for (i, animal) in enumerate(['gato', 'cão', 'chinchilla']):\n",
    "    if i%2 == 0:\n",
    "        print(i, animal)"
   ]
  },
  {
   "cell_type": "markdown",
   "metadata": {
    "slideshow": {
     "slide_type": "subslide"
    }
   },
   "source": [
    "O acima pode ser escrito numa única linha e o resultado registar numa nova lista, usando \"compreensão da lista\""
   ]
  },
  {
   "cell_type": "code",
   "execution_count": 14,
   "metadata": {
    "slideshow": {
     "slide_type": "-"
    }
   },
   "outputs": [
    {
     "name": "stdout",
     "output_type": "stream",
     "text": [
      "['Gato', 'Cão', 'Chinchilla'] [3, 4, 5, 6]\n"
     ]
    }
   ],
   "source": [
    "animal_new = [ animal.capitalize() for animal in ['gato', 'cão', 'chinchilla']]\n",
    "range_new = [ i for i in range(3,7)]\n",
    "print(animal_new, range_new)"
   ]
  },
  {
   "cell_type": "markdown",
   "metadata": {
    "slideshow": {
     "slide_type": "subslide"
    }
   },
   "source": [
    "Relacionadas com a instrução `for` existem as  instruções de controle `break` e `continue`. Podemos criar loops com lógica que pode evitá-los, mas às vezes o código pode ser mais legível com o uso criterioso dessas instruções. "
   ]
  },
  {
   "cell_type": "code",
   "execution_count": 18,
   "metadata": {},
   "outputs": [
    {
     "name": "stdout",
     "output_type": "stream",
     "text": [
      "2\n"
     ]
    }
   ],
   "source": [
    "for x in range(2,3):\n",
    "    print(x)"
   ]
  },
  {
   "cell_type": "code",
   "execution_count": 15,
   "metadata": {
    "slideshow": {
     "slide_type": "fragment"
    }
   },
   "outputs": [
    {
     "name": "stdout",
     "output_type": "stream",
     "text": [
      "2 is a prime number\n",
      "3 is a prime number\n",
      "4 equals 2 * 2.0\n",
      "5 is a prime number\n",
      "6 equals 2 * 3.0\n",
      "7 is a prime number\n",
      "8 equals 2 * 4.0\n",
      "9 equals 3 * 3.0\n"
     ]
    }
   ],
   "source": [
    "for n in range(2, 10):\n",
    "    is_prime = True\n",
    "    for x in range(2, n):\n",
    "        if n % x == 0:\n",
    "            print(n, 'equals', x, '*', n / x)\n",
    "            is_prime = False\n",
    "            break\n",
    "    if is_prime:\n",
    "        print(\"%s is a prime number\" % (n))"
   ]
  },
  {
   "cell_type": "markdown",
   "metadata": {
    "slideshow": {
     "slide_type": "slide"
    }
   },
   "source": [
    "### O loop `while`\n",
    "\n",
    "O bloco de comandos num loop while é executado enquanto uma data  condição é True."
   ]
  },
  {
   "cell_type": "code",
   "execution_count": 19,
   "metadata": {
    "code_folding": [],
    "slideshow": {
     "slide_type": "fragment"
    }
   },
   "outputs": [
    {
     "name": "stdout",
     "output_type": "stream",
     "text": [
      "top: 10, bottom: 0\n",
      "top: 9, bottom: 1\n",
      "top: 8, bottom: 2\n",
      "top: 7, bottom: 3\n",
      "top: 6, bottom: 4\n"
     ]
    }
   ],
   "source": [
    "top    = 10\n",
    "bottom = 0\n",
    "while (top>bottom):\n",
    "    print(\"top: {0}, bottom: {1}\".format(top,bottom))\n",
    "    top    -= 1\n",
    "    bottom += 1"
   ]
  },
  {
   "cell_type": "markdown",
   "metadata": {
    "slideshow": {
     "slide_type": "subslide"
    }
   },
   "source": [
    "A declaração `pass` pode parecer bastante inútil, pois simplesmente não faz nada, mas pode fornecer um esboço para lembrar de voltar e implementar algo."
   ]
  },
  {
   "cell_type": "code",
   "execution_count": null,
   "metadata": {
    "slideshow": {
     "slide_type": "fragment"
    }
   },
   "outputs": [],
   "source": [
    "def my_func(x):\n",
    "    # Remember to implement this later!\n",
    "    pass"
   ]
  },
  {
   "cell_type": "markdown",
   "metadata": {
    "slideshow": {
     "slide_type": "slide"
    }
   },
   "source": [
    "### Definindo Funções\n",
    "\n",
    "A última declaração acima define uma função no Python com um argumento chamado `x`. Alguns exemplos de funções."
   ]
  },
  {
   "cell_type": "code",
   "execution_count": 20,
   "metadata": {
    "slideshow": {
     "slide_type": "fragment"
    }
   },
   "outputs": [
    {
     "name": "stdout",
     "output_type": "stream",
     "text": [
      "3\n"
     ]
    }
   ],
   "source": [
    "def my_print_function(x):\n",
    "    print(x)\n",
    "\n",
    "my_print_function(3)"
   ]
  },
  {
   "cell_type": "code",
   "execution_count": 21,
   "metadata": {
    "slideshow": {
     "slide_type": "fragment"
    }
   },
   "outputs": [
    {
     "data": {
      "text/plain": [
       "8.0"
      ]
     },
     "execution_count": 21,
     "metadata": {},
     "output_type": "execute_result"
    }
   ],
   "source": [
    "def my_add_function(a, b):\n",
    "    return(a + b)\n",
    "\n",
    "my_add_function(3.0, 5.0)"
   ]
  },
  {
   "cell_type": "markdown",
   "metadata": {
    "slideshow": {
     "slide_type": "subslide"
    }
   },
   "source": [
    "Uma variável pode receber um valor implícito ao definir a função; esse valor permanece inalterado, a menos que se especifique um valor diferente"
   ]
  },
  {
   "cell_type": "code",
   "execution_count": 22,
   "metadata": {
    "slideshow": {
     "slide_type": "fragment"
    }
   },
   "outputs": [
    {
     "data": {
      "text/plain": [
       "(5.0, 11.0, 11.0)"
      ]
     },
     "execution_count": 22,
     "metadata": {},
     "output_type": "execute_result"
    }
   ],
   "source": [
    "def my_crazy_function(a, b, c=1.0):\n",
    "    d = a + b**c\n",
    "    return d\n",
    "\n",
    "my_crazy_function(2.0, 3.0), my_crazy_function(2.0, 3.0, 2.0), my_crazy_function(2.0, 3.0, c=2.0)"
   ]
  },
  {
   "cell_type": "code",
   "execution_count": 23,
   "metadata": {},
   "outputs": [],
   "source": [
    "my_crazy_function?"
   ]
  },
  {
   "cell_type": "code",
   "execution_count": 24,
   "metadata": {
    "slideshow": {
     "slide_type": "fragment"
    }
   },
   "outputs": [
    {
     "data": {
      "text/plain": [
       "5.0"
      ]
     },
     "execution_count": 24,
     "metadata": {},
     "output_type": "execute_result"
    }
   ],
   "source": [
    "def my_other_function(a, b, c=1.0):\n",
    "    return a + b, a + b**c, a + b**(3.0 / 7.0)\n",
    "\n",
    "x = my_other_function(2.0, 3.0, c=2.0)\n",
    "x[0]"
   ]
  },
  {
   "cell_type": "code",
   "execution_count": 25,
   "metadata": {},
   "outputs": [
    {
     "data": {
      "text/plain": [
       "(5.0, 11.0, 3.601328885557697)"
      ]
     },
     "execution_count": 25,
     "metadata": {},
     "output_type": "execute_result"
    }
   ],
   "source": [
    "x"
   ]
  },
  {
   "cell_type": "markdown",
   "metadata": {
    "slideshow": {
     "slide_type": "subslide"
    }
   },
   "source": [
    "Tentemos escrever  uma função mais complexa (e útil). A sequência de Fibonacci é definida pela adição de dois números anteriores da sequência (começando se com `[0, 1]`)."
   ]
  },
  {
   "cell_type": "code",
   "execution_count": 28,
   "metadata": {
    "slideshow": {
     "slide_type": "fragment"
    }
   },
   "outputs": [],
   "source": [
    "def fibonacci(n):\n",
    "    \"\"\"Devolve os termos da sequência de Fibonacci de valor menor ou igual a b\"\"\"\n",
    "    values = [0, 1]\n",
    "    while values[-1] <= n:\n",
    "        values.append(values[-1] + values[-2])\n",
    "        #print(values)\n",
    "    return values\n"
   ]
  },
  {
   "cell_type": "code",
   "execution_count": 29,
   "metadata": {},
   "outputs": [
    {
     "data": {
      "text/plain": [
       "[0, 1, 1, 2, 3, 5, 8]"
      ]
     },
     "execution_count": 29,
     "metadata": {},
     "output_type": "execute_result"
    }
   ],
   "source": [
    "fibonacci(7)"
   ]
  },
  {
   "cell_type": "markdown",
   "metadata": {
    "slideshow": {
     "slide_type": "subslide"
    }
   },
   "source": [
    "Existem várias outras estruturas de dados úteis em python, pode ler mais [aqui](https://docs.python.org/3/tutorial/datastructures.html)"
   ]
  },
  {
   "cell_type": "markdown",
   "metadata": {
    "slideshow": {
     "slide_type": "slide"
    }
   },
   "source": [
    "## Manipulação de exceção\n",
    "\n",
    "O Python possui  instruções para lidar com erros e exceções que,  podem ser úteis quando para contornar erros de execução. "
   ]
  },
  {
   "cell_type": "code",
   "execution_count": 35,
   "metadata": {
    "slideshow": {
     "slide_type": "subslide"
    }
   },
   "outputs": [],
   "source": [
    "def isstring(x):\n",
    "    \"\"\" função para verificar se x é uma string\n",
    "    \n",
    "    Parâmetros\n",
    "    ----------\n",
    "    x : qualquer objeto python\n",
    "    \n",
    "    Devoluções\n",
    "    -------\n",
    "    bool\n",
    "        Verdadeiro se x for uma sequência, Falso caso contrário.\n",
    "        \n",
    "    Raises\n",
    "    ------\n",
    "    TypeError\n",
    "        se x não é uma string\n",
    "    \"\"\"\n",
    "    if isinstance(x, str):\n",
    "        print('{} é uma string'.format(x))\n",
    "        return True\n",
    "    else:\n",
    "        raise TypeError('{} não é uma string'.format(x))\n",
    "        return False\n",
    " "
   ]
  },
  {
   "cell_type": "code",
   "execution_count": null,
   "metadata": {
    "slideshow": {
     "slide_type": "fragment"
    }
   },
   "outputs": [],
   "source": [
    "x = 'Olá'\n",
    "isstring(x)"
   ]
  },
  {
   "cell_type": "markdown",
   "metadata": {
    "slideshow": {
     "slide_type": "subslide"
    }
   },
   "source": [
    "Se  deseja capturar uma exceção e continuar a execução, pode usar a sintaxe `try`-`except`"
   ]
  },
  {
   "cell_type": "code",
   "execution_count": null,
   "metadata": {
    "slideshow": {
     "slide_type": "fragment"
    }
   },
   "outputs": [],
   "source": [
    "print(remember)\n",
    "for r in remember:\n",
    "    try:\n",
    "        isstring(r)\n",
    "    except TypeError as err:\n",
    "        print(err)\n",
    "    "
   ]
  },
  {
   "cell_type": "markdown",
   "metadata": {
    "slideshow": {
     "slide_type": "subslide"
    }
   },
   "source": [
    "### help(), e ? são seus amigos\n",
    "\n",
    "Use a função `help ()` ou um `?` no final do nome da função para ver a sua documentação. "
   ]
  },
  {
   "cell_type": "code",
   "execution_count": null,
   "metadata": {
    "slideshow": {
     "slide_type": "-"
    }
   },
   "outputs": [],
   "source": [
    "isstring?"
   ]
  },
  {
   "cell_type": "code",
   "execution_count": null,
   "metadata": {
    "slideshow": {
     "slide_type": "fragment"
    }
   },
   "outputs": [],
   "source": [
    "import numpy \n",
    "x = numpy.array(range(3))\n",
    "x"
   ]
  },
  {
   "cell_type": "code",
   "execution_count": null,
   "metadata": {
    "slideshow": {
     "slide_type": "fragment"
    }
   },
   "outputs": [],
   "source": [
    "x.max?"
   ]
  },
  {
   "cell_type": "markdown",
   "metadata": {
    "slideshow": {
     "slide_type": "slide"
    }
   },
   "source": [
    "### Exercício 1\n",
    "Implemente uma função que tendo por argumento uma lista, devolve o comprimento da lista."
   ]
  },
  {
   "cell_type": "code",
   "execution_count": 10,
   "metadata": {},
   "outputs": [],
   "source": [
    "def comprimento(L):\n",
    "    cont = 0\n",
    "    for i in L:\n",
    "        cont += 1\n",
    "    return cont"
   ]
  },
  {
   "cell_type": "code",
   "execution_count": 13,
   "metadata": {
    "scrolled": true
   },
   "outputs": [
    {
     "data": {
      "text/plain": [
       "4"
      ]
     },
     "execution_count": 13,
     "metadata": {},
     "output_type": "execute_result"
    }
   ],
   "source": [
    "comprimento([2.3,\"carlos\",53.0,[3,4]])"
   ]
  },
  {
   "cell_type": "code",
   "execution_count": 14,
   "metadata": {},
   "outputs": [
    {
     "data": {
      "text/plain": [
       "0"
      ]
     },
     "execution_count": 14,
     "metadata": {},
     "output_type": "execute_result"
    }
   ],
   "source": [
    "comprimento([])"
   ]
  },
  {
   "cell_type": "code",
   "execution_count": 3,
   "metadata": {},
   "outputs": [
    {
     "data": {
      "text/plain": [
       "3"
      ]
     },
     "execution_count": 3,
     "metadata": {},
     "output_type": "execute_result"
    }
   ],
   "source": [
    "len([2,3,5])"
   ]
  },
  {
   "cell_type": "markdown",
   "metadata": {},
   "source": [
    "### Exercício 2\n",
    "Implemente uma função que tendo por argumento uma lista de números, devolve o maior número da lista."
   ]
  },
  {
   "cell_type": "code",
   "execution_count": 37,
   "metadata": {},
   "outputs": [],
   "source": [
    "def maior(L):\n",
    "    if comprimento(L) > 0:\n",
    "        M=L[0]\n",
    "        for i in L[1:]:\n",
    "            if i>M:\n",
    "                M = i\n",
    "        return M\n",
    "    else:\n",
    "        print(\"Lista vazia\")"
   ]
  },
  {
   "cell_type": "code",
   "execution_count": 38,
   "metadata": {},
   "outputs": [
    {
     "data": {
      "text/plain": [
       "7"
      ]
     },
     "execution_count": 38,
     "metadata": {},
     "output_type": "execute_result"
    }
   ],
   "source": [
    "maior([3,4,7,4,2])"
   ]
  },
  {
   "cell_type": "code",
   "execution_count": 39,
   "metadata": {},
   "outputs": [
    {
     "name": "stdout",
     "output_type": "stream",
     "text": [
      "Lista vazia\n"
     ]
    }
   ],
   "source": [
    "maior([])"
   ]
  },
  {
   "cell_type": "code",
   "execution_count": 32,
   "metadata": {},
   "outputs": [
    {
     "data": {
      "text/plain": [
       "[]"
      ]
     },
     "execution_count": 32,
     "metadata": {},
     "output_type": "execute_result"
    }
   ],
   "source": [
    "[3][1:]"
   ]
  },
  {
   "cell_type": "markdown",
   "metadata": {},
   "source": [
    "### Exercício 3\n",
    "Implemente uma função que tendo por argumento uma lista de números, devolve a soma de todos os número da lista."
   ]
  },
  {
   "cell_type": "code",
   "execution_count": 41,
   "metadata": {},
   "outputs": [],
   "source": [
    "def soma(L):\n",
    "    s=0\n",
    "    for i in L:\n",
    "        s = s + i\n",
    "    return s"
   ]
  },
  {
   "cell_type": "code",
   "execution_count": 42,
   "metadata": {},
   "outputs": [
    {
     "data": {
      "text/plain": [
       "6"
      ]
     },
     "execution_count": 42,
     "metadata": {},
     "output_type": "execute_result"
    }
   ],
   "source": [
    "soma([2,3,1,0])"
   ]
  },
  {
   "cell_type": "markdown",
   "metadata": {},
   "source": [
    "### Exercício 4\n",
    "Implemente uma função que tendo por argumento uma lista de números, devolve o valor médio dos número da lista."
   ]
  },
  {
   "cell_type": "code",
   "execution_count": 49,
   "metadata": {},
   "outputs": [],
   "source": [
    "def media(L):\n",
    "    s = 0\n",
    "    cont = 0\n",
    "    for i in L:\n",
    "        s = s + i\n",
    "        cont += 1\n",
    "    if cont == 0:\n",
    "        print(\"Lista vazia\")\n",
    "    else:\n",
    "        return s/cont"
   ]
  },
  {
   "cell_type": "code",
   "execution_count": 50,
   "metadata": {},
   "outputs": [
    {
     "name": "stdout",
     "output_type": "stream",
     "text": [
      "Lista vazia\n"
     ]
    }
   ],
   "source": [
    "media([])"
   ]
  },
  {
   "cell_type": "markdown",
   "metadata": {},
   "source": [
    "### Exercíco 5\n",
    "Implemente uma função que tendo por argumento um natural $n$, devolve a lista com os primeiros $n$ termos da sucessão $a_i=1/i$."
   ]
  },
  {
   "cell_type": "code",
   "execution_count": 57,
   "metadata": {},
   "outputs": [],
   "source": [
    "def sucA(n):\n",
    "    L=[]\n",
    "    for i in range(1,n+1):\n",
    "        ai=1/i\n",
    "        L.append(ai)\n",
    "    return L"
   ]
  },
  {
   "cell_type": "code",
   "execution_count": 56,
   "metadata": {},
   "outputs": [
    {
     "data": {
      "text/plain": [
       "[1.000,\n",
       " 0.500,\n",
       " 0.333,\n",
       " 0.250,\n",
       " 0.200,\n",
       " 0.167,\n",
       " 0.143,\n",
       " 0.125,\n",
       " 0.111,\n",
       " 0.100,\n",
       " 0.091,\n",
       " 0.083,\n",
       " 0.077]"
      ]
     },
     "execution_count": 56,
     "metadata": {},
     "output_type": "execute_result"
    }
   ],
   "source": [
    "%precision 3\n",
    "sucA(13)"
   ]
  },
  {
   "cell_type": "markdown",
   "metadata": {},
   "source": [
    "### Exercíco 6\n",
    "Implemente uma função que tendo por argumento um `float` $\\alpha$, devolve a lista de termos da sucessão $a_n=1/n$ maiores que $\\alpha$."
   ]
  },
  {
   "cell_type": "code",
   "execution_count": 60,
   "metadata": {},
   "outputs": [],
   "source": [
    "def sucB(alpha):\n",
    "    L = []\n",
    "    n=1\n",
    "    an=1/n\n",
    "    while an > alpha:\n",
    "        L.append(an)\n",
    "        n += 1\n",
    "        an = 1/n\n",
    "        \n",
    "    return L\n",
    "    "
   ]
  },
  {
   "cell_type": "code",
   "execution_count": 61,
   "metadata": {},
   "outputs": [
    {
     "data": {
      "text/plain": [
       "[]"
      ]
     },
     "execution_count": 61,
     "metadata": {},
     "output_type": "execute_result"
    }
   ],
   "source": [
    "sucB(2)"
   ]
  },
  {
   "cell_type": "code",
   "execution_count": null,
   "metadata": {},
   "outputs": [],
   "source": []
  }
 ],
 "metadata": {
  "celltoolbar": "Slideshow",
  "kernelspec": {
   "display_name": "Python 3",
   "language": "python",
   "name": "python3"
  },
  "language_info": {
   "codemirror_mode": {
    "name": "ipython",
    "version": 3
   },
   "file_extension": ".py",
   "mimetype": "text/x-python",
   "name": "python",
   "nbconvert_exporter": "python",
   "pygments_lexer": "ipython3",
   "version": "3.8.2"
  },
  "latex_envs": {
   "bibliofile": "biblio.bib",
   "cite_by": "apalike",
   "current_citInitial": 1,
   "eqLabelWithNumbers": true,
   "eqNumInitial": 0
  }
 },
 "nbformat": 4,
 "nbformat_minor": 4
}
