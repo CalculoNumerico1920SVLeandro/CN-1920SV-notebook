{
 "cells": [
  {
   "cell_type": "markdown",
   "metadata": {
    "slideshow": {
     "slide_type": "skip"
    }
   },
   "source": [
    "<table>\n",
    " <tr align=left><td><img align=left src=\"./images/CC-BY.png\">\n",
    " <td>Text provided under a Creative Commons Attribution license, CC-BY. All code is made available under the FSF-approved MIT license. (c) Kyle T. Mandli</td>\n",
    "</table>"
   ]
  },
  {
   "cell_type": "code",
   "execution_count": 1,
   "metadata": {
    "slideshow": {
     "slide_type": "slide"
    }
   },
   "outputs": [],
   "source": [
    "from __future__ import print_function\n",
    "\n",
    "%matplotlib inline\n",
    "import numpy\n",
    "import matplotlib.pyplot as plt"
   ]
  },
  {
   "cell_type": "markdown",
   "metadata": {
    "slideshow": {
     "slide_type": "slide"
    }
   },
   "source": [
    "# Fontes de erro\n",
    "\n",
    "Os erros podem ter várias origens:\n",
    " - Erros no Modelo/Dados\n",
    " - Erros de Discretização\n",
    " - Erros de Convergência\n",
    " - Erros do sistema de representação (Sistema de virgula flutuante)\n",
    " \n",
    " \n",
    "**Objetivo:**  Categorizar e diferenciar cada tipo de erro e explorar algumas abordagens simples fazer a analise do erro e sua propagação."
   ]
  },
  {
   "cell_type": "markdown",
   "metadata": {
    "slideshow": {
     "slide_type": "slide"
    }
   },
   "source": [
    "## Erro no modelo ou dados\n",
    "\n",
    "Erros na formulação do problema\n",
    " - Lotka-Volterra - coelhos fracionários, sem extinções, etc.\n",
    " - Erro de dados - Imprecisão na medição ou incertezas nos parâmetros\n",
    " \n",
    "Infelizmente, não podemos controlar o erro de modelo e dados diretamente, mas podemos usar métodos que podem ser mais robustos na presença desses tipos de erros."
   ]
  },
  {
   "cell_type": "markdown",
   "metadata": {
    "slideshow": {
     "slide_type": "subslide"
    }
   },
   "source": [
    "## Erro de Discretização ou Truncamento\n",
    "\n",
    "Erros decorrentes da aproximação de uma função com uma função mais simples, por exemplo: Usar a aproximação $\\sin(x) \\approx x$ quando $|x| \\approx 0$. "
   ]
  },
  {
   "cell_type": "markdown",
   "metadata": {
    "slideshow": {
     "slide_type": "subslide"
    }
   },
   "source": [
    "## Erro do sistema de representação \n",
    "\n",
    "Erros decorrentes da aproximação de números reais com números de precisão e aritmética finitas."
   ]
  },
  {
   "cell_type": "markdown",
   "metadata": {
    "slideshow": {
     "slide_type": "subslide"
    }
   },
   "source": [
    "## Erro de convergência\n",
    "\n",
    "Em alguns casos, o algoritmo é iterativo. A solução é calculada por aproximações sucessivas com base numa aproximação inicial. O erro gerado em cada etapa é acumular ou aumentar em cada iteração. "
   ]
  },
  {
   "cell_type": "markdown",
   "metadata": {},
   "source": [
    "A palavra aproximação, como vamos usar, significa valor próximo do\n",
    "valor real duma grandeza que vem afecto duma incerteza. Onde a\n",
    "incerteza expressa a dúvida na validade do resultado duma medida. O\n",
    "valor duma grandeza submetida a medição costuma ser adquirida\n",
    "através dum procedimento que, em geral, envolve algum(s)\n",
    "instrumento(s) de medição.\n",
    "\n",
    "<img align=left src=\"./images/bug.jpg\">"
   ]
  },
  {
   "cell_type": "markdown",
   "metadata": {},
   "source": [
    "O próprio processo de medição, assim como o instrumento utilizado,\n",
    "tem limites de precisão e exatidão, ou seja toda a medição\n",
    "realizada tem uma incerteza associada. Neste sentido é usual usar\n",
    "expressões do tipo\n",
    "$$\\overline{x}\\pm M_x$$\n",
    "para expressar a medida duma grandeza $x$, onde $\\overline{x}$ é uma\n",
    "aproximação à medida de $x$ e o valor de $M_x$ quantifica a\n",
    "incerteza dessa medida. Assim o intervalo\n",
    "$[\\overline{x}-M_x,\\overline{x}+M_x]$ é denominado intervalo de\n",
    "confiança e tem, muitas vezes, uma probabilidade associada de que a\n",
    "medida de $x$ caia dentro da faixa de valores definida pelo\n",
    "intervalo, i.e.\n",
    "$$\n",
    "x\\in[\\overline{x}-M_x,\\overline{x}+M_x].\n",
    "$$\n",
    "São assim usuais as notações:\n",
    "$$\n",
    "x=\\overline{x}\\pm M_x\\text{ e } x=\\overline{x}(M_x).\n",
    "$$"
   ]
  },
  {
   "cell_type": "markdown",
   "metadata": {
    "slideshow": {
     "slide_type": "slide"
    }
   },
   "source": [
    "## Definições básicas\n",
    "\n",
    "Antes de explorar os diferentes tipos de erro, é importante primeiro definir como podemos quantificar o erro.\n",
    "\n",
    "\n",
    "Dado uma grandeza $x$ e sendo $\\overline{x}$ uma aproximação a essa\n",
    "grandeza chama-se \\emph{erro absoluto} do valor aproximado\n",
    "$\\overline{x}$ a \n",
    "$$|\\varepsilon_{\\overline{x}|}=|x-\\overline{x}|.$$\n",
    "Naturalmente se $x=\\overline{x}\\pm M_x$ temos\n",
    "$$M_x\\geq\\varepsilon_{\\overline{x}}.$$\n",
    "\n",
    "Muitas vezes é fundamental definir rankings de aproximação para\n",
    "determinadas grandezas através da comparação de aproximações. Nestes\n",
    "casos o erro absoluto não é suficientemente informativo. Definimos\n",
    "por isso:\n",
    "\n",
    "Dado uma grandeza $x\\neq0$ e sendo $\\overline{x}$ uma aproximação a\n",
    "essa grandeza chama-se erro relativo, $r_{\\overline{x}}$, do valor\n",
    "aproximado $\\overline{x}$ ao cociente em valor absoluto\n",
    "$$r_{\\overline{x}}=|\\frac{x-\\overline{x}}{c}|=|\\frac{\\varepsilon_{\\overline{x}}}{x}|.$$\n",
    "E ao produto $100\\times r_{\\overline{x}}$, expressão em percentagem,\n",
    "chama-se percentagem do erro, $P_\\varepsilon$"
   ]
  },
  {
   "cell_type": "markdown",
   "metadata": {},
   "source": [
    "### Exemplo\n",
    "\n",
    "Pediu-se a duas pessoas para contarem laranjas de dois cestos. A\n",
    "primeira contou 980 laranjas dum cesto de 1000 e a segunda contou\n",
    "480 dum cesto de 500. Apesar de cometerem o mesmo erro absoluto\n",
    "($\\varepsilon_1=20$ laranjas e $\\varepsilon_1=20$ laranjas) a\n",
    "segunda cometeu um erro maior, visto que $r_1=\\frac{20}{1000}=0.002$\n",
    "e $r_2=\\frac{20}{500}=0.04$."
   ]
  },
  {
   "cell_type": "markdown",
   "metadata": {},
   "source": [
    "Como não se conhece o valor exacto da grandeza $x$, tendo-se apenas\n",
    "a informação do tipo $x=\\overline{x}\\pm M_x$ toma-se para valor\n",
    "aproximado do erro relativo de $\\overline{x}$\n",
    "$$r_{\\overline{x}}\\approx\\frac{M_x}{|\\overline{x}|}$$\n",
    "e\n",
    "$$r_{\\overline{x}}\\leq\\frac{M_x}{\\overline{x}-M_x}$$"
   ]
  },
  {
   "cell_type": "markdown",
   "metadata": {
    "slideshow": {
     "slide_type": "subslide"
    }
   },
   "source": [
    "### Algarismos significativos\n",
    "\n",
    "O conceito de algarismos significativos foi desenvolvido para\n",
    "descrever formalmente a confiança que se tem num valor numérico como\n",
    "medida duma grandeza. Os algarismos significativos dum número são\n",
    "aqueles que podem ser usados com confiança. Correspondendo ao número\n",
    "de dígitos corretos mais um que é estimado.\n",
    "\n",
    "<img align=left src=\"./images/meter.jpg\">\n",
    "\n",
    "Em alguns casos a noção de algarismo significativo pode gerar alguma\n",
    "confusão. Por exemplo, nem sempre o zero é um algarismo\n",
    "significativo uma vez que podem ser usados para localizar a virgula.\n",
    "Os números 0.00001845, 0.0001845 e 0.001845 têm quatro algarismos\n",
    "significativos. Quando o zero aparece no fim de números grandes pode\n",
    "não ser claro que zeros, caso exista algum, são significativos. Por\n",
    "exemplo, 53000 pode ter três, quatro ou cinco algarismos\n",
    "significativos. Esta incerteza é resolvida com o recurso à notação\n",
    "científica.\n",
    "\n",
    "Na notação científica o valor da medição é expressa com auxílio duma\n",
    "produto por uma potência de 10. Escreve-se o valor da medição na\n",
    "forma decimal com apenas um digito diferente de zero antes da\n",
    "vírgula, completado com os restantes dígitos e multiplicado por uma\n",
    "potência de 10, i.e. é um decimal na forma\n",
    "$$\\pm d_0.d_1d_2\\ldots d_{p-1}\\times10^e$$\n",
    "onde $0\\leq d_0,d_1d_2\\ldots d_{p-1}\\leq 9$ são algarismos com\n",
    "$d_0\\neq0$. Denotado muitas vezes por\n",
    "$$\\pm d_0.d_1d_2\\ldots d_{p-1}Ee.$$\n",
    "\n",
    "Assim, podemos escrever de forma única (sem zeros à direita):\n",
    "$0.00001845=1.845E-5$, $0.0001845=1.845E-4$ e $0.001845=1.845E-3$.\n",
    "Escreveremos $4.53E4$, $4.530E4$ e $4.5300E4$ para representar que\n",
    "os números que têm respectivamente três, quatro e cinco algarismos\n",
    "significativos, respectivamente."
   ]
  },
  {
   "cell_type": "markdown",
   "metadata": {
    "slideshow": {
     "slide_type": "subslide"
    }
   },
   "source": [
    "O conceito pode ser formalizado usando a noção de erro absoluto:\n",
    "\n",
    "\n",
    "Seja $\\overline{x}$ uma aproximação para $x$. Diz-se que\n",
    "$\\overline{x}$ tem $k$ casas `decimais correctas` se e só se\n",
    "$$|\\varepsilon_x|\\leq0.5\\times10^{-k}.$$\n",
    "Diz-se que $\\overline{x}$ tem $k$ `algarismos significativos`\n",
    "se e só se $|r_x|\\leq5\\times10^{-k}$.\n"
   ]
  },
  {
   "cell_type": "markdown",
   "metadata": {
    "slideshow": {
     "slide_type": "fragment"
    }
   },
   "source": [
    "Exemplo\n",
    "* if $r = 0.001 < 5\\times10^{-3}$ tem $k=3$ dígitos significativos\n",
    "* if $r = 0.006 < 5\\times10^{-2}$ has $k=2$ dígitos significativos (porque esse erro causaria arredondamento) "
   ]
  },
  {
   "cell_type": "markdown",
   "metadata": {},
   "source": [
    "O número de algarismos significativos é importante para definir a\n",
    "precisão que se tem nos dados, bem como para avaliar a utilidade que\n",
    "têm os resultados dos métodos numéricos. A incerteza que se tem nos\n",
    "dados é propagada ao output dos métodos, degradando a confiança que\n",
    "se tem nos resultados. Este facto é motivada, para além dos erros de\n",
    "aproximação iniciais, à estrutura usada para representar a\n",
    "informação e à natureza do próprio algoritmo."
   ]
  },
  {
   "cell_type": "markdown",
   "metadata": {
    "slideshow": {
     "slide_type": "subslide"
    }
   },
   "source": [
    "### Exemplo\n",
    "\n",
    "Seja\n",
    "$$\n",
    "    f = e^1,\\quad F=2.71\n",
    "$$"
   ]
  },
  {
   "cell_type": "code",
   "execution_count": 2,
   "metadata": {
    "hide_input": false
   },
   "outputs": [
    {
     "name": "stdout",
     "output_type": "stream",
     "text": [
      "f = 2.718281828459045\n",
      "F = 2.71\n",
      "Erro absoluto: 0.008281828459045126\n",
      "Erro relativo: 0.0030467144253912685\n",
      "Precisão decimal: 3\n"
     ]
    }
   ],
   "source": [
    "f = numpy.exp(1.)\n",
    "F = 2.71\n",
    "e = numpy.abs(f - F)\n",
    "r = e/numpy.abs(f)\n",
    "p = int(-numpy.log10(r/5.))\n",
    "print('f = {}'.format(f))\n",
    "print('F = {}'.format(F))\n",
    "\n",
    "print('Erro absoluto: {}'.format(e))\n",
    "print('Erro relativo: {}'.format(r))\n",
    "print('Precisão decimal: {}'.format(p))"
   ]
  },
  {
   "cell_type": "markdown",
   "metadata": {},
   "source": [
    "### Erros de Truncatura\n",
    "\n",
    "É usual encarar os erros de truncatura como erros associados a\n",
    "processos de desratização do universo. São motivados pela tentativa\n",
    "de tornar finitos processos que são por natureza infinitos. Isto é\n",
    "motivado pela necessidade de tornar computáveis procedimentos que à\n",
    "partida não o são, i.e. não podem ser implementados e executados num\n",
    "computador num número finito de passos.\n",
    "\n"
   ]
  },
  {
   "cell_type": "markdown",
   "metadata": {},
   "source": [
    "Muitas das constantes e funções usadas em matemática são descritos\n",
    "de forma \"simples\" e eficiente por procedimentos que envolvem um\n",
    "número infinito de passos. Por exemplo a constante $\\pi$ é definida\n",
    "como sendo:\n",
    "\n",
    "$\\pi$ é a razão entre o perímetro e o diâmetro de qualquer circulo.\n",
    "\n",
    "O seu valor tem sido aproximado desde a antiguidade. Os babilónicos\n",
    "anteriores ao século XIX antes de Cristo usavam $\\pi\\approx25/8$, o\n",
    "que corresponde a uma aproximação com um erro relativo de $0.5\\%$.\n",
    "Os Egípcios faziam $\\pi\\approx256/81$.\n",
    "\n",
    "[Arquimedes usando o método da exaustão](https://en.wikipedia.org/wiki/Method_of_exhaustion), aproximou o perímetro dum\n",
    "usando dois polígonos com 96 vértices, um inscrito no circulo de\n",
    "vértice no circulo, o outro maior, contendo o circulo e tais que a\n",
    "aresta são tangents ao circulo, concluiu que $\\pi$ está entre\n",
    "$223/71$ e $22/7$. Aumentando o número de vértices usadas no método\n",
    "para definir os polígono podemos reduzir o intervalo de incerteza\n",
    "aumentando o número de dígitos significativos da aproximação. A\n",
    "amplitude do intervalo de confiança pode ser visto como o erro de\n",
    "truncatura já que quando o número de vértices dos polígonos tende\n",
    "para infinito o comprimento dos polígonos tende para o perímetro da\n",
    "circunferência.\n",
    "![title](./images/300px-Archimedes_pi.svg)"
   ]
  },
  {
   "cell_type": "markdown",
   "metadata": {},
   "source": [
    "Esta grandeza pode ser quantificada pela série:\n",
    "$$\\pi=4-\\frac{4}{3}+\\frac{4}{5}-\\frac{4}{7}-\\ldots.$$\n",
    "Esta expressão permitamos determinar aproximações para a constante.\n",
    "Esta aproximação será tanto melhor quanto maior for o número de\n",
    "termos que se usar. Assim, vamos chamar erro de truncatura à\n",
    "aproximação definida pelos primeiros $n$ termos à soma dos restantes\n",
    "termos. Neste caso prova-se que, o erro de truncatura usando os\n",
    "primeiros $n$ termos é maior do que $(2n)^{-1}$ convergindo muito\n",
    "lentamente para $\\pi$. Para obtermos duas casas decimais exactas\n",
    "necessitamos de somar os primeiros 300 termos.\n",
    "\n",
    "\n",
    "|$n$ | soma dos $n$ termos | erro de truncatura |\n",
    "|----|--------------------|---------------|\n",
    "|  1 |  4.000000000000000 |  0.8584073464 |\n",
    "|  2 |  2.666666666666670 |  0.4749259869 |\n",
    "|  3 |  3.466666666666670 |  0.3250740131 |\n",
    "|  4 |  2.895238095238100 |  0.2463545584 |\n",
    "|  5 |  3.339682539682540 |  0.1980898861 |\n",
    "|  6 |  2.976046176046180 |  0.1655464775 |\n",
    "|  $\\vdots$ | $\\vdots$ | $\\vdots$ |\n",
    "|341 |  3.144525198604630 |  0.0029325450 |\n",
    "|342 |  3.138668683231280 | 0.0029239704 |\n",
    "|343 |  3.144508099289670 | 0.0029154457 |\n",
    "|344 |  3.138685682986910 | 0.0029069706 |\n",
    "|345 |  3.144491198226380 | 0.0028985446 |\n",
    "|346 |  3.138702486214810 | 0.0028901674 |"
   ]
  },
  {
   "cell_type": "markdown",
   "metadata": {},
   "source": [
    "Existem procedimentos para aproximar $\\pi$ muito mais eficientes. Um\n",
    "exemplo extraordinário foi descoberto por [Ramanujan](https://en.wikipedia.org/wiki/Srinivasa_Ramanujan) em 1914\n",
    "apresentado através da série\n",
    "$$\n",
    "\\frac{1}{\\pi}=\\frac{\\sqrt{8}}{9801}\\sum_{n=0}^\\infty\\frac{(4n)!}{(n!)^4}\\frac{[1103+26390n]}{396^{4n}}\n",
    "$$\n",
    "Que permite implementar algoritmos muito eficientes para calcular\n",
    "aproximações a $\\pi$."
   ]
  },
  {
   "cell_type": "markdown",
   "metadata": {},
   "source": [
    "Estes processos infinitos aparecem muitas vezes associados à\n",
    "definição de funções por séries de potência. Por exemplo no caso de\n",
    "$$\\pi=4-\\frac{4}{3}+\\frac{4}{5}-\\frac{4}{7}-\\ldots.$$\n",
    "usou-se o desenvolvimento da função $\\arctan$ como série de\n",
    "potência: $$\\arctan\n",
    "x=x-\\frac{x^3}{3}+\\frac{x^5}{5}-\\frac{x^7}{7}+\\ldots$$ e tivemos em\n",
    "conta que $\\arctan(1)=\\frac{\\pi}{4}$."
   ]
  },
  {
   "cell_type": "markdown",
   "metadata": {},
   "source": [
    "O processo mais simples para a sua obtenção destes desenvolvimentos\n",
    "é descrito no resultado enunciado por [Brook Taylor](https://en.wikipedia.org/wiki/Brook_Taylor) em 1715:\n",
    "\n",
    "#### Terorema de Taylor\n",
    "Se $f$ admite derivadas contínuas até à ordem $n$ (inclusivé) em\n",
    "$[a,b]$, isto é, se $f\\in C^n([a,b])$, e se $f^{(n+1)}$ existe em\n",
    "$]a,b[$, então\n",
    "$$f(x)=T_n(x,x_0)+R_n(x;x_0),$$\n",
    "onde\n",
    "$$T_n(x,x_0)=\\sum_{k=0}^n\\frac{f^{(k)}(x_0)}{k!}(x-x_0)^k$$\n",
    "e\n",
    "$$\n",
    "R_n(x;x_0)=\\frac{f^{(n+1)}(\\xi)}{(n+1)!}(x-x_0)^{n+1},\\, \\xi\\in\n",
    "I\\{x,x_0\\}\n",
    "$$\n",
    "sendo $I\\{x,x_0\\}$ o intervalo aberto definido por $x$ e $x_0$.\n",
    "\n",
    "\n",
    "A $f(x)=T_n(x,x_0)+R_n(x;x_0)$ chamamos `fórmula de Taylor` sendo\n",
    "$T_n(x;x_0)$ o `polinómio de Taylor` de $f$ em torno do ponto $x_0$ e\n",
    "$R_n(x;x_0)$ o `resto (de Lagrange)` de ordem $n$ (ou de grau $n+1$).\n",
    "\n",
    "\n",
    "Se $x_0=0$ à fórmula de Taylor $f(x)=T_n(x,0)+R_n(x;0)$ chamaremos\n",
    "`fórmula de Maclaurin`."
   ]
  },
  {
   "cell_type": "markdown",
   "metadata": {},
   "source": [
    "Atente-se ao grande interesse prático deste resultado que afirma\n",
    "que, mediante certas condições, uma função pode ser escrita como a\n",
    "soma de um polinómio com um resto. Escolhendo valores de $x$ e $x_0$\n",
    "tais que\n",
    "$$\n",
    "\\lim_{n\\rightarrow+\\infty}R_n(x;x_0)=0\n",
    "$$\n",
    "temos que, a partir dum valor para $n$ suficientemente grande, a\n",
    "função dada pode ser aproximada pelo seu polinómio de Taylor. Assim,\n",
    "como qualquer operação a efetuar sobre a função (derivação, integração,\n",
    "etc)."
   ]
  },
  {
   "cell_type": "markdown",
   "metadata": {},
   "source": [
    "### Exemplo\n",
    "\n",
    "Por exemplo a função $f(x)=e^x$ é de classe $C^\\infty$ (i.e. admite\n",
    "derivadas contínuas de todas as ordens, $f^{(n)}(x)=e^x$) tem por\n",
    "desenvolvimento em série de Maclaurin\n",
    "$$\n",
    "e^x=\\sum_{k=0}^\\infty\\frac{x^k}{k!}.\n",
    "$$\n",
    "Assim, fixando um valor para $n$, temos que\n",
    "$$\n",
    "e^x=1+x+\\frac{x^2}{2}+\\frac{x^3}{3!}+\\frac{x^4}{4!}+\\ldots+\\frac{x^n}{n!},\n",
    "$$\n",
    "com\n",
    "$$\n",
    "|R_n(x;x_0)|\\leq\\frac{e^x}{(n+1)!}|x^{n+1}|\\leq\\frac{3^x}{(n+1)!}|x^{n+1}|.\n",
    "$$\n",
    "Apresentamos numa tabela o erro absoluto provocado pela truncatura\n",
    "da série aos primeiros 16 termos quando\n",
    "$x\\in\\{0.1,0.5,1.0,0.5,2.0\\}$.\n",
    "\n",
    "\n",
    "|    | 0.1 | 0.5 | 1.0 | 1.5 | 2.0 |\n",
    "|--- | --- | --- | --- | --- | --- |\n",
    "|1 |  0.005580616 | 0.216506351| 1.500000000| 5.845671476| 18.0000000|\n",
    "| 2 |  0.000186021| 0.036084392| 0.500000000 |2.922835738| 12.0000000|\n",
    "| 3 |  0.000004651| 0.004510549| 0.125000000 |1.096063402| 6.000000000|\n",
    "| 4 |  0.000000093| 0.000451055| 0.025000000 |0.328819020| 2.400000000|\n",
    "| 5 |  0.000000002| 0.000037588| 0.004166667 |0.082204755| 0.800000000|\n",
    "| 6| 0.000000000| 0.000002685| 0.000595238| 0.017615305| 0.228571429|\n",
    "|7| 0.000000000| 0.000000168| 0.000074405| 0.003302870| 0.057142857|\n",
    "| 8| 0.000000000| 0.000000009| 0.000008267| 0.000550478| 0.012698413 |\n",
    "|9| 0.000000000| 0.000000000| 0.000000827| 0.000082572| 0.002539683|\n",
    "| 10| 0.000000000| 0.000000000| 0.000000075| 0.000011260| 0.000461760 |\n",
    "|11| 0.000000000| 0.000000000| 0.000000006| 0.000001407| 0.000076960|\n",
    "| 12| 0.000000000| 0.000000000| 0.000000000| 0.000000162| 0.000011840 |\n",
    "|13| 0.000000000| 0.000000000| 0.000000000| 0.000000017| 0.000001691|\n",
    "| 14| 0.000000000| 0.000000000| 0.000000000| 0.000000002| 0.000000226 |\n",
    "|15| 0.000000000| 0.000000000| 0.000000000| 0.000000000| 0.000000028|\n",
    "| 16| 0.000000000| 0.000000000| 0.000000000| 0.000000000| 0.000000003 |\n",
    "|17| 0.000000000| 0.000000000| 0.000000000| 0.000000000| 0.000000000|\n",
    "\n",
    "Assim, para determinar uma aproximação ao valor de $e^2$ com 3 casas\n",
    "decimais correctas temos de definir o polinómio de Taylor de ordem,\n",
    "pelo menos,10. Assim temos\n",
    "$$\n",
    "e^2\\approx\\sum_{k=0}^{10}\\frac{x^k}{k!}=7.38899470899\\approx7.389.\n",
    "$$"
   ]
  },
  {
   "cell_type": "markdown",
   "metadata": {
    "slideshow": {
     "slide_type": "slide"
    }
   },
   "source": [
    "### Notação Big-O\n",
    "\n",
    "Nestas situações, uma aproximação ao valor de uma função tem um parâmetro associado (no nosso exemplo número de termos) , e o valor desse parâmetro geralmente é escolhido para garantir que o erro seja aceitável para um problema particular. Em tais circunstâncias, geralmente queremos saber o impacto no erro se alterarmos o valor do parâmetro. Isso levou à definição da notação Big-O:\n",
    "$$\n",
    "    f(x) =  O(g(x)) \\quad \\text{quando} \\quad x \\rightarrow a\n",
    "$$ \n",
    "se e só se\n",
    "$$\n",
    "    |f(x)| \\leq M |g(x)| \\quad \\text{quando}\\quad  |x - a| < \\delta \\quad \\text{onde} \\quad M,a > 0.\n",
    "$$ \n",
    "\n",
    "Na prática, recorremos à notação Big-O para identificar a ordem dos termos que se deixa de fora  numa série. Vimos um exemplo disso com as aproximações usando séries de Taylor."
   ]
  },
  {
   "cell_type": "markdown",
   "metadata": {},
   "source": [
    "#### Exemplo:\n",
    "\n",
    "Por exemplo para $f(x)=e^x$ é de classe $C^\\infty$ que tem por\n",
    "desenvolvimento em série de Maclaurin\n",
    "$$\n",
    "e^x=\\sum_{k=0}^nfty\\frac{x^k}{k!}.\n",
    "$$\n",
    "ou seja \n",
    "$$\n",
    "e^x=1+x+\\frac{x^2}{2}+\\frac{x^3}{3!}+\\frac{x^4}{4!}+\\ldots\n",
    "$$\n",
    "pode ser escrita para $x\\approx0$ usando notação Big-O como\n",
    "$$\n",
    "e^x=1+x+\\frac{x^2}{2}+\\frac{x^3}{3!}+O(x^4)\n",
    "$$\n",
    "$$\n",
    "e^x=1+x+\\frac{x^2}{2}+O(x^3)\n",
    "$$\n",
    "$$\n",
    "e^x=1+x+O(x^2)\n",
    "$$\n",
    "$$\n",
    "e^x=1+O(x)\n",
    "$$"
   ]
  },
  {
   "cell_type": "markdown",
   "metadata": {
    "slideshow": {
     "slide_type": "subslide"
    }
   },
   "source": [
    "#### Exemplo:\n",
    "Dado $f(x) = \\sin x$ with $x_0 = 0$,  então o polinómio de Taylor (série truncada de Taylor) de $f(x)$ expandido em torno de $x_0=0$ é\n",
    "\n",
    "$$T_N(x) = \\sum^N_{n=0} (-1)^{n} \\frac{x^{2n+1}}{(2n+1)!}$$\n",
    "\n"
   ]
  },
  {
   "cell_type": "markdown",
   "metadata": {
    "slideshow": {
     "slide_type": "subslide"
    }
   },
   "source": [
    "Para $N=2$, podemos escrever $f(x)$  como\n",
    "\n",
    "$$f(x) = x - \\frac{x^3}{6} + \\frac{x^5}{120} + O(x^7)$$\n",
    "\n",
    "Isso é  mais útil quando usamos  $x = x_0 + \\Delta x$:\n",
    "\n",
    "$$f(\\Delta x) = \\Delta x - \\frac{\\Delta x^3}{6} + \\frac{\\Delta x^5}{120} + O(\\Delta x^7)$$"
   ]
  },
  {
   "cell_type": "markdown",
   "metadata": {
    "slideshow": {
     "slide_type": "subslide"
    }
   },
   "source": [
    "**Podemos desenvolver regras para a propagação de erros com base na notação Big-O:**\n",
    "\n",
    "Em geral, podemos derivar dois resultados  para valor de $x$ é grande:\n",
    "\n",
    "Seja\n",
    "$$\\begin{aligned}\n",
    "    f(x) &= p(x) + O(x^n) \\\\\n",
    "    g(x) &= q(x) + O(x^m) \\\\\n",
    "    k &= \\max(n, m)\n",
    "\\end{aligned}$$\n",
    "Então\n",
    "$$\n",
    "    f+g = p + q + O(x^k)\n",
    "$$\n",
    "e\n",
    "\\begin{align}\n",
    "    f \\cdot g &= p \\cdot q + p O(x^m) + q O(x^n) + O(x^{n + m}) \\\\\n",
    "    &= p \\cdot q + O(x^{n+m})\n",
    "\\end{align}"
   ]
  },
  {
   "cell_type": "markdown",
   "metadata": {
    "slideshow": {
     "slide_type": "subslide"
    }
   },
   "source": [
    "Por outro lado, para valores pequenos de $x$, digamos $\\Delta x$, as expressões anteriores podem ser modificadas da seguinte maneira:\n",
    "\n",
    "Caso\n",
    "\\begin{align}\n",
    "    f(\\Delta x) &= p(\\Delta x) + O(\\Delta x^n) \\\\\n",
    "    g(\\Delta x) &= q(\\Delta x) + O(\\Delta x^m) \\\\\n",
    "    r &= \\min(n, m)\n",
    "\\end{align}\n",
    "Temos\n",
    "$$\n",
    "    f+g = p + q + O(\\Delta x^r)\n",
    "$$\n",
    "e\n",
    "\\begin{align}\n",
    "    f \\cdot g &= p \\cdot q + p \\cdot O(\\Delta x^m) + q \\cdot O(\\Delta x^n) + O(\\Delta x^{n+m}) \\\\\n",
    "    &= p \\cdot q + O(\\Delta x^r)\n",
    "\\end{align}"
   ]
  },
  {
   "cell_type": "markdown",
   "metadata": {
    "slideshow": {
     "slide_type": "skip"
    }
   },
   "source": [
    "**Nota:** Nesse caso, supomos que pelo menos um polinômio com $k = \\max(n, m)$ tem o seguinte formato: \n",
    "\n",
    "$$\n",
    "    p(\\Delta x) = 1 + p_1 \\Delta x + p_2 \\Delta x^2 + \\ldots\n",
    "$$\n",
    "ou\n",
    "$$\n",
    "    q(\\Delta x) = 1 + q_1 \\Delta x + q_2 \\Delta x^2 + \\ldots\n",
    "$$\n",
    "\n",
    "assim existe pelo menos um termo $\\mathcal{O}(1)$ para garantir a existênsia de $\\mathcal{O}(\\Delta x^r)$ no produto final. "
   ]
  },
  {
   "cell_type": "markdown",
   "metadata": {
    "slideshow": {
     "slide_type": "skip"
    }
   },
   "source": [
    "Para entender por que nos preocupamos mais com a potência em $\\Delta x$ ao considerar a convergência, a figura a seguir mostra como diferentes potências na taxa de convergência podem afetar a rapidez com que convergimos para a nossa solução. Observe que estamos a espoçar as funções de duas maneiras diferentes. Traçamos o erro em função de $\\Delta x$ é a maneira usual de mostrar que um método numérico converge. Como os erros podem diminuir rapidamente, é muito comum desenhar esses tipos de gráficos a uma escala de logarítmica para facilitar visualização  dos resultados. Observe que, se um método for realmente da ordem $n$, o erro é uma função linear no espaço na escala de logarítmica com a inclinação $n$.\n"
   ]
  },
  {
   "cell_type": "markdown",
   "metadata": {
    "slideshow": {
     "slide_type": "skip"
    }
   },
   "source": [
    "#### Comportamento do erro em função de $\\Delta x$"
   ]
  },
  {
   "cell_type": "code",
   "execution_count": 3,
   "metadata": {
    "hide_input": true,
    "slideshow": {
     "slide_type": "skip"
    }
   },
   "outputs": [
    {
     "data": {
      "image/png": "[encoded data removed]",
      "text/plain": [
       "<Figure size 864x288 with 2 Axes>"
      ]
     },
     "metadata": {
      "needs_background": "light"
     },
     "output_type": "display_data"
    }
   ],
   "source": [
    "dx = numpy.linspace(1.0, 1e-4, 100)\n",
    "\n",
    "fig = plt.figure()\n",
    "fig.set_figwidth(fig.get_figwidth() * 2.0)\n",
    "axes = []\n",
    "axes.append(fig.add_subplot(1, 2, 1))\n",
    "axes.append(fig.add_subplot(1, 2, 2))\n",
    "\n",
    "for n in range(1, 5):\n",
    "    axes[0].plot(dx, dx**n, label=\"$\\Delta x^%s$\" % n)\n",
    "    axes[1].loglog(dx, dx**n, label=\"$\\Delta x^%s$\" % n)\n",
    "\n",
    "axes[0].legend(loc=2)\n",
    "axes[1].set_xticks([10.0**(-n) for n in range(5)])\n",
    "axes[1].set_yticks([10.0**(-n) for n in range(16)])\n",
    "axes[1].legend(loc=4)\n",
    "for n in range(2):\n",
    "    axes[n].set_title(\"Crescimento do erro vs. $\\Delta x^n$\")\n",
    "    axes[n].set_xlabel(\"$\\Delta x$\")\n",
    "    axes[n].set_ylabel(\"Erro estimado\")\n",
    "\n",
    "plt.show()"
   ]
  },
  {
   "cell_type": "markdown",
   "metadata": {
    "slideshow": {
     "slide_type": "slide"
    }
   },
   "source": [
    "Do Teorema de Taylor temos que  para $f(x) \\in C^{m+1}[a,b]$ e $x_0 \\in [a,b]$, para todo $x \\in (a,b)$ existe um número $c = c(x)$ entre $x_0$ e $x$ tal que\n",
    "\n",
    "$$ f(x) = T_N(x) + R_N(x)$$\n",
    "\n",
    "onde $T_N(x)$ é a aproximação polinomial de Taylor\n",
    "\n",
    "$$T_N(x) = \\sum^N_{n=0} \\frac{f^{(n)}(x_0)\\cdot(x-x_0)^n}{n!}$$\n",
    "\n",
    "e $R_N(x)$ é o residual (a parte da série que paramos)\n",
    "\n",
    "$$R_N(x) = \\frac{f^{(n+1)}(c) \\cdot (x - x_0)^{n+1}}{(n+1)!}$$"
   ]
  },
  {
   "cell_type": "markdown",
   "metadata": {
    "slideshow": {
     "slide_type": "subslide"
    }
   },
   "source": [
    "### Nota\n",
    "\n",
    "\n",
    "O residual:\n",
    "\n",
    "$$\n",
    "    R_N(x) = \\frac{f^{(n+1)}(c) \\cdot (x - x_0)^{n+1}}{(n+1)!}\n",
    "$$\n",
    "depende da derivada de ordem $ n + 1 $ de $ f $ avaliado num valor **desconhecido** $c\\in[x,x_0]$. "
   ]
  },
  {
   "cell_type": "markdown",
   "metadata": {
    "slideshow": {
     "slide_type": "fragment"
    }
   },
   "source": [
    "Se soubéssemos o valor de $c$, saberíamos o valor exato de $R_N(x)$ e, portanto, a função $f(x)$. Em geral, não conhecemos esse valor, mas podemos usar $R_N(x)$ para majorar o limites superiores no erro **e** para compreender como o erro varia à medida que nos afastamos de $x_0$."
   ]
  },
  {
   "cell_type": "markdown",
   "metadata": {
    "slideshow": {
     "slide_type": "subslide"
    }
   },
   "source": [
    "Comece substituindo $x - x_0$ por $\\Delta x$.  A idéia principal aqui é que o residual $R_N(x)$ se torne pequeno quando $\\Delta x \\rightarrow 0$ (em que ponto point $T_N(x) = f(x_0)$).\n",
    "\n",
    "$$\n",
    "    T_N(x) = \\sum^N_{n=0} \\frac{f^{(n)}(x_0)\\cdot\\Delta x^n}{n!}\n",
    "$$\n",
    "\n",
    "e $R_N(x)$ é o residuo (a parte da série que paramos)\n",
    "\n",
    "$$\n",
    "    R_N(x) = \\frac{f^{(n+1)}(c) \\cdot \\Delta x^{n+1}}{(n+1)!} \\leq M \\Delta x^{n+1} = O(\\Delta x^{n+1})\n",
    "$$\n",
    "\n",
    "onde $M$ é um limite superior (majorante) de\n",
    "$$\n",
    "    \\frac{f^{(n+1)}(c)}{(n+1)!}\n",
    "$$"
   ]
  },
  {
   "cell_type": "markdown",
   "metadata": {
    "slideshow": {
     "slide_type": "subslide"
    }
   },
   "source": [
    "#### Exemplo 1\n",
    "\n",
    "$f(x) = e^x$ com $x_0 = 0$ no intervalo $x\\in(-1,1)$\n",
    "\n",
    "Usando isso, podemos encontrar expressões para o erro relativo e absoluto em função de $x$ assumindo como exemplo $N=2$."
   ]
  },
  {
   "cell_type": "markdown",
   "metadata": {
    "slideshow": {
     "slide_type": "subslide"
    }
   },
   "source": [
    "Derivadas:\n",
    "$$\\begin{aligned}\n",
    "    f'(x) &= e^x \\\\\n",
    "    f''(x) &= e^x \\\\ \n",
    "    f^{(n)}(x) &= e^x\n",
    "\\end{aligned}$$\n",
    "\n",
    "Polinómios de Taylor:\n",
    "$$\\begin{aligned}\n",
    "    T_N(x) &= \\sum^N_{n=0} e^0 \\frac{x^n}{n!} \\Rightarrow \\\\\n",
    "    T_2(x) &= 1 + x + \\frac{x^2}{2}\n",
    "\\end{aligned}$$"
   ]
  },
  {
   "cell_type": "markdown",
   "metadata": {
    "slideshow": {
     "slide_type": "subslide"
    }
   },
   "source": [
    "O resíduo:\n",
    "$$\\begin{aligned}\n",
    "    R_N(x) &= e^c \\frac{x^{n+1}}{(n+1)!} = e^c \\cdot \\frac{x^3}{6} \\quad \\Rightarrow \\\\\n",
    "    R_2(x) &\\leq \\frac{e^1}{6} \\approx 0.5\n",
    "\\end{aligned}$$\n",
    "\n",
    "Precisão:\n",
    "\\begin{align}\n",
    "    \\exp(1) &= 2.718\\ldots \\\\\n",
    "    T_2(1) &= 2.5 \n",
    "\\end{align}\n",
    "\n",
    "$$\n",
    "\\Rightarrow e \\approx 0.2,\\quad r \\approx 0.08,\\quad p = 1 \n",
    "$$"
   ]
  },
  {
   "cell_type": "markdown",
   "metadata": {
    "slideshow": {
     "slide_type": "subslide"
    }
   },
   "source": [
    "Em Python podemos usar a biblioteca sympy, que tem a capacidade de calcular polinómios de Taylor!"
   ]
  },
  {
   "cell_type": "code",
   "execution_count": 4,
   "metadata": {
    "slideshow": {
     "slide_type": "-"
    }
   },
   "outputs": [
    {
     "data": {
      "image/png": "[encoded data removed]",
      "text/latex": [
       "$\\displaystyle 1 + x + \\frac{x^{2}}{2} + O\\left(x^{3}\\right)$"
      ],
      "text/plain": [
       "         2        \n",
       "        x     ⎛ 3⎞\n",
       "1 + x + ── + O⎝x ⎠\n",
       "        2         "
      ]
     },
     "execution_count": 4,
     "metadata": {},
     "output_type": "execute_result"
    }
   ],
   "source": [
    "import sympy\n",
    "sympy.init_printing(pretty_print=True)\n",
    "x = sympy.symbols('x')\n",
    "f = sympy.exp(x)\n",
    "f.series(x0=0, n=3) "
   ]
  },
  {
   "cell_type": "code",
   "execution_count": 5,
   "metadata": {
    "slideshow": {
     "slide_type": "fragment"
    }
   },
   "outputs": [
    {
     "name": "stdout",
     "output_type": "stream",
     "text": [
      "T_n = 2.5, e = 0.2182818284590451, r = 0.08030139707139415, p = 1\n"
     ]
    }
   ],
   "source": [
    "x = 1.\n",
    "Tn = 1 + x + x**2/2\n",
    "f = numpy.exp(1.)\n",
    "e = numpy.abs(f-Tn)\n",
    "r = e/f\n",
    "p = int(-numpy.log10(r/5.))\n",
    "print(\"T_n = {}, e = {}, r = {}, p = {}\".format(Tn,e,r,p))"
   ]
  },
  {
   "cell_type": "markdown",
   "metadata": {
    "slideshow": {
     "slide_type": "subslide"
    }
   },
   "source": [
    "Representemos graficamente isso para num intervalo de $x$."
   ]
  },
  {
   "cell_type": "code",
   "execution_count": 6,
   "metadata": {
    "slideshow": {
     "slide_type": "subslide"
    }
   },
   "outputs": [
    {
     "data": {
      "image/png": "[encoded data removed]",
      "text/plain": [
       "<Figure size 576x432 with 1 Axes>"
      ]
     },
     "metadata": {
      "needs_background": "light"
     },
     "output_type": "display_data"
    }
   ],
   "source": [
    "x = numpy.linspace(-1, 1, 100)\n",
    "f = numpy.exp(x)\n",
    "T_N = 1.0 + x + x**2 / 2.0\n",
    "R_N = numpy.exp(1) * x**3 / 6.0\n",
    "\n",
    "plt.figure(figsize=(8,6))\n",
    "plt.plot(x, T_N, 'r', x, f, 'k', x, R_N, 'b')\n",
    "plt.plot(x,numpy.exp(x)-T_N,'g--')\n",
    "plt.plot(0.0, 1.0, 'o', markersize=10)\n",
    "plt.grid()\n",
    "plt.xlabel(\"x\",fontsize=16)\n",
    "plt.ylabel(\"$f(x)$, $T_N(x)$, $R_N(x)$\", fontsize=16)\n",
    "plt.legend([\"$T_N(x)$\", \"$f(x)$\", \"$R_N(x)$\", \"e(x)\"], loc=2)\n",
    "plt.show()"
   ]
  },
  {
   "cell_type": "markdown",
   "metadata": {
    "slideshow": {
     "slide_type": "slide"
    }
   },
   "source": [
    "#### Exemplo 2\n",
    "\n",
    "Aproxime\n",
    "$$\n",
    "    f(x) = \\frac{1}{x} \\quad x_0  = 1,\n",
    "$$\n",
    "na vizinhança de $x_0 = 1$ usando o polinómio de Taylor de ordem 2."
   ]
  },
  {
   "cell_type": "markdown",
   "metadata": {
    "slideshow": {
     "slide_type": "subslide"
    }
   },
   "source": [
    "$$\n",
    "\\begin{matrix}\n",
    "f'(x) = -\\frac{1}{x^2}, &  f''(x) = \\frac{2}{x^3}, & f'''(x) = -\\frac{6}{x^4}, & \\ldots, & f^{(n)}(x) &= \\frac{(-1)^n n!}{x^{n+1}}\n",
    "\\end{matrix}\n",
    "$$\n",
    "\n",
    "$$\n",
    "\\begin{aligned}\n",
    "    T_N(x) &= \\sum^N_{n=0} (-1)^n (x-1)^n \\Rightarrow \\\\\n",
    "    T_2(x) &= 1 - (x - 1) + (x - 1)^2\n",
    "\\end{aligned}\n",
    "$$\n",
    "\n",
    "\n",
    "$$\n",
    "\\begin{aligned}\n",
    "    R_N(x) &= \\frac{(-1)^{n+1}(x - 1)^{n+1}}{c^{n+2}} \\Rightarrow \\\\\n",
    "    R_2(x) &= \\frac{-(x - 1)^{3}}{c^{4}}\n",
    "\\end{aligned}\n",
    "$$"
   ]
  },
  {
   "cell_type": "markdown",
   "metadata": {
    "slideshow": {
     "slide_type": "subslide"
    }
   },
   "source": [
    "### Gráfico deste problema"
   ]
  },
  {
   "cell_type": "code",
   "execution_count": 7,
   "metadata": {
    "hide_input": true,
    "slideshow": {
     "slide_type": "-"
    }
   },
   "outputs": [
    {
     "data": {
      "image/png": "[encoded data removed]",
      "text/plain": [
       "<Figure size 576x432 with 1 Axes>"
      ]
     },
     "metadata": {
      "needs_background": "light"
     },
     "output_type": "display_data"
    }
   ],
   "source": [
    "x = numpy.linspace(0.8, 2, 100)\n",
    "f = 1.0 / x\n",
    "T_N = 1.0 - (x-1) + (x-1)**2\n",
    "R_N = -(x-1.0)**3 / (1.**4)\n",
    "\n",
    "plt.figure(figsize=(8,6))\n",
    "plt.plot(x, T_N, 'r', x, f, 'k', x, R_N, 'b')\n",
    "plt.plot(x,f - T_N,'g--')\n",
    "plt.plot(1.0, 1.0, 'o', markersize=10)\n",
    "plt.grid(True)\n",
    "plt.xlabel(\"x\",fontsize=16)\n",
    "plt.ylabel(\"$f(x)$, $T_N(x)$, $R_N(x)$\",fontsize=16)\n",
    "plt.title('$f(x) = 1/x$',fontsize=18)\n",
    "plt.legend([\"$T_N(x)$\", \"$f(x)$\", \"$R_N(x)$\", '$e(x)$'], loc='best')\n",
    "plt.show()"
   ]
  },
  {
   "cell_type": "markdown",
   "metadata": {
    "slideshow": {
     "slide_type": "slide"
    }
   },
   "source": [
    "### Questão Computacional #1: Precisão ... quantos termos?\n",
    "\n",
    "Dada uma aproximação polinomial de Taylor de uma função analítica  arbitrária $f(x)$,  como determinamos quantos termos são necessários para que $R_N(x)<tol$. E como determinamos a tolerância?"
   ]
  },
  {
   "cell_type": "markdown",
   "metadata": {
    "slideshow": {
     "slide_type": "subslide"
    }
   },
   "source": [
    "### Questão Computacional #2 Eficiência ... Contagem de operações para a avaliação do polinomial\n",
    "\n",
    "Dado \n",
    "\n",
    "$$P_N(x) = a_0 + a_1 x + a_2 x^2 + \\ldots + a_N x^N$$ \n",
    "\n",
    "ou\n",
    "\n",
    "$$P_N(x) = p_0 x^N + p_1 x^{N-1} + p_2 x^{N-2} + \\ldots + p_{N}$$\n",
    "\n",
    "qual é a forma mais **eficiente** de avaliar $P_N(x)$? (i.e. minimizar o número de operações de ponto flutuante)"
   ]
  },
  {
   "cell_type": "markdown",
   "metadata": {
    "slideshow": {
     "slide_type": "subslide"
    }
   },
   "source": [
    "Considere duas maneiras de escrever $P_3$\n",
    "\n",
    "* A forma standard:\n",
    "\n",
    "$$ P_3(x) = p_0 x^3 + p_1 x^2 + p_2 x + p_3$$"
   ]
  },
  {
   "cell_type": "markdown",
   "metadata": {
    "slideshow": {
     "slide_type": "fragment"
    }
   },
   "source": [
    "* usando multiplicação aninhada ( **Método de Horner**):\n",
    "\n",
    "$$ P_3(x) = ((p_0 x + p_1) x + p_2) x + p_3$$"
   ]
  },
  {
   "cell_type": "markdown",
   "metadata": {
    "slideshow": {
     "slide_type": "subslide"
    }
   },
   "source": [
    "Considere o número de operações em cada caso...\n",
    "\n",
    "$$ P_3(x) = p_0 x^3 + p_1 x^2 + p_2 x + p_3$$\n",
    "\n",
    "$$P_3(x) = \\overbrace{p_0 \\cdot x \\cdot x \\cdot x}^3 + \\overbrace{p_1\\cdot x \\cdot x}^2 + \\overbrace{p_2 \\cdot x}^1 + p_3$$\n",
    "\n",
    "Nota: aqui apenas contamos multiplicações, pois elas dominam o processo de cálculo"
   ]
  },
  {
   "cell_type": "markdown",
   "metadata": {
    "slideshow": {
     "slide_type": "subslide"
    }
   },
   "source": [
    "Para somar todas as operações, podemos usar uma pirâmide onde o número de linhas é o grau do polinómio:\n",
    "\n",
    "![Original Count](./images/horners_method_big_count.png)\n",
    "\n",
    "Assim, podemos estimar que o algoritmo  necessita de avaliar aproximadamente $O(N^2 / 2)$ operações para avaliar um polinómio de ordem $N$."
   ]
  },
  {
   "cell_type": "markdown",
   "metadata": {
    "slideshow": {
     "slide_type": "subslide"
    }
   },
   "source": [
    "No caso da implementação aninhada:\n",
    "\n",
    "$$ P_3(x) = ((p_0 x + p_1) x + p_2) x + p_3$$\n",
    "\n",
    "O  método neste caso é de ordem $O(N)$ em comparação com a primeira avaliação que é de $O(N^2)$.  Essa é uma enorme diferença para grandes valore de $N$!"
   ]
  },
  {
   "cell_type": "markdown",
   "metadata": {
    "slideshow": {
     "slide_type": "slide"
    }
   },
   "source": [
    "#### Algorithm\n",
    "\n",
    "Fill in the function and implement Horner's method:\n",
    "```python\n",
    "def eval_poly(p, x):\n",
    "    \"\"\"Evaluates polynomial given coefficients p at x\n",
    "    \n",
    "    Function to evaluate a polynomial in order N operations.  The polynomial is defined as\n",
    "    \n",
    "    P(x) = p[0] x**n + p[1] x**(n-1) + ... + p[n-1] x + p[n]\n",
    "    \n",
    "    The value x should be a float.\n",
    "    \"\"\"\n",
    "    pass\n",
    "```"
   ]
  },
  {
   "cell_type": "code",
   "execution_count": 8,
   "metadata": {
    "slideshow": {
     "slide_type": "subslide"
    }
   },
   "outputs": [],
   "source": [
    "def eval_poly(p, x):\n",
    "    \"\"\"Evaluates polynomial given coefficients p at x\n",
    "    \n",
    "    Function to evaluate a polynomial in order N operations.  The polynomial is defined as\n",
    "    \n",
    "    P(x) = p[0] x**n + p[1] x**(n-1) + ... + p[n-1] x + p[n]\n",
    "    \n",
    "    The value x should be a float.\n",
    "    \"\"\"\n",
    "    ### ADD CODE HERE\n",
    "    pass"
   ]
  },
  {
   "cell_type": "code",
   "execution_count": 9,
   "metadata": {},
   "outputs": [],
   "source": [
    "p = [1, -3, 10, 4, 5, 5]\n",
    "x = numpy.linspace(-1, 1, 100)\n",
    "eval_poly(p,x)"
   ]
  },
  {
   "cell_type": "code",
   "execution_count": 10,
   "metadata": {
    "hide_input": false,
    "slideshow": {
     "slide_type": "subslide"
    }
   },
   "outputs": [],
   "source": [
    "# Scalar version\n",
    "def eval_poly(p, x):\n",
    "    \"\"\"Evaluates polynomial given coefficients p at x\n",
    "    \n",
    "    Function to evaluate a polynomial in order N operations.  The polynomial is defined as\n",
    "    \n",
    "    P(x) = p[0] x**n + p[1] x**(n-1) + ... + p[n-1] x + p[n]\n",
    "    \n",
    "    The value x should be a float.\n",
    "    \"\"\"\n",
    "    \n",
    "    y = p[0]\n",
    "    for coefficient in p[1:]:\n",
    "        y = y * x + coefficient\n",
    "    \n",
    "    return y"
   ]
  },
  {
   "cell_type": "code",
   "execution_count": 11,
   "metadata": {
    "hide_input": false,
    "slideshow": {
     "slide_type": "subslide"
    }
   },
   "outputs": [],
   "source": [
    "# Vectorized version\n",
    "def eval_poly(p, x):\n",
    "    \"\"\"Evaluates polynomial given coefficients p at x\n",
    "    \n",
    "    Function to evaluate a polynomial in order N operations.  The polynomial is defined as\n",
    "    \n",
    "    P(x) = p[0] x**n + p[1] x**(n-1) + ... + p[n-1] x + p[n]\n",
    "    \n",
    "    The value x can by a NumPy ndarray.\n",
    "    \"\"\"\n",
    "    \n",
    "    y = numpy.ones(x.shape) * p[0]\n",
    "    for coefficient in p[1:]:\n",
    "        y = y * x + coefficient\n",
    "    \n",
    "    return y"
   ]
  },
  {
   "cell_type": "code",
   "execution_count": 12,
   "metadata": {
    "slideshow": {
     "slide_type": "subslide"
    }
   },
   "outputs": [
    {
     "data": {
      "image/png": "[encoded data removed]",
      "text/plain": [
       "<Figure size 432x288 with 1 Axes>"
      ]
     },
     "metadata": {
      "needs_background": "light"
     },
     "output_type": "display_data"
    }
   ],
   "source": [
    "p = [1, -3, 10, 4, 5, 5]\n",
    "x = numpy.linspace(-10, 10, 100)\n",
    "plt.plot(x, eval_poly(p, x))\n",
    "plt.grid()\n",
    "plt.show()"
   ]
  },
  {
   "cell_type": "markdown",
   "metadata": {
    "slideshow": {
     "slide_type": "slide"
    }
   },
   "source": [
    "## Erro de convergência\n",
    "\n",
    "Em algumas casos, uma fórmula ou algoritmo é aplicada repetidamente como objetivo de se obter uma aproximação final ao valor duma função. Geralmente, os erros que ocorrem em cada etapa individual são pequenos. Repetindo o processo, os erros às vezes aumentam. \n",
    "\n",
    "Como exemplo disso o é dado abaixo. Os valores dos termos em uma sucessão definida por recorrência é:\n",
    "$$\n",
    "   \\begin{align}\n",
    "      y_0 &= 1, \\\\\n",
    "      y_1 &= \\frac{1}{5}, \\\\\n",
    "      y_{n+1} &= \\frac{16}{5} y_n - \\frac{3}{5} y_{n-1}.\n",
    "   \\end{align}\n",
    "$$\n",
    "\n",
    "O valor exato do termo de ordem $n$ pode ser dado pelo termo geral da sucessão is $y_n = \\left(\\frac{1}{5}\\right)^n$, onde $n=$0, 1, 2, $\\ldots$  "
   ]
  },
  {
   "cell_type": "code",
   "execution_count": 13,
   "metadata": {
    "slideshow": {
     "slide_type": "subslide"
    }
   },
   "outputs": [],
   "source": [
    "# Escolha o número de iterações\n",
    "N = 40\n",
    "y = numpy.empty(N+1)            # Aloque um vetor vazio com N+1 entradas\n",
    "\n",
    "# Agora use a relação de recorrência para gerar os números da sucessão\n",
    "y[0] = 1\n",
    "y[1] = 1/5\n",
    "for n in range(2,N+1):\n",
    "    y[n] = 16/5*y[n-1] - 3/5*y[n-2]\n"
   ]
  },
  {
   "cell_type": "markdown",
   "metadata": {
    "slideshow": {
     "slide_type": "fragment"
    }
   },
   "source": [
    "O gráfico do resultado"
   ]
  },
  {
   "cell_type": "code",
   "execution_count": 14,
   "metadata": {
    "hide_input": true,
    "slideshow": {
     "slide_type": "-"
    }
   },
   "outputs": [
    {
     "data": {
      "image/png": "[encoded data removed]",
      "text/plain": [
       "<Figure size 720x360 with 1 Axes>"
      ]
     },
     "metadata": {
      "needs_background": "light"
     },
     "output_type": "display_data"
    }
   ],
   "source": [
    "# Now plot the result\n",
    "n = numpy.arange(0,N+1)\n",
    "fig = plt.figure(figsize=(10.0, 5.0))\n",
    "axes = fig.add_subplot(1, 1, 1)\n",
    "axes.semilogy(n,y, 'rx', markersize=5, label='$y_n$')\n",
    "axes.semilogy(n,(1/5)**n,'b.', label='$y_{true}$')\n",
    "axes.grid()\n",
    "axes.set_title(\"Valores das sucessões\",fontsize=18)\n",
    "axes.set_xlabel(\"$n$\",fontsize=16)\n",
    "axes.set_ylabel(\"$y_n$\",fontsize=16)\n",
    "axes.legend(loc='best', shadow=True)\n",
    "plt.show()"
   ]
  },
  {
   "cell_type": "markdown",
   "metadata": {
    "slideshow": {
     "slide_type": "slide"
    }
   },
   "source": [
    "Na solução exata, a sequência de números gerada acima deve ficar progressivamente cada vez mais próxima de zero. Em vez disso, os números gerados pela relação de recorrência inicialmente tendem a  aproximarem-se de zero, mas a dada altura começam a crescer.  O segundo número na sequência, $ y_1 =\\frac{1}{5} $ é aproximado com um pequeno erro e é armazenado no computador como $ y_1 =\\frac{1}{5} + \\epsilon $  onde $ \\epsilon $ representa o erro.\n"
   ]
  },
  {
   "cell_type": "markdown",
   "metadata": {
    "slideshow": {
     "slide_type": "subslide"
    }
   },
   "source": [
    "Cada vez que um novo número no loop é gerado, o erro é multiplicado. Por exemplo, após a primeira iteração $y_2$ é\n",
    "$$\n",
    "    \\begin{align}\n",
    "       y_2 &= \\frac{16}{5} \\left( \\frac{1}{5}+\\epsilon \\right) \n",
    "               - \\frac{3}{5} \\left( 1 \\right), \\\\\n",
    "           &= \\frac{1}{5^2} + \\frac{16}{5} \\epsilon.\n",
    "    \\end{align}\n",
    "$$"
   ]
  },
  {
   "cell_type": "markdown",
   "metadata": {
    "slideshow": {
     "slide_type": "fragment"
    }
   },
   "source": [
    "Após a segunda iteração, o valor de $y_3$ é \n",
    "\n",
    "$$ \n",
    "y_3=\\frac{1}{5^3} + \\frac{241}{25}\\epsilon\n",
    "$$\n",
    "\n",
    "Mesmo assim o valor de $\\epsilon$ is é muito próximo de zero, no entanto toda iteração faz o erro aumentar. A multiplicação repetida vai acabar por tornar o erro um número muito grande."
   ]
  },
  {
   "cell_type": "markdown",
   "metadata": {
    "slideshow": {
     "slide_type": "subslide"
    }
   },
   "source": [
    "O erro associado à representação inicial do número $\\frac{1}{5}$ é um problema associado com a maneira usada pelo computador para armazena números no sistema de virgula flutuante. Na maioria dos casos, o computador não pode representar um número exatamente, e os pequenos erros na aproximação de um número pode ser propagado, causando outros problemas."
   ]
  },
  {
   "cell_type": "markdown",
   "metadata": {
    "slideshow": {
     "slide_type": "slide"
    }
   },
   "source": [
    "## Erro de Representação\n",
    "\n",
    "Erros decorrentes da aproximação de números reais com números de precisão finita\n",
    "\n",
    "$$\\pi \\approx 3.14$$\n",
    "\n",
    "ou $\\frac{1}{3} \\approx 0.333333333$ em decimal, os resultados usam um número finito de registos para representar cada número.\n",
    "\n",
    "Comprimir um número infinito de dígitos dum números reais num número\n",
    "finito de bits exige uma representação aproximada. Apesar de\n",
    "existirem inteiros em número infinito, na maioria dos programas o\n",
    "resultado de operações com inteiros é armazenado em 32 bits. Em\n",
    "contraste, dado qualquer que seja o número de bits a maioria dos\n",
    "cálculos com números reais tem por resultado grandezas que não podem\n",
    "ser representadas com exatidão. Assim o resultado dum cálculo com\n",
    "vírgula flutuante tem de ser arredondado para caber na estrutura\n",
    "usada para a sua representação. Este erro de aproximação e de\n",
    "arredondamento caracteriza a computação numérica.\n",
    "\n",
    "Foram propostas diferentes formas para representar reais, mas a mais\n",
    "difundida é a representação em vírgula flutuante. Apareceu como uma\n",
    "truncatura  no sistema de numeração binária da representação em\n",
    "notação cientifica motivada pelas limitações impostas pelos sistemas\n",
    "computacionais à estruturas de representação das grandezas reais. A\n",
    "norma de representação usada na generalidade dos sistemas, foi\n",
    "apresentada pela IEEE, e limita a representação de reais na unidade\n",
    "de cálculo em vírgula flutuante a estruturas com 32 ou 64 bits.\n",
    "\n",
    "<img align=left src=\"./images/ieee.jpg\">\n",
    "\n",
    "Um sistema de vírgula flutuante têm associado\n",
    "- uma base $\\beta$ (que é assumido ser um natural par) e\n",
    "- uma precisão $p$.\n",
    "\n",
    "Se $\\beta=10$ e $p=3$, então o número $0.1$ é representado como\n",
    "$1.00\\times10^{-1}$. \n",
    "\n",
    "Se $\\beta=2$ and $p=18$, então o número decimal\n",
    "$0.1$ não pode ser representado de forma exacta, mas é\n",
    "aproximadamente $1.10011001100110011\\times2^{-4}$."
   ]
  },
  {
   "cell_type": "markdown",
   "metadata": {
    "slideshow": {
     "slide_type": "slide"
    }
   },
   "source": [
    "### Sistemas de vírgula flutuante\n",
    "\n",
    "Os números nos sistemas de ponto flutuante são representados usando uma sequência de bits que representam diferentes partes de um número. Nos **sistemas de virgula flutuante normalizados**, existem algumas convenções padrão para o uso desses bits. Em geral, os números são armazenados dividindo-os no formato  \n",
    "\n",
    "$$F = \\pm d_1 . d_2 d_3 d_4 \\ldots d_p \\times \\beta^E$$"
   ]
  },
  {
   "cell_type": "markdown",
   "metadata": {
    "slideshow": {
     "slide_type": "subslide"
    }
   },
   "source": [
    "Onde\n",
    "1. $\\pm$ é um único bit e representa o sinal do número\n",
    "2. $d_1 . d_2 d_3 d_4 \\ldots d_p$ é chamado de *mantissa*.  Observe que tecnicamente o decimal pode ser movido, mas geralmente, usamos notação científica, e o decimal deve ser colocado como aqui.  Os dígitos $d_2 d_3 d_4 \\ldots d_p$ são chamados de *fração* com $p$ dígitos de precisão.  Nos sistemas normalizados colocam especificamente o ponto decimal na frente e assumem $d_1 \\neq 0$ a menos que o número seja exatamente $0$.\n",
    "3. $\\beta$ é a *base*.  Para binário $\\beta = 2$, para decimal $\\beta = 10$, etc.\n",
    "4. $E$ é o *expoente*, um número inteiro no intervalo $[E_{\\min}, E_{\\max}]$"
   ]
  },
  {
   "cell_type": "markdown",
   "metadata": {},
   "source": [
    "No decurso desta exposição usamos o termo número em vírgula\n",
    "flutuante para designar um número real que pode ser representado de\n",
    "forma exacta neste formato. Outras duas grandezas estão também\n",
    "associadas a representação em vírgula flutuante, são elas o maior e\n",
    "o menor expoente permitido, $E_{max}$ e $E_{min}$. Uma vez que\n",
    "existem $\\beta^p$ mantissas diferentes, e $E_{max}-E_{min}+1$\n",
    "expoentes possíveis, um número em vírgula pode ser codificado em\n",
    "$$[\\log_2(E_{max}-E_{min}+1)+[\\log_2(\\beta^p)]]+1$$\n",
    "bits, onde o +1 final contabiliza o bit que codifica o sinal.\n"
   ]
  },
  {
   "cell_type": "markdown",
   "metadata": {
    "slideshow": {
     "slide_type": "subslide"
    }
   },
   "source": [
    "Factos associados ao uso de um sistema de virgula flutuante:\n",
    "1. Existe um conjunto discreto e finito de números representáveis\n",
    "2. Os números representáveis não são distribuídos igualmente na linha real\n",
    "3. A aritmética num sistemas de vírgula flutuante produz resultados que podem ser diferentes da aritmética de precisão infinita (ou seja, matemática \"real\")"
   ]
  },
  {
   "cell_type": "markdown",
   "metadata": {},
   "source": [
    "Existem duas razões que fazem com que um número real possa não ser\n",
    "exatamente representado em vírgula flutuante. A mais comum já foi\n",
    "apresentada para o decimal $0.1$;\n",
    "$$\n",
    "\\frac{1}{10}=\\frac{1}{2^4}+\\frac{1}{2^5}+\\frac{0}{2^6}+\\frac{0}{2^7}+\\frac{1}{2^8}+\\frac{1}{2^9}+\\frac{0}{2^{10}}+\\ldots\n",
    "$$\n",
    "Após o primeiro termo a sequência de coeficientes $1,0,0,1$ é\n",
    "repetida indefinidamente. Assim quando $\\beta=2$ o número $0.1$ está\n",
    "entre dois números em vírgula flutuante, não sendo representado por\n",
    "nenhum deles. O número em virgula flutuante escolhido para\n",
    "representar $0.1$ foi obtida arredondando esta série a 18 termos. A\n",
    "razão, menos comum, que leva a que uma grandeza não seja\n",
    "representado em vírgula flutuante deve-se à grandeza em valor\n",
    "absoluto exceder $\\beta^{E_{max}+1}$ ou ser inferior a\n",
    "$\\beta^{E_{min}}$. Neste caso dizemos que a grandeza excede o\n",
    "domínio de representação e a grandeza é representado,\n",
    "respetivamente, por $\\beta^{E_{max}+1}$ ou $\\beta^{E_{min}}$.\n",
    "\n",
    "A representação em vírgula flutuante não é única. Por exemplo, tanto\n",
    "$1.00\\times10^{-1}$ como $0.01\\times10^1$ representam $0.1$. Para\n",
    "garantir a unicidade da representação impomos que o primeiro digito\n",
    "seja não nulo, neste caso a representação diz-se\n",
    "`normalizada`."
   ]
  },
  {
   "cell_type": "markdown",
   "metadata": {
    "slideshow": {
     "slide_type": "subslide"
    }
   },
   "source": [
    "#### Propriedades dos sistemas de virgula flutuante\n",
    "Qualquer sistemas de virgula flutuante é caracterizado por:\n",
    " - Menor número normalizado (underflow se abaixo - relacionado a números subnormais em torno de zero)\n",
    " - Maior número normalizado (overflow se acima)\n",
    " - Zero\n",
    " - $\\epsilon$ da máquina or $\\epsilon_{\\text{machine}}$\n",
    " - `inf` e `nan`, infinidade and **N**ot **a** **N**umber respectivamente"
   ]
  },
  {
   "cell_type": "markdown",
   "metadata": {
    "slideshow": {
     "slide_type": "subslide"
    }
   },
   "source": [
    "##### Exemplo:  Toy System\n",
    "Considere um sistema com precisão decimal de dois dígitos (normalizado)\n",
    "$$f = \\pm d_1 . d_2 \\times 10^E$$\n",
    "com $E \\in [-2, 0]$.\n",
    "\n",
    "**Número e distribuição de números**\n",
    "1. Quantos números podemos representar neste sistema?\n",
    "\n",
    "2. Qual é a distribuição dos valores representados na linha real?\n",
    "\n",
    "3. Quais são os limites de underflow e overflow?\n"
   ]
  },
  {
   "cell_type": "markdown",
   "metadata": {
    "slideshow": {
     "slide_type": "subslide"
    }
   },
   "source": [
    "Quantos números podemos representar neste sistema?\n",
    "\n",
    "$$\n",
    "    f = \\pm d_1 . d_2 \\times 10^E ~~~ \\text{com}~~~ E \\in [-2, 0]\n",
    "$$\n",
    "\n",
    "$$ \n",
    "    2 \\times 9 \\times 10 \\times 3 + 1 = 541\n",
    "$$"
   ]
  },
  {
   "cell_type": "markdown",
   "metadata": {
    "slideshow": {
     "slide_type": "subslide"
    }
   },
   "source": [
    "Qual é a distribuição dos valores representados na linha real?"
   ]
  },
  {
   "cell_type": "code",
   "execution_count": 15,
   "metadata": {
    "hide_input": true,
    "slideshow": {
     "slide_type": "-"
    }
   },
   "outputs": [
    {
     "data": {
      "image/png": "[encoded data removed]",
      "text/plain": [
       "<Figure size 720x72 with 1 Axes>"
      ]
     },
     "metadata": {
      "needs_background": "light"
     },
     "output_type": "display_data"
    }
   ],
   "source": [
    "d_1_values = [1, 2, 3, 4, 5, 6, 7, 8, 9]\n",
    "d_2_values = [0, 1, 2, 3, 4, 5, 6, 7, 8, 9]\n",
    "E_values = [0, -1, -2]\n",
    "\n",
    "fig = plt.figure(figsize=(10.0, 1.0))\n",
    "axes = fig.add_subplot(1, 1, 1)\n",
    "\n",
    "for E in E_values:\n",
    "    for d1 in d_1_values:\n",
    "        for d2 in d_2_values:\n",
    "            axes.plot( (d1 + d2 * 0.1) * 10**E, 0.0, 'r+', markersize=20)\n",
    "            axes.plot(-(d1 + d2 * 0.1) * 10**E, 0.0, 'r+', markersize=20)\n",
    "            \n",
    "axes.plot(0.0, 0.0, '+', markersize=20)\n",
    "axes.plot([-10.0, 10.0], [0.0, 0.0], 'k')\n",
    "\n",
    "axes.set_title(\"Distribuição de Valores\")\n",
    "axes.set_yticks([])\n",
    "axes.set_xlabel(\"x\")\n",
    "axes.set_ylabel(\"\")\n",
    "axes.set_xlim([-1, 1])\n",
    "plt.show()"
   ]
  },
  {
   "cell_type": "markdown",
   "metadata": {
    "slideshow": {
     "slide_type": "subslide"
    }
   },
   "source": [
    "Quais são os limites de underflow e overflow?\n",
    "\n",
    "O menor número que pode ser representado é:  $1.0 \\times 10^{-2} = 0.01$\n",
    "\n",
    "O maior número que pode ser representado é:  $9.9 \\times 10^0 = 9.9$"
   ]
  },
  {
   "cell_type": "markdown",
   "metadata": {
    "slideshow": {
     "slide_type": "slide"
    }
   },
   "source": [
    "### Sistemas Binários\n",
    "Considere agora o sistema com precisão de 2-dígitos  na base 2:\n",
    "\n",
    "$$\n",
    "    f=\\pm d_1 . d_2 \\times 2^E \\quad \\text{with} \\quad E \\in [-1, 1]\n",
    "$$\n",
    "\n",
    "**Número e distribuição de números**\n",
    "1. Quantos números podemos representar neste sistema?\n",
    "\n",
    "2. Qual é a distribuição dos valores representados na linha real?\n",
    "\n",
    "3. Quais são os limites de underflow e overflow?"
   ]
  },
  {
   "cell_type": "markdown",
   "metadata": {
    "slideshow": {
     "slide_type": "subslide"
    }
   },
   "source": [
    "Quantos números podemos representar neste sistema?\n",
    "\n",
    "$$f=\\pm d_1 . d_2 \\times 2^E ~~~~ \\text{with} ~~~~ E \\in [-1, 1]$$"
   ]
  },
  {
   "cell_type": "markdown",
   "metadata": {
    "slideshow": {
     "slide_type": "fragment"
    }
   },
   "source": [
    "$$ 2 \\times 1 \\times 2 \\times 3 + 1 = 13$$"
   ]
  },
  {
   "cell_type": "markdown",
   "metadata": {
    "slideshow": {
     "slide_type": "fragment"
    }
   },
   "source": [
    "Qual é a distribuição dos valores representados na linha real?"
   ]
  },
  {
   "cell_type": "code",
   "execution_count": 16,
   "metadata": {
    "slideshow": {
     "slide_type": "subslide"
    }
   },
   "outputs": [
    {
     "data": {
      "image/png": "[encoded data removed]",
      "text/plain": [
       "<Figure size 720x72 with 1 Axes>"
      ]
     },
     "metadata": {
      "needs_background": "light"
     },
     "output_type": "display_data"
    }
   ],
   "source": [
    "d_1_values = [1]\n",
    "d_2_values = [0, 1]\n",
    "E_values = [1, 0, -1]\n",
    "\n",
    "fig = plt.figure(figsize=(10.0, 1.0))\n",
    "axes = fig.add_subplot(1, 1, 1)\n",
    "\n",
    "for E in E_values:\n",
    "    for d1 in d_1_values:\n",
    "        for d2 in d_2_values:\n",
    "            axes.plot( (d1 + d2 * 0.5) * 2**E, 0.0, 'r+', markersize=20)\n",
    "            axes.plot(-(d1 + d2 * 0.5) * 2**E, 0.0, 'r+', markersize=20)\n",
    "            \n",
    "axes.plot(0.0, 0.0, 'r+', markersize=20)\n",
    "axes.plot([-4.5, 4.5], [0.0, 0.0], 'k')\n",
    "\n",
    "axes.set_title(\"Distribuição de Valores\")\n",
    "axes.set_yticks([])\n",
    "axes.set_xlabel(\"x\")\n",
    "axes.set_ylabel(\"\")\n",
    "axes.set_xlim([-5, 5])\n",
    "plt.show()"
   ]
  },
  {
   "cell_type": "markdown",
   "metadata": {
    "slideshow": {
     "slide_type": "subslide"
    }
   },
   "source": [
    "O menor número que pode ser representado é:  $1.0 \\times 2^{-1} = 0.5$\n",
    "\n",
    "O maior número que pode ser representado é:  $1.1 \\times 2^1 = 3$\n"
   ]
  },
  {
   "cell_type": "markdown",
   "metadata": {
    "slideshow": {
     "slide_type": "slide"
    }
   },
   "source": [
    "### Sistemas reais - IEEE 754 Binary Floating Point Systems\n",
    "\n",
    "#### Single Precision (Precisão simples)\n",
    " - O armazenamento total alocado é 32 bits\n",
    " - O expoente tem 8 bits $\\Rightarrow E \\in [-126, 127]$\n",
    " - Fração 23 bits ($p = 24$)\n",
    " \n",
    "```\n",
    "s EEEEEEEE FFFFFFFFFFFFFFFFFFFFFFF\n",
    "0 1      8 9                     31\n",
    "```\n",
    "* Overflow $= 2^{127} \\approx 3.4 \\times 10^{38}$\n",
    "* Underflow $= 2^{-126} \\approx 1.2 \\times 10^{-38}$\n",
    "* $\\epsilon_{\\text{machine}} = 2^{-23} \\approx 1.2 \\times 10^{-7}$"
   ]
  },
  {
   "cell_type": "markdown",
   "metadata": {
    "slideshow": {
     "slide_type": "subslide"
    }
   },
   "source": [
    "#### Double Precision (Precisão dupla)\n",
    " - O armazenamento total alocado é 64 bits\n",
    " - O expoente tem 11 bits $\\Rightarrow E \\in [-1022, 1024]$\n",
    " - Fração 52 bits ($p = 53$)\n",
    " \n",
    "```\n",
    "s EEEEEEEEEE FFFFFFFFFF FFFFFFFFFF FFFFFFFFFF FFFFFFFFFF FFFFFFFFFF FF\n",
    "0 1       11 12                                                      63\n",
    "```\n",
    "* Overflow $= 2^{1024} \\approx 1.8 \\times 10^{308}$\n",
    "* Underflow $= 2^{-1022} \\approx 2.2 \\times 10^{-308}$\n",
    "* $\\epsilon_{\\text{machine}} = 2^{-52} \\approx 2.2 \\times 10^{-16}$"
   ]
  },
  {
   "cell_type": "markdown",
   "metadata": {
    "slideshow": {
     "slide_type": "subslide"
    }
   },
   "source": [
    "### Python e o IEEE\n",
    "\n",
    "Para aceder a parâmetros do sistema  de representação em Python, como o epsilon da máquina:\n",
    "\n",
    "```python\n",
    "import numpy\n",
    "numpy.finfo(float).eps\n",
    "```"
   ]
  },
  {
   "cell_type": "code",
   "execution_count": 2,
   "metadata": {
    "slideshow": {
     "slide_type": "subslide"
    }
   },
   "outputs": [
    {
     "name": "stdout",
     "output_type": "stream",
     "text": [
      "Machine parameters for float16\n",
      "---------------------------------------------------------------\n",
      "precision =   3   resolution = 1.00040e-03\n",
      "machep =    -10   eps =        9.76562e-04\n",
      "negep =     -11   epsneg =     4.88281e-04\n",
      "minexp =    -14   tiny =       6.10352e-05\n",
      "maxexp =     16   max =        6.55040e+04\n",
      "nexp =        5   min =        -max\n",
      "---------------------------------------------------------------\n",
      "\n",
      "Machine parameters for float32\n",
      "---------------------------------------------------------------\n",
      "precision =   6   resolution = 1.0000000e-06\n",
      "machep =    -23   eps =        1.1920929e-07\n",
      "negep =     -24   epsneg =     5.9604645e-08\n",
      "minexp =   -126   tiny =       1.1754944e-38\n",
      "maxexp =    128   max =        3.4028235e+38\n",
      "nexp =        8   min =        -max\n",
      "---------------------------------------------------------------\n",
      "\n"
     ]
    }
   ],
   "source": [
    "print(numpy.finfo(numpy.float16))\n",
    "print(numpy.finfo(numpy.float32))"
   ]
  },
  {
   "cell_type": "code",
   "execution_count": 18,
   "metadata": {
    "slideshow": {
     "slide_type": "subslide"
    }
   },
   "outputs": [
    {
     "name": "stdout",
     "output_type": "stream",
     "text": [
      "Machine parameters for float64\n",
      "---------------------------------------------------------------\n",
      "precision =  15   resolution = 1.0000000000000001e-15\n",
      "machep =    -52   eps =        2.2204460492503131e-16\n",
      "negep =     -53   epsneg =     1.1102230246251565e-16\n",
      "minexp =  -1022   tiny =       2.2250738585072014e-308\n",
      "maxexp =   1024   max =        1.7976931348623157e+308\n",
      "nexp =       11   min =        -max\n",
      "---------------------------------------------------------------\n",
      "\n"
     ]
    }
   ],
   "source": [
    "print(numpy.finfo(float))\n",
    "#print(numpy.finfo(numpy.float128))"
   ]
  },
  {
   "cell_type": "markdown",
   "metadata": {
    "slideshow": {
     "slide_type": "subslide"
    }
   },
   "source": [
    "### Exemplos"
   ]
  },
  {
   "cell_type": "code",
   "execution_count": 3,
   "metadata": {
    "slideshow": {
     "slide_type": "-"
    }
   },
   "outputs": [
    {
     "name": "stdout",
     "output_type": "stream",
     "text": [
      "eps = 2.220446049250313e-16\n",
      "MAX = 1.7976931348623157e+308\n"
     ]
    }
   ],
   "source": [
    "eps = numpy.finfo(float).eps\n",
    "MAX = numpy.finfo(float).max\n",
    "print('eps = {}'.format(eps))\n",
    "print('MAX = {}'.format(MAX))"
   ]
  },
  {
   "cell_type": "markdown",
   "metadata": {
    "slideshow": {
     "slide_type": "fragment"
    }
   },
   "source": [
    "Mostre que $(1 + \\epsilon_{mach}) > 1$"
   ]
  },
  {
   "cell_type": "code",
   "execution_count": 7,
   "metadata": {},
   "outputs": [
    {
     "data": {
      "text/plain": [
       "True"
      ]
     },
     "execution_count": 7,
     "metadata": {},
     "output_type": "execute_result"
    }
   ],
   "source": [
    "eps>0"
   ]
  },
  {
   "cell_type": "code",
   "execution_count": 8,
   "metadata": {},
   "outputs": [
    {
     "data": {
      "text/plain": [
       "True"
      ]
     },
     "execution_count": 8,
     "metadata": {},
     "output_type": "execute_result"
    }
   ],
   "source": [
    "1+eps>1"
   ]
  },
  {
   "cell_type": "code",
   "execution_count": 9,
   "metadata": {},
   "outputs": [
    {
     "data": {
      "text/plain": [
       "True"
      ]
     },
     "execution_count": 9,
     "metadata": {},
     "output_type": "execute_result"
    }
   ],
   "source": [
    "eps/2>0"
   ]
  },
  {
   "cell_type": "code",
   "execution_count": 5,
   "metadata": {},
   "outputs": [
    {
     "data": {
      "text/plain": [
       "False"
      ]
     },
     "execution_count": 5,
     "metadata": {},
     "output_type": "execute_result"
    }
   ],
   "source": [
    "1+eps/2>1"
   ]
  },
  {
   "cell_type": "code",
   "execution_count": 21,
   "metadata": {
    "slideshow": {
     "slide_type": "-"
    }
   },
   "outputs": [
    {
     "name": "stdout",
     "output_type": "stream",
     "text": [
      "1.7976931348623157e+308\n",
      "inf\n"
     ]
    },
    {
     "name": "stderr",
     "output_type": "stream",
     "text": [
      "<ipython-input-21-37bf8f36b275>:2: RuntimeWarning: overflow encountered in double_scalars\n",
      "  print(MAX*(1+eps))\n"
     ]
    }
   ],
   "source": [
    "print(MAX*1)\n",
    "print(MAX*(1+eps))"
   ]
  },
  {
   "cell_type": "markdown",
   "metadata": {},
   "source": [
    "Quando representamos por $\\overline{x}=3.12\\times10^{-2}$ no sistema\n",
    "vírgula flutuante $x=0.0314$ o erro cometido é de $0.0002$. De forma\n",
    "similar, o número $x=0.0314159$ é representado por\n",
    "$\\overline{x}=3.14\\times10^{-2}$ sendo cometido um erro de\n",
    "$0.000159$. Assim podemos entender o erro como a discrepância entre\n",
    "o valor exacto e a sua aproximação\n",
    "$$\\varepsilon_r=x-\\overline{x}.$$\n",
    "A este erro chamamos \\emph{erro absoluto} do\n",
    "uso de $\\overline{x}$ para aproximar $x$.\n",
    "\n",
    "Outra forma de medir o erro cometido quando se aproxima o número\n",
    "real $x$ por um em virgula flutuante $\\overline{x}$ é designado de\n",
    "erro relativo e consiste no quociente\n",
    "$$r_x=\\frac{x-\\overline{x}}{x}$$\n",
    "Por exemplo o erro relativo que se comete quando se aproxima\n",
    "$x=3.14159$ por $\\overline{x}=3.14\\times10^{-2}$ é\n",
    "$0.00159/3.14159\\approx0.0005$\n",
    "\n",
    "A forma mais natural de medir o erro de arredondamento é o erro\n",
    "absoluto. No entanto, quando se analisam os erros de arredondamento\n",
    "provocados por uma fórmula, o erro de arredondamento é uma melhor\n",
    "medida um vez que leva em conta as grandezas envolvidas.\n",
    "\n"
   ]
  },
  {
   "cell_type": "markdown",
   "metadata": {},
   "source": [
    "### A álgebra do sistema não é comutativa... por exemplo\n",
    "Aritmética $\\delta < \\epsilon_{\\text{machine}}$\n",
    "\n",
    "   $$(1+\\delta) - 1 = 1 - 1 = 0$$\n",
    "\n",
    "   $$1 - 1 + \\delta = \\delta$$"
   ]
  },
  {
   "cell_type": "code",
   "execution_count": 22,
   "metadata": {},
   "outputs": [
    {
     "name": "stdout",
     "output_type": "stream",
     "text": [
      "eps =   2.220446049250313e-16,  1 + eps   > 1 is True\n",
      "delta = 1.1102230246251565e-16, 1 + delta > 1 is False\n",
      "\n",
      "1 + delta - 1 = 0.0\n",
      "1 - 1 + delta = 1.1102230246251565e-16\n"
     ]
    }
   ],
   "source": [
    "eps = numpy.finfo(float).eps\n",
    "delta = 0.5*eps\n",
    "print('eps =   {},  1 + eps   > 1 is {}'.format(eps,((1. + eps) > 1.)))\n",
    "print('delta = {}, 1 + delta > 1 is {}'.format(delta,((1. + delta) > 1.)))\n",
    "x = 1+delta  -1\n",
    "y = 1 - 1 + delta\n",
    "print()\n",
    "print('1 + delta - 1 = {}'.format(x))\n",
    "print('1 - 1 + delta = {}'.format(y))"
   ]
  },
  {
   "cell_type": "markdown",
   "metadata": {},
   "source": [
    "### Propagação de erros\n",
    "\n",
    "Consideremos agora a propagação de erros por aplicação de uma função\n",
    "ou operações a aproximações. Assim, pretendemos prever o erro\n",
    "relativo em $f(\\overline{x})$ face ao valor correcto $f(x)$. Note\n",
    "que se $f$ são funções com derivada de segunda ordem no intervalo\n",
    "aberto $]\\overline{x},x[$, onde se supõe $\\overline{x}<x$, pelo\n",
    "teorema de Taylor\n",
    "$$f(\\overline{x})=f(x)+f'(x)(\\overline{x}-x)+R_1(\\overline{x}-x)$$\n",
    "onde $R_1(\\overline{x}-x)=\\frac{f^{(2)(c)}}{2}(\\overline{x}-x)^2$\n",
    "para $c\\in]\\overline{x}-x[$. Portanto, desprezando o erro\n",
    "$R_1(\\overline{x}-x)$, obtemos\n",
    "$$f(\\overline{x})\\approx f(x)+f'(x)(\\overline{x}-x)$$\n",
    "i.e.\n",
    "$$f(\\overline{x})- f(x)\\approx f'(x)(\\overline{x}-x)$$\n",
    "donde\n",
    "$$\\varepsilon_{f(x)}\\approx f'(x)\\varepsilon_{x}.$$\n",
    "Dividindo por $f(x)$, obtemos a fórmula para o erro relativo\n",
    "$$r_{f(x)}\\approx\\frac{x.f'(x)}{f(x)}r_{x}$$\n",
    "o que nos permite avaliar a propagação do erro por aplicação duma\n",
    "função. O valor $P_f(x)=\\frac{x.f'(x)}{f(x)}$ é designado\n",
    "\\emph{número de condição} de $f$ em $x$. Se este valor for elevado\n",
    "isso significa que há um grande incremento do erro relativo por\n",
    "aplicação da função. Uma situação em que isso é claro, é quando\n",
    "$P_f(x)$ é muito grande e $r _{x}$ muito pequeno.\n",
    "\n",
    "De forma semelhante, para funções de várias variáveis, podemos\n",
    "aplicar a fórmula de Taylor para várias variáveis e obter resultados\n",
    "análogos. Um caso que nos interessa considerar é o caso de operações\n",
    "elementares, como a soma ou a multiplicação, que podem ser vistas\n",
    "como funções de duas variáveis.\n",
    "\n",
    "Assim, para a soma (ou subtracção) temos\n",
    "$$\n",
    "r_{x+y}\\approx\\frac{x}{x+y}r_x+\\frac{y}{x+y}r_y\n",
    "$$\n",
    "o que nos indica imediatamente que haverá problemas quando $x\\approx\n",
    "-y$, ou seja no caso da subtracção de quantidades semelhantes. Este\n",
    "caso é geralmente designado por cancelamento subtractivo e pode ser\n",
    "responsável pela forte propagação de erros de arredondamento, devido\n",
    "a um acumular de erros em sucessivas subtracções de quantidades\n",
    "próximas.\n",
    "\n",
    "No caso da multiplicação (ou divisão), não se verifica tal problema\n",
    "$$\n",
    "r_{xy}\\approx r_x+r_y\n",
    "$$"
   ]
  },
  {
   "cell_type": "code",
   "execution_count": 23,
   "metadata": {
    "slideshow": {
     "slide_type": "subslide"
    }
   },
   "outputs": [],
   "source": [
    "dx = numpy.array([10**(-n) for n in range(1, 16)])\n",
    "x = 1.0 + dx\n",
    "y = -numpy.ones(x.shape)\n",
    "error = numpy.abs(x + y - dx) / (dx)"
   ]
  },
  {
   "cell_type": "code",
   "execution_count": 24,
   "metadata": {
    "hide_input": true,
    "slideshow": {
     "slide_type": "-"
    }
   },
   "outputs": [
    {
     "data": {
      "image/png": "[encoded data removed]",
      "text/plain": [
       "<Figure size 864x288 with 2 Axes>"
      ]
     },
     "metadata": {
      "needs_background": "light"
     },
     "output_type": "display_data"
    }
   ],
   "source": [
    "fig = plt.figure()\n",
    "fig.set_figwidth(fig.get_figwidth() * 2)\n",
    "\n",
    "axes = fig.add_subplot(1, 2, 1)\n",
    "axes.loglog(dx, x + y, 'o-')\n",
    "axes.set_xlabel(\"$\\Delta x$\")\n",
    "axes.set_ylabel(\"$x + y$\")\n",
    "axes.set_title(\"$\\Delta x$ vs. $x+y$\")\n",
    "\n",
    "axes = fig.add_subplot(1, 2, 2)\n",
    "axes.loglog(dx, error, 'o-')\n",
    "axes.set_xlabel(\"$\\Delta x$\")\n",
    "axes.set_ylabel(\"$|x + y - \\Delta x| / \\Delta x$\")\n",
    "axes.set_title(\"Diferença entre $x$ e $y$ vs. Erro relativo\")\n",
    "\n",
    "plt.show()"
   ]
  },
  {
   "cell_type": "markdown",
   "metadata": {
    "slideshow": {
     "slide_type": "subslide"
    }
   },
   "source": [
    "### Exemplo: Avaliação de Função\n",
    "\n",
    "Considere a função\n",
    "$$\n",
    "    f(x) = \\frac{1 - \\cos x}{x^2}\n",
    "$$\n",
    "com $x\\in[-10^{-4}, 10^{-4}]$.  \n",
    "\n",
    "Tomando o limite como $x \\rightarrow 0$ podemos ver o esperado ao avaliar:\n",
    "$$\n",
    "    \\lim_{x \\rightarrow 0} \\frac{1 - \\cos x}{x^2} = \\lim_{x \\rightarrow 0} \\frac{\\sin x}{2 x} = \\lim_{x \\rightarrow 0} \\frac{\\cos x}{2} = \\frac{1}{2}.\n",
    "$$\n",
    "\n",
    "O que acontece quando se usa a representação em virgula flutuante?"
   ]
  },
  {
   "cell_type": "code",
   "execution_count": 25,
   "metadata": {
    "slideshow": {
     "slide_type": "subslide"
    }
   },
   "outputs": [
    {
     "data": {
      "image/png": "[encoded data removed]",
      "text/plain": [
       "<Figure size 576x432 with 1 Axes>"
      ]
     },
     "metadata": {
      "needs_background": "light"
     },
     "output_type": "display_data"
    }
   ],
   "source": [
    "x = numpy.linspace(-1e-3, 1e-3, 100, dtype=numpy.float32)\n",
    "error = (0.5 - (1.0 - numpy.cos(x)) / x**2) / 0.5\n",
    "\n",
    "fig = plt.figure(figsize=(8,6))\n",
    "axes = fig.add_subplot(1, 1, 1)\n",
    "axes.plot(x, error, 'o')\n",
    "axes.set_xlabel(\"x\")\n",
    "axes.grid()\n",
    "axes.set_ylabel(\"Erro relativo\")\n",
    "plt.show()"
   ]
  },
  {
   "cell_type": "markdown",
   "metadata": {
    "slideshow": {
     "slide_type": "subslide"
    }
   },
   "source": [
    "### Exemplo: Avaliação de um polinômio\n",
    "\n",
    "   $$f(x) = x^7 - 7x^6 + 21 x^5 - 35 x^4 + 35x^3-21x^2 + 7x - 1$$\n",
    "   \n",
    "Note que: $f(1) = 0$ (e será próximo de zero para $x\\approx 1$)\n",
    "\n",
    "Aqui, comparamos a avaliação do polinómio calculando as potências da forma ingénuas com o método de Horner, usando a implementação `eval_poly(p,x)` anterior."
   ]
  },
  {
   "cell_type": "code",
   "execution_count": 26,
   "metadata": {
    "hide_input": false,
    "slideshow": {
     "slide_type": "subslide"
    }
   },
   "outputs": [],
   "source": [
    "x = numpy.linspace(0.988, 1.012, 1000, dtype=numpy.float16)\n",
    "y = x**7 - 7.0 * x**6 + 21.0 * x**5 - 35.0 * x**4 + 35.0 * x**3 - 21.0 * x**2 + 7.0 * x - 1.0\n",
    "\n",
    "# repindo usando o método de Horner acima\n",
    "p = numpy.array([1, -7, 21, -35, 35, -21, 7, -1 ])\n",
    "yh = eval_poly(p,x)"
   ]
  },
  {
   "cell_type": "code",
   "execution_count": 27,
   "metadata": {
    "hide_input": true,
    "slideshow": {
     "slide_type": "-"
    }
   },
   "outputs": [
    {
     "data": {
      "image/png": "[encoded data removed]",
      "text/plain": [
       "<Figure size 1152x432 with 2 Axes>"
      ]
     },
     "metadata": {
      "needs_background": "light"
     },
     "output_type": "display_data"
    }
   ],
   "source": [
    "fig = plt.figure(figsize=(8,6))\n",
    "fig.set_figwidth(fig.get_figwidth() * 2)\n",
    "\n",
    "axes = fig.add_subplot(1, 2, 1)\n",
    "axes.plot(x, y, 'r',label='naive')\n",
    "axes.plot(x, yh, 'b',label='horner')\n",
    "axes.set_xlabel(\"x\")\n",
    "axes.set_ylabel(\"y\")\n",
    "axes.set_ylim((-0.1, 0.1))\n",
    "axes.set_xlim((x[0], x[-1]))\n",
    "axes.grid()\n",
    "axes.legend()\n",
    "\n",
    "axes = fig.add_subplot(1, 2, 2)\n",
    "axes.plot(x,yh-y,'g')\n",
    "axes.grid()\n",
    "axes.set_xlabel('x')\n",
    "axes.set_ylabel('$f_{horner} - f_n$')\n",
    "axes.set_title('erro')\n",
    "plt.show()"
   ]
  },
  {
   "cell_type": "markdown",
   "metadata": {
    "slideshow": {
     "slide_type": "subslide"
    }
   },
   "source": [
    "### Exemplo: Avaliação da Função Racional\n",
    "Calcular $f(x) = x + 1$ pela função $$F(x) = \\frac{x^2 - 1}{x - 1}$$.\n",
    "\n",
    "Espera problemas neste caso?"
   ]
  },
  {
   "cell_type": "code",
   "execution_count": 28,
   "metadata": {
    "slideshow": {
     "slide_type": "subslide"
    }
   },
   "outputs": [
    {
     "name": "stderr",
     "output_type": "stream",
     "text": [
      "<ipython-input-28-05dff123f37e>:2: RuntimeWarning: invalid value encountered in true_divide\n",
      "  f_hat = (x**2 - 1.0) / (x - 1.0)\n"
     ]
    },
    {
     "data": {
      "image/png": "[encoded data removed]",
      "text/plain": [
       "<Figure size 432x288 with 1 Axes>"
      ]
     },
     "metadata": {
      "needs_background": "light"
     },
     "output_type": "display_data"
    }
   ],
   "source": [
    "x = numpy.linspace(0.5, 1.5, 101, dtype=numpy.float16)\n",
    "f_hat = (x**2 - 1.0) / (x - 1.0)\n",
    "f = (x + 1.0)\n",
    "\n",
    "fig = plt.figure()\n",
    "axes = fig.add_subplot(1, 1, 1)\n",
    "axes.plot(x, numpy.abs(f - f_hat)/numpy.abs(f))\n",
    "axes.set_xlabel(\"$x$\")\n",
    "axes.set_ylabel(\"Erro relativo\")\n",
    "plt.show()"
   ]
  },
  {
   "cell_type": "markdown",
   "metadata": {},
   "source": [
    "## Condicionamento e estabilidade\n",
    "\n",
    "Identificamos assim um\n",
    "outro tipo de problema problema que pode não estar relacionado com a\n",
    "função a calcular, mas sim com a ordem como o cálculo efectuado no\n",
    "algoritmo. Poderá acontecer que dois algoritmos diferentes,\n",
    "equivalentes do ponto vista algébrico, não o sejam do ponto de vista\n",
    "numérico, devido à propagação de erros. Distinguimos assim duas\n",
    "noções:\n",
    "\n",
    "#### Definição: \n",
    "Um problema diz-se `bem condicionado` se pequenos erros relativos nos dados produzem pequenos erros relativos no resultado. Caso contrário, diz-se `mal condicionado`.\n",
    "\n",
    "O caso de mau condicionamento para cálculo de uma função corresponde\n",
    "a ter um número de condição $P_f=\\max\\{\\frac{x.f'(x)}{f(x)}:x\\in [a,b]\\}$ elevado.\n",
    "\n",
    "- Se $P_f <= 1$, problema é bem condicionado\n",
    "- Se $P_f > 1$, problema é mal condicionado\n",
    "\n",
    "#### Definição: \n",
    "Um algoritmo é `numericamente estável` se a pequenos erros\n",
    "relativos dos dados, e a pequenos valores da unidade de\n",
    "arredondamento, corresponder um pequeno erro relativo nos\n",
    "resultados. Caso contrário, diz-se numericamente `instável`.\n",
    "\n"
   ]
  },
  {
   "cell_type": "markdown",
   "metadata": {},
   "source": [
    "As expressões abaixo são equivalentes:\n",
    "$$f_1(x)=\\sqrt{x}(\\sqrt{x+1}-\\sqrt{x}),\\,f_2=\\frac{\\sqrt{x}}{\\sqrt{x+1}+\\sqrt{x}}$$\n",
    "nesse sentido esperamos que dêem exactamente os mesmos resultados.\n",
    "\n",
    "![title](./images/nm122r.jpg)\n",
    "\n",
    "Os resultados são naturalmente intrigantes. O incremento do valor de\n",
    "$x$ faz com que $f_1(x)$ oscile enquanto que o valor de $f_2(x)$\n",
    "converge para $1/2$. O que se passa com o $f_2$ resulta da drástica\n",
    "redução do número de dígitos significativos quando se subtrai\n",
    "$\\sqrt{x+1}-\\sqrt{x}$, designada por perda de significância. Para\n",
    "vermos de perto este fenómeno tomemos $x=10^{15}$. Assim temos\n",
    "$$\\sqrt{x+1}=3.162277660168381\\times10^7 = 31622776.60168381$$\n",
    "$$\\sqrt{x}=3.162277660168379\\times10^7 = 31622776.60168379$$\n",
    "Ambos os números têm 52 bits significativos, ou dito de forma\n",
    "equivalente 16 dígitos significativos. Donde temos\n",
    "$$\\sqrt{x+1}+\\sqrt{x}=63245553.20336761$$\n",
    "$$\\sqrt{x+1}-\\sqrt{x}=0.00000001862645149230957\\approx0.00000002$$\n",
    "o número de dígitos significativos foi reduzida de 16 para 1. A\n",
    "baixo apresentamos\n",
    "\n",
    "![title](./images/cancellation.jpg)\n",
    "\n",
    "Nesta secção apresentamos alguns truques que evitam a hipótese de\n",
    "ocorram erros grandes."
   ]
  },
  {
   "cell_type": "markdown",
   "metadata": {},
   "source": [
    "Por forma a evitar que se dêem erros por anulamento subtractivo é\n",
    "importante que não subtraiam números com igual valor. Por exemplo\n",
    "para se determinar as soluções da equação de segundo grau\n",
    "$ax^2+bx+c=0$ usando a fórmula resolvente:\n",
    "$$\n",
    "x_1=\\frac{-b+\\sqrt{b^2-4ac}}{2a},\\, x_2=\\frac{-b-\\sqrt{b^2-4ac}}{2a}\n",
    "$$\n",
    "Se o valor de $|4ac|$ for muito próximo de $b^2$, dependendo do\n",
    "sinal de $b$ provocamos um cancelamento subtractivo no cálculo de\n",
    "$x_1$ ou $x_2$. Isto pode ser contornado se calcularmos primeiro a\n",
    "raiz de maior valor absoluto e depois obter a outra raiz usando a\n",
    "relação $x_1x_2=c/a$."
   ]
  },
  {
   "cell_type": "markdown",
   "metadata": {},
   "source": [
    "### Exemplo:\n",
    "\n",
    "Considerando as duas funções, que são analiticamente equivalentes:\n",
    "$$\n",
    "f_1(x)=\\frac{1-\\cos(x)}{x^2},\\,f_2(x)=\\frac{\\sin^2(x)}{x^2(1+\\cos(x))}\n",
    "$$\n",
    "A função $f_1$ é segura para valores de $x$ muito próximo de $\\pi$\n",
    "enquanto o termo $1+\\cos(x)$ de $f_2$ pode provocar cancelamento\n",
    "subtractivo, enquanto para valores de $x$ muito próximos de $0$ a\n",
    "função $f_2$ é mais segura que $f_1$. Podemos constatar isso:\n",
    "\n",
    "![title](./images/nm125_2r.jpg)\n",
    "\n",
    "Uma forma útil para evitar o cancelamento subtractivo é usar uma\n",
    "série de Taylor. Supondo que cremos calcular\n",
    "$$\n",
    "f_3(x)=\\frac{e^x-1}{x}\\,\\text{ em } x=0\n",
    "$$\n",
    "Aproximando a função $e^x$ usando um polinómio de Taylor de ordem 4\n",
    "nas vizinhas do ponto zero temos:\n",
    "$$\n",
    "e^x\\approx 1 +x+\\frac{1}{2!}x^2+\\frac{1}{3!}x^3+\\frac{1}{4!}x^4\n",
    "$$\n",
    "donde\n",
    "$$\n",
    "e^x-1\\approx x+\\frac{1}{2!}x^2+\\frac{1}{3!}x^3+\\frac{1}{4!}x^4\n",
    "$$\n",
    "ou seja\n",
    "$$\n",
    "\\frac{e^x-1}{x}\\approx 1\n",
    "+\\frac{1}{2!}x+\\frac{1}{3!}x^2+\\frac{1}{4!}x^3=f_4(x)\n",
    "$$\n",
    "Comparando os resultados de $f_3$ e $f_4$\n",
    "nas vizinhanças de $x=0$\n",
    "\n",
    "![title](./images/nm125_3r.jpg)\n"
   ]
  },
  {
   "cell_type": "markdown",
   "metadata": {
    "slideshow": {
     "slide_type": "slide"
    }
   },
   "source": [
    "## Combinação de erro\n",
    "\n",
    "Em geral, precisamos nos preocupar com a combinação de erro de discretização com os erro de representação.\n",
    "\n",
    "Erro de discretização: erros que ocorrem da aproximação de uma função, truncamento por exemplo os termos de uma série...\n",
    "\n",
    "$$\\sin x \\approx x - \\frac{x^3}{3!} + \\frac{x^5}{5!} + O(x^7)$$\n",
    "\n",
    "Erro de virgula flutuante: erros decorrentes da aproximação de números reais com números de precisão finita\n",
    "\n",
    "$$\\pi \\approx 3.14$$\n",
    "\n",
    "ou $\\frac{1}{3} \\approx 0.333333333$ em decimal, os resultados formam um número finito de registros para representar cada número."
   ]
  },
  {
   "cell_type": "markdown",
   "metadata": {
    "slideshow": {
     "slide_type": "slide"
    }
   },
   "source": [
    "### Example 1\n",
    "\n",
    "Considere a aproximação das diferenças finitas em que $f(x) = e^x$ a avaliar em $x=1$?\n",
    "\n",
    "$$f'(x) \\approx \\frac{f(x + \\Delta x) - f(x)}{\\Delta x} \\text(Unilateral)$$\n",
    "$$f'(x) \\approx \\frac{f(x + \\Delta x) - f(x - \\Delta )}{2\\Delta x} \\text(Centrado)$$\n",
    "Compare o erro entre fazer diminuir $\\Delta x$ e a solução exata $f'(1) = e$."
   ]
  },
  {
   "cell_type": "code",
   "execution_count": 29,
   "metadata": {
    "slideshow": {
     "slide_type": "subslide"
    }
   },
   "outputs": [
    {
     "data": {
      "image/png": "[encoded data removed]",
      "text/plain": [
       "<Figure size 432x288 with 1 Axes>"
      ]
     },
     "metadata": {
      "needs_background": "light"
     },
     "output_type": "display_data"
    }
   ],
   "source": [
    "delta_x = numpy.array([2.0**(-n) for n in range(1, 60)])\n",
    "x = 1.0\n",
    "f_hat_1 = (numpy.exp(x + delta_x) - numpy.exp(x)) / (delta_x)\n",
    "f_hat_2 = (numpy.exp(x + delta_x) - numpy.exp(x - delta_x)) / (2.0 * delta_x)\n",
    "\n",
    "fig = plt.figure()\n",
    "axes = fig.add_subplot(1, 1, 1)\n",
    "axes.loglog(delta_x, numpy.abs(f_hat_1 - numpy.exp(1)), 'o-', label=\"Unilateral\")\n",
    "axes.loglog(delta_x, numpy.abs(f_hat_2 - numpy.exp(1)), 's-', label=\"Centrado\")\n",
    "axes.legend(loc=3)\n",
    "axes.set_xlabel(\"$\\Delta x$\")\n",
    "axes.set_ylabel(\"Erro absoluto\")\n",
    "plt.show()"
   ]
  },
  {
   "cell_type": "markdown",
   "metadata": {
    "slideshow": {
     "slide_type": "slide"
    }
   },
   "source": [
    "### Example 2\n",
    "\n",
    "Avalie $e^x$ usando a série de Taylor.\n",
    "\n",
    "$$e^x = \\sum^\\infty_{n=0} \\frac{x^n}{n!}$$\n",
    "\n",
    "Podemos escolher $N < \\infty$ de forma a aproximar $e^x$ no intervalo $x \\in [a,b]$ de forma a que o erro relativo $E$ satisfaz $E < 8 \\cdot \\varepsilon_{\\text{machine}}$?\n",
    "\n",
    "Comecemos por definir uma função que simplesmente avalie o polinómio de Taylor diretamente para diferentes valores de  $N$."
   ]
  },
  {
   "cell_type": "code",
   "execution_count": 30,
   "metadata": {
    "slideshow": {
     "slide_type": "subslide"
    }
   },
   "outputs": [],
   "source": [
    "from scipy.special import factorial\n",
    "\n",
    "def my_exp(x, N=10):\n",
    "    value = 0.0\n",
    "    for n in range(N + 1):\n",
    "        value += x**n / numpy.float(factorial(n))\n",
    "        \n",
    "    return value"
   ]
  },
  {
   "cell_type": "markdown",
   "metadata": {
    "slideshow": {
     "slide_type": "fragment"
    }
   },
   "source": [
    "Testemos... para ver o que acontece."
   ]
  },
  {
   "cell_type": "code",
   "execution_count": 31,
   "metadata": {
    "slideshow": {
     "slide_type": "subslide"
    }
   },
   "outputs": [],
   "source": [
    "eps = numpy.finfo(float).eps\n",
    "\n",
    "x = numpy.linspace(-2., 50., 100, dtype=numpy.float)\n",
    "for N in range(1, 300):\n",
    "    error = numpy.abs((numpy.exp(x) - my_exp(x, N=N)) / numpy.exp(x))\n",
    "    if numpy.all(error < 8.0 * eps):\n",
    "        break"
   ]
  },
  {
   "cell_type": "code",
   "execution_count": 32,
   "metadata": {
    "hide_input": true,
    "slideshow": {
     "slide_type": "fragment"
    }
   },
   "outputs": [
    {
     "data": {
      "image/png": "[encoded data removed]",
      "text/plain": [
       "<Figure size 576x432 with 1 Axes>"
      ]
     },
     "metadata": {
      "needs_background": "light"
     },
     "output_type": "display_data"
    }
   ],
   "source": [
    "fig = plt.figure(figsize=(8,6))\n",
    "axes = fig.add_subplot(1, 1, 1)\n",
    "axes.plot(x, error/eps)\n",
    "axes.set_xlabel(\"x\")\n",
    "axes.set_ylabel(\"Erro relativo/eps\")\n",
    "axes.set_title('N = {} terms'.format(N))\n",
    "plt.show()"
   ]
  },
  {
   "cell_type": "markdown",
   "metadata": {
    "hide_input": true,
    "slideshow": {
     "slide_type": "subslide"
    }
   },
   "source": [
    "Alguns links que podem ser úteis:\n",
    " - [What Every Computer Scientist Should Know About Floating-Point Arithmetic](http://docs.oracle.com/cd/E19957-01/806-3568/ncg_goldberg.html)\n",
    " - [IEEE 754 Floating Point Calculator](http://babbage.cs.qc.edu/courses/cs341/IEEE-754.html)\n",
    " - [Numerical Computing with IEEE Floating Point Arithmetic](http://epubs.siam.org/doi/book/10.1137/1.9780898718072)"
   ]
  },
  {
   "cell_type": "markdown",
   "metadata": {
    "slideshow": {
     "slide_type": "skip"
    }
   },
   "source": [
    "## Contando operações\n",
    "\n",
    "Erro de Discretização:  **Por que não usar mais termos da série Taylor?**\n",
    "\n",
    "Erro de virgula flutuante: **Por que não usar a maior precisão possível?**"
   ]
  },
  {
   "cell_type": "markdown",
   "metadata": {
    "slideshow": {
     "slide_type": "skip"
    }
   },
   "source": [
    "### Exemplo 1: Multiplicação matriz-vetor\n",
    "\n",
    "Seja $A, B \\in \\mathbb{R}^{N \\times N}$ e $x \\in \\mathbb{R}^N$.  \n",
    "\n",
    "1. Conte o número aproximado de operações necessárias para calcular $A x$.\n",
    "2. Faça o mesmo para $A B$."
   ]
  },
  {
   "cell_type": "markdown",
   "metadata": {
    "slideshow": {
     "slide_type": "skip"
    }
   },
   "source": [
    "Produto vetor matricial:  Seja $[A]_i$ a linha $i$th de $A$ e $A_{ij}$ como a entrada $i$, $j$th temos\n",
    "$$\n",
    "    A x = \\sum^N_{i=1} [A]_i \\cdot x = \\sum^N_{i=1} \\sum^N_{j=1} A_{ij} x_j\n",
    "$$\n",
    "\n",
    "Oara $N = 3$ temos\n",
    "$$\n",
    "    A x = [A]_1 \\cdot v + [A]_2 \\cdot v + [A]_3 \\cdot v = \\begin{bmatrix}\n",
    "        A_{11} \\times v_1 + A_{12} \\times v_2 + A_{13} \\times v_3 \\\\\n",
    "        A_{21} \\times v_1 + A_{22} \\times v_2 + A_{23} \\times v_3 \\\\\n",
    "        A_{31} \\times v_1 + A_{32} \\times v_2 + A_{33} \\times v_3\n",
    "    \\end{bmatrix}\n",
    "$$\n",
    "\n",
    "Neste caso são 15 operações (6 adições e 9 multiplicações)."
   ]
  },
  {
   "cell_type": "markdown",
   "metadata": {
    "slideshow": {
     "slide_type": "skip"
    }
   },
   "source": [
    "Para $N = 4$ temos\n",
    "$$\n",
    "    A x = [A]_1 \\cdot v + [A]_2 \\cdot v + [A]_3 \\cdot v = \\begin{bmatrix}\n",
    "        A_{11} \\times v_1 + A_{12} \\times v_2 + A_{13} \\times v_3 + A_{14} \\times v_4 \\\\\n",
    "        A_{21} \\times v_1 + A_{22} \\times v_2 + A_{23} \\times v_3 + A_{24} \\times v_4 \\\\\n",
    "        A_{31} \\times v_1 + A_{32} \\times v_2 + A_{33} \\times v_3 + A_{34} \\times v_4 \\\\\n",
    "        A_{41} \\times v_1 + A_{42} \\times v_2 + A_{43} \\times v_3 + A_{44} \\times v_4 \\\\\n",
    "    \\end{bmatrix}\n",
    "$$\n",
    "\n",
    "São nesye caso 28 operações (12 adições e 16 multiplicações).\n",
    "\n",
    "Generalizando isso, existem $N^2$ multiplicações e $N (N -1)$ adições num total de\n",
    "\n",
    "$$\n",
    "    \\text{operações} = N (N - 1) + N^2 = \\mathcal{O}(N^2).\n",
    "$$"
   ]
  },
  {
   "cell_type": "markdown",
   "metadata": {
    "slideshow": {
     "slide_type": "skip"
    }
   },
   "source": [
    "Produto Matriz-Matriz ($AB$):  Seja $[B]_j$ a coluna $j$ de $B$ temos\n",
    "$$\n",
    "    (A B)_{ij} = \\sum^N_{i=1} \\sum^N_{j=1} [A]_i \\cdot [B]_j\n",
    "$$\n",
    "O produto interno de dois vetores é representado por\n",
    "$$\n",
    "    a \\cdot b = \\sum^N_{i=1} a_i b_i\n",
    "$$\n",
    "que é definido por $\\mathcal{O}(3N)$ operações.  Uma vez que existem $N^2$ entradas na matriz resultante, temos $\\mathcal{O}(N^3)$ operações."
   ]
  },
  {
   "cell_type": "markdown",
   "metadata": {
    "slideshow": {
     "slide_type": "skip"
    }
   },
   "source": [
    "Existem métodos para executar a multiplicação matriz-matriz mais eficientes que o usual. Na figura a seguir, apresentamos  a evolução de dos algoritmos para multiplicar matrizes em termos do número de operações. No eixo do $y$ deve ler\n",
    "$$\n",
    "    \\mathcal{O}(N^\\omega)\n",
    "$$\n",
    "![matrix multiplication operation bound](./images/bound_matrix_multiply.png)"
   ]
  },
  {
   "cell_type": "markdown",
   "metadata": {},
   "source": [
    "## Exercícios"
   ]
  },
  {
   "cell_type": "markdown",
   "metadata": {},
   "source": [
    "1- Para 100 valores de $x$ no intervalo $[10^{14},10^{16}]$,\n",
    "avalie as duas expressões abaixo, apresente os seus gráficos  e\n",
    "identifique a que é mais estável quanto à perda de dígitos\n",
    "significativos:\n",
    "- $y=\\sqrt{2x^2+1}-1$\n",
    "- $y=\\frac{2x^2}{\\sqrt{2x^2+1}+1}$"
   ]
  },
  {
   "cell_type": "markdown",
   "metadata": {},
   "source": [
    "2- Para 100 valores de $x$ no intervalo $[10^{-9},10^{-7.4}]$,\n",
    "  avalie as duas expressões abaixo, apresente os seus gráficos  e\n",
    "  identifique a que é mais estável quanto à perda de dígitos\n",
    "  significativos:\n",
    "- $y=\\sqrt{x+4}-\\sqrt{x+3}$\n",
    "- $y=\\frac{1}{\\sqrt{x+4}+\\sqrt{x+3}}$"
   ]
  },
  {
   "cell_type": "markdown",
   "metadata": {},
   "source": [
    "3- Um rectângulo mede 20cm$\\pm0.2$ de largura 31cm$\\pm0.4$ de comprimento:\n",
    "1. Calcule a área deste rectângulo mostrando o intervalo de\n",
    "    valores possíveis.\n",
    "2. Determine uma estimativa do valor da área deste rectângulo\n",
    "    e calcule uma estimativa do limite superior do erro absoluto da\n",
    "    área do rectângulo."
   ]
  },
  {
   "cell_type": "markdown",
   "metadata": {},
   "source": [
    "4- A equação que descreve a velocidade de um objecto em queda\n",
    "  livre é dada por\n",
    "  $$\n",
    "      v(t)=\\frac{gm}{c}(1-e^{-(c/m)t})\n",
    "  $$\n",
    "  onde $g$ é a aceleração devido à gravidade, $c$ é o coeficiente de\n",
    "  atrito e $m$ a massa do objecto. Estime o erro de $v$, avaliado em\n",
    "  $t=6$, se $g\\approx9.8$, $m=50\\pm0.5$ e $c=12.5\\pm2$."
   ]
  },
  {
   "cell_type": "markdown",
   "metadata": {},
   "source": [
    "5- Determine o número de termos necessário para aproximar\n",
    "  $\\cos(0.3\\pi)$ a 8 algarismos significativos usando o desenvolvimento em série de\n",
    "  Maclaurin\n",
    "  $$\\cos(x)=1-\\frac{x^2}{2}+\\frac{x^4}{4!}-\\frac{x^6}{6!}+\\frac{x^8}{8!}-\\ldots$$"
   ]
  },
  {
   "cell_type": "code",
   "execution_count": null,
   "metadata": {},
   "outputs": [],
   "source": []
  }
 ],
 "metadata": {
  "celltoolbar": "Slideshow",
  "kernelspec": {
   "display_name": "Python 3",
   "language": "python",
   "name": "python3"
  },
  "language_info": {
   "codemirror_mode": {
    "name": "ipython",
    "version": 3
   },
   "file_extension": ".py",
   "mimetype": "text/x-python",
   "name": "python",
   "nbconvert_exporter": "python",
   "pygments_lexer": "ipython3",
   "version": "3.8.2"
  },
  "latex_envs": {
   "bibliofile": "biblio.bib",
   "cite_by": "apalike",
   "current_citInitial": 1,
   "eqLabelWithNumbers": true,
   "eqNumInitial": 0
  }
 },
 "nbformat": 4,
 "nbformat_minor": 4
}
