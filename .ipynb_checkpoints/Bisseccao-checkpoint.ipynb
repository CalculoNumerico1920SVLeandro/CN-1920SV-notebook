{
 "cells": [
  {
   "cell_type": "code",
   "execution_count": 1,
   "metadata": {},
   "outputs": [],
   "source": [
    "import math\n"
   ]
  },
  {
   "cell_type": "code",
   "execution_count": 2,
   "metadata": {},
   "outputs": [],
   "source": [
    "def f(x):\n",
    "    return math.cos(x)-x"
   ]
  },
  {
   "cell_type": "code",
   "execution_count": 3,
   "metadata": {},
   "outputs": [
    {
     "data": {
      "text/plain": [
       "-0.45969769413186023"
      ]
     },
     "execution_count": 3,
     "metadata": {},
     "output_type": "execute_result"
    }
   ],
   "source": []
  },
  {
   "cell_type": "code",
   "execution_count": 26,
   "metadata": {},
   "outputs": [],
   "source": [
    "i=1\n",
    "a=0\n",
    "b=1\n",
    "Erro = math.inf\n",
    "MaxN = 100\n",
    "TOL = 0.01"
   ]
  },
  {
   "cell_type": "code",
   "execution_count": 27,
   "metadata": {},
   "outputs": [
    {
     "name": "stdout",
     "output_type": "stream",
     "text": [
      "1 0 1 0.5 -0.45969769413186023 1\n",
      "2 0 0.5 0.25 0.37758256189037276 0.5\n",
      "3 0.25 0.5 0.375 0.27144879396431726 0.25\n",
      "4 0.375 0.5 0.4375 0.2097499910312802 0.125\n",
      "5 0.4375 0.5 0.46875 0.17682708035628206 0.0625\n",
      "6 0.46875 0.5 0.484375 0.15986230186961314 0.03125\n",
      "7 0.484375 0.5 0.4921875 0.1512562351517685 0.015625\n"
     ]
    }
   ],
   "source": [
    "while i<=MaxN and abs(b-a) >= TOL:\n",
    "    p=(a+b)/2\n",
    "    \n",
    "    print(i,a,b,p,f(a)*f(b), abs(b-a) )\n",
    "    if f(a)*f(b)>0:\n",
    "        a=p\n",
    "    else:\n",
    "        b=p\n",
    "    i=i+1"
   ]
  },
  {
   "cell_type": "code",
   "execution_count": 11,
   "metadata": {},
   "outputs": [
    {
     "data": {
      "text/plain": [
       "0.5"
      ]
     },
     "execution_count": 11,
     "metadata": {},
     "output_type": "execute_result"
    }
   ],
   "source": [
    "a"
   ]
  },
  {
   "cell_type": "code",
   "execution_count": 12,
   "metadata": {},
   "outputs": [
    {
     "data": {
      "text/plain": [
       "0.5"
      ]
     },
     "execution_count": 12,
     "metadata": {},
     "output_type": "execute_result"
    }
   ],
   "source": [
    "b"
   ]
  },
  {
   "cell_type": "code",
   "execution_count": null,
   "metadata": {},
   "outputs": [],
   "source": []
  }
 ],
 "metadata": {
  "kernelspec": {
   "display_name": "Python 3",
   "language": "python",
   "name": "python3"
  },
  "language_info": {
   "codemirror_mode": {
    "name": "ipython",
    "version": 3
   },
   "file_extension": ".py",
   "mimetype": "text/x-python",
   "name": "python",
   "nbconvert_exporter": "python",
   "pygments_lexer": "ipython3",
   "version": "3.8.2"
  }
 },
 "nbformat": 4,
 "nbformat_minor": 4
}
