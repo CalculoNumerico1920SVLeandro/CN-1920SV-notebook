{
 "cells": [
  {
   "cell_type": "markdown",
   "metadata": {
    "slideshow": {
     "slide_type": "skip"
    }
   },
   "source": [
    "<table>\n",
    " <tr align=left><td><img align=left src=\"./images/CC-BY.png\">\n",
    " <td>Text provided under a Creative Commons Attribution license, CC-BY. All code is made available under the FSF-approved MIT license. (c) Kyle T. Mandli</td>\n",
    "</table>"
   ]
  },
  {
   "cell_type": "code",
   "execution_count": 1,
   "metadata": {
    "slideshow": {
     "slide_type": "skip"
    }
   },
   "outputs": [],
   "source": [
    "from __future__ import print_function\n",
    "\n",
    "%matplotlib inline\n",
    "import numpy\n",
    "import matplotlib.pyplot as plt"
   ]
  },
  {
   "cell_type": "markdown",
   "metadata": {
    "slideshow": {
     "slide_type": "slide"
    }
   },
   "source": [
    "# Resolução de equações não lineares \n",
    "\n",
    "Neste capítulo vamos expor alguns métodos que nos permitem obter uma\n",
    "aproximação da solução real duma função real da forma\n",
    "$$\n",
    "f(x)=0.\n",
    "$$\n",
    "Os valores de $x^\\ast$ tais que $f(x^\\ast)=0$ são designados por\n",
    "zeros de $f$, ou raízes de $f(x)=0$. Só para algumas escolhas\n",
    "particulares de $f$ é que são conhecidos processos que permitem\n",
    "calcular os referidos valores usando um número finito de operações.\n",
    "Um exemplo disso é a fórmula resolvente para polinómios de segundo\n",
    "grau. Apesar de também existirem métodos para calcular raízes de\n",
    "polinómios de grau 3 e 4, as raízes de polinómios com grau superior\n",
    "a 5 temos de recorrer a métodos numéricos. Além disso, de um modo\n",
    "geral, não existem fórmulas para a determinação de raízes de\n",
    "equações não lineares não polinomial ou soluções de sistemas de\n",
    "equações não lineares. Na impossibilidade de obter soluções exactas\n",
    "é usual recorrer a métodos chamados iterativos por forma a obter uma\n",
    "solução aproximada para o problema.\n"
   ]
  },
  {
   "cell_type": "markdown",
   "metadata": {},
   "source": [
    "### Métodos iterativos\n",
    "\n",
    "A filosofia dos métodos iterativos consiste em, partindo de uma\n",
    "aproximação inicial $x_0$ para a solução $x^\\ast$ do problema, gerar\n",
    "uma sucessão de valores\n",
    "$$\n",
    "x_{k+1}=g(x_k),\\,k=0,1,2,\\ldots,\n",
    "$$\n",
    "que seja convergente para a solução.\n",
    "\n",
    "O método interativo\n",
    "$$\n",
    "x_{k+1}=g(x_k),\\,k=0,1,2,\\ldots,\n",
    "$$\n",
    "diz-se convergente para $x^\\ast$ se\n",
    "$$\n",
    "\\lim_{k\\rightarrow\\infty}|x^\\ast-x_k|=0,\n",
    "$$\n",
    "i.e. se tomarmos $x_k$ como uma aproximação a $x^\\ast$ o erro\n",
    "absoluto $|\\varepsilon_{x_k}|$ converge para zero.\n",
    "\n",
    "\n",
    "Quando estamos na presença de vários métodos interactivos\n",
    "convergentes para $x^\\ast$ torna-se muitas vezes importante\n",
    "seleccionar o mais eficiente, i.e. o que converge mais rapidamente\n",
    "para o valor de $x^\\ast$."
   ]
  },
  {
   "cell_type": "markdown",
   "metadata": {},
   "source": [
    "## Exemplo\n",
    "\n",
    "Determinemos uma aproximação para $\\sqrt{a}$, onde $a$ é um real\n",
    "positivo, usando os seguintes processos iterativos :\n",
    "$$x_{n+1}=x_n-\\frac{x_n^2-a}{2x_n}$$\n",
    "e\n",
    "$$x_{n+1}=\\frac{x_n^2+3ax_n}{3x_n^2+a}.$$\n",
    "Na tabela seguinte apresentamos a aplicação do primeiro processo\n",
    "para aproximar $\\sqrt{111}$ diferentes valores iniciais $a_0$.\n",
    "\n",
    "\n",
    "|    |    |    |    |    |    |     | \n",
    "|--- |--- |--- |--- |--- |--- |--- |\n",
    "|n| $a_n$  | $|\\varepsilon_{a_n}|$      |  $a_n$     |   $|\\varepsilon_{a_n}|$    | $a_n$     |  $|\\varepsilon_{a_n}|$ |     |--- |--- |--- |--- |--- |--- |--- |\n",
    "|0   |   0,1  |       |   1   |       |   200 |       |\n",
    "|1   |   555,05000000    |   544,5143462 |   56,00000000 |   45,4643462  |   100,27750000    |   89,7418462  |\n",
    "|2   |   277,62499099    |   267,0893372 |   28,99107143 |   18,4554177  |   50,69221414 |   40,1565604  |\n",
    "|3   |   139,01240545    |   128,4767517 |   16,40991822 |   5,8742645   |   26,44094976 |   15,9052960  |\n",
    "|4   |   69,90544767 |   59,3697939  |   11,58706006 |   1,0514063   |   15,31949176 |   4,7838380   |\n",
    "|5   |   35,74665338 |   25,2109996  |   10,58335590 |   0,0477021   |   11,28258147 |   0,7469277   |\n",
    "|6   |   19,42591958 |   8,8902658   |   10,53576126 |   0,0001075   |   10,56037775 |   0,0247240   |\n",
    "|7   |   12,56996740 |   2,0343136   |   10,53565375 |   0,0000000   |   10,53568269 |   0,0000289   |\n",
    "|8   |   10,70026961 |   0,1646159   |   10,53565375 |   0,0000000   |   10,53565375 |   0,0000000   |\n",
    "|9   |   10,53692000 |   0,0012662   |   10,53565375 |   0,0000000   |   10,53565375 |   0,0000000   |\n",
    "|10  |   10,53565383 |   0,0000001   |   10,53565375 |   0,0000000   |   10,53565375 |   0,0000000   |\n",
    "|11  |   10,53565375 |   0,0000000   |   10,53565375 |   0,0000000   |   10,53565375 |   0,0000000   |\n",
    "\n",
    "Ambas as iterações convergem para $\\sqrt{111}$. Quando comparamos os\n",
    "resultados com a sucessão convergente definida pelo segundo\n",
    "processos podemos constatar que este último é bastante mais\n",
    "eficiente (converge mais rapidamente).\n",
    "\n",
    "|    |    |    |    |    |    |     | \n",
    "|--- |--- |--- |--- |--- |--- |--- |\n",
    "n| $a_n$  | $|\\varepsilon_{a_n}|$      |  $a_n$     |   $|\\varepsilon_{a_n}|$    | $a_n$     |  $|\\varepsilon_{a_n}|$    |  |--- |--- |--- |--- |--- |--- |--- |\n",
    "|0   |   0,1 |       |   1   |       |   200 |       \\\\\n",
    "|1   |   0,29992795  |   10,2357258  |   2,92982456  |   7,6058292   |   67,15954409 |   56,6238903  \\\\\n",
    "|2   |   0,89784401  |   9,6378097   |   7,31823760  |   3,2174161   |   23,84369946 |   13,3080457  \\\\\n",
    "|3   |   2,64248045  |   7,8931733   |   10,41305661 |   0,1225971   |   11,83310685 |   1,2974531   \\\\\n",
    "|4   |   6,80871939  |   3,7269344   |   10,53564953 |   0,0000042   |   10,53976644 |   0,0041127   \\\\\n",
    "|5   |   10,32864760 |   0,2070062   |   10,53565375 |   0,0000000   |   10,53565375 |   0,0000000   \\\\\n",
    "|6   |   10,53563317 |   0,0000206   |   10,53565375 |   0,0000000   |   10,53565375 |   0,0000000   \\\\\n",
    "|7   |   10,53565375 |   0,0000000   |   10,53565375 |   0,0000000   |   10,53565375 |   0,0000000   \\\\\n",
    "\n"
   ]
  },
  {
   "cell_type": "markdown",
   "metadata": {},
   "source": [
    "Uma sucessão de iterações $\\{x_k\\}$ diz-se convergir com ordem de\n",
    "convergência $p\\geq0$ para $x^\\ast$ se existir uma constante $M>0$,\n",
    "independente de $k$, e uma ordem a partir da qual\n",
    "$$\n",
    "|x^\\star-x_k|\\leq M|x^\\star-x_k|^p,\n",
    "$$\n",
    "\n",
    "A velocidade de convergência dum processo iterativo está associado\n",
    "ao conceito de ordem de convergência. Quanto maior a ordem de\n",
    "convergência mais rápido é em geral, a velocidade de convergência do\n",
    "processo. Se $p=1$ é usual dizer-se que o método iterativo converge\n",
    "linearmente para $x^\\ast$. Caso $p=2$ diz-se que a convergência é\n",
    "quadrática."
   ]
  },
  {
   "cell_type": "markdown",
   "metadata": {},
   "source": [
    "Naturalmente que a aplicação de métodos iterativos para a resolução\n",
    "de equações levanta algumas questões:\n",
    "\n",
    "- Como determinar uma solução inicial?\n",
    "- Como determinar um método iterativo convergente para uma solução?\n",
    "- Como podemos saber se o valor calculado numa iteração é uma\n",
    "  boa aproximação à solução exacta, i.e. como parar o processo\n",
    "  iterativo?\n",
    "\n",
    "No próximo paragrafo damos resposta à primeira pergunta abordando\n",
    "métodos para localizar raízes. A abordagem sistemática à definição\n",
    "de processos iterativos que convergem para soluções de equações é\n",
    "feita decompondo os processos em duas classes:\n",
    "\n",
    "- Métodos de decomposição intervalar\n",
    "- Métodos abertos\n",
    "\n",
    "Os métodos de decomposição intervalar ou de domínio são métodos\n",
    "iterativos em que a aproximação inicial à raiz é feita através do\n",
    "ponto médio dum intervalo que a contém. Nos métodos abertos permitem\n",
    "definir processos iterativos bastante eficientes, mas são mais\n",
    "exigentes quanto à natureza da função e do valor iniciar proforma\n",
    "para que seja convergente para a solução. Vamos abordar o método\n",
    "de decomposição de domínio: o método da Bisseclão.\n",
    "Como exemplo de métodos abertos apresentamos: o método de Newton-Raphson "
   ]
  },
  {
   "cell_type": "markdown",
   "metadata": {},
   "source": [
    "Seja $x_{k+1}=g(x_k),\\,k=0,1,2,\\ldots$, um processo iterativo\n",
    "gerador duma sucessão de aproximações convergentes para a solução\n",
    "$x\\ast$ duma equação $f(x)=0$. Os critérios de paragem mais\n",
    "frequentes, quando se pretende aproximar a raiz são:\n",
    "\n",
    "- Critério do erro absoluto: $|x_k-x_{k-1}|<\\varepsilon$;\n",
    "- Critério do erro relativo: $|x_k-x_{k-1}|<\\varepsilon|x_k|$;\n",
    "- Critério do número máximo de iterações.\n",
    "\n",
    "Os dois primeiros critérios são assim conhecidos uma vez que os\n",
    "valores obtidos podem constituir estimativas para o erro relativo e\n",
    "erro absoluto cometidos. O terceiro critério utiliza-se como factor\n",
    "de segurança, para prever o caso em que o processo iterativo possa\n",
    "divergir."
   ]
  },
  {
   "cell_type": "markdown",
   "metadata": {},
   "source": [
    "Devemos desde já chamar à atenção de que o problema de determinar\n",
    "soluções às raízes duma equação $f(x)=0$ pode ser numericamente\n",
    "instável, dependendo isso de $f$. Um caso disso é o exemplo de\n",
    "Wilkinson:\n",
    "\n",
    "### exemplo:\n",
    "Consideremos a equação\n",
    "$$\n",
    "(x-1)(x-2)(x-3)+\\ldots+(x-20)=0\n",
    "$$\n",
    "que naturalmente tem por raízes $1,2,3,\\ldots,20$. Se\n",
    "desenvolvermos a função obtemos\n",
    "$$\n",
    "x^{20}-210x^{19}+\\cdots+20!=0.\n",
    "$$\n",
    "Perturbando a equação com um erro \"insignificante\", por exemplo\n",
    "aproximando 210 por $210+2^{-23}$. Temos\n",
    "$$\n",
    "x^{20}-(210+2^{-23})x^{19}+\\cdots+20!=0.\n",
    "$$\n",
    "que tem apenas 10 raízes reais 1, 2, 3, 4, 5, 6.0001, 6.9997, 8.00727, 8.91725 e 20.84691."
   ]
  },
  {
   "cell_type": "markdown",
   "metadata": {},
   "source": [
    "### Determinação da aproximação inicial\n",
    "\n",
    "Num processo iterativo é necessário determinar uma estimativa\n",
    "inicial da solução do problema. Por várias razões, algumas das quais\n",
    "óbvias, é de todo interesse que essa aproximação esteja o mais\n",
    "próximo possível da solução exacta.\n",
    "\n",
    "Em alguns casos podemos intuitivamente determinar aproximações\n",
    "iniciais:"
   ]
  },
  {
   "cell_type": "markdown",
   "metadata": {},
   "source": [
    "####  Exemplo:\n",
    "As soluções de $x^{2.1}-2=0$ podem ser aproximada pelas soluções de\n",
    "$x^2-2=0$, i.e. $-\\sqrt{2}$ e $\\sqrt{2}$."
   ]
  },
  {
   "cell_type": "markdown",
   "metadata": {},
   "source": [
    "####  Exemplo:\n",
    "A maior raiz de $x^5-x-2=0$ pode ser aproximada por $\\sqrt[5]{2}$."
   ]
  },
  {
   "cell_type": "markdown",
   "metadata": {},
   "source": [
    "As técnicas usadas são puramente heurísticas. Os processos mais\n",
    "usados para obter uma aproximação inicial consistem na determinação\n",
    "de intervalos de pequena amplitude contendo a raiz a calcular.\n",
    "\n",
    "Com o auxilio das modernos ambientes computacionais, ou ferramentas\n",
    "do tipo Excel, a localização gráfica de raízes tornasse trivial. A\n",
    "qualidade das aproximações depende da destreza do utilizador e das\n",
    "limitações que existam na representação."
   ]
  },
  {
   "cell_type": "markdown",
   "metadata": {},
   "source": [
    "O processo de determinação gráfica dum intervalo que contém um raiz\n",
    "pode ser sempre acompanhado duma confirmação analítica. Esta\n",
    "confirmação pode resultar da aplicação dum corolário imediato do Teorema de Bolzano."
   ]
  },
  {
   "cell_type": "markdown",
   "metadata": {},
   "source": [
    "### Teorema de Bolzano\n",
    "Se $f$ for uma função contínua em $[a,b]$ e se $f(a).f(b)<0$ então\n",
    "existe pelo menos um $x\\in]a,b[$ tal que $f(x)=0$."
   ]
  },
  {
   "cell_type": "markdown",
   "metadata": {},
   "source": [
    "\n",
    "![Raizes 1](./images/raizesfuncont.jpg)\n",
    "\n",
    "\n",
    "Se para além das hipóteses do teorema anterior se verificar que a\n",
    "derivada de $f$ não muda de sinal no intervalo $[a,b]$, então a raiz\n",
    "é única nesse intervalo.\n",
    "\n",
    "![Raizes 2](./images/raizesfuncont2.jpg)\n",
    "\n",
    "\n",
    "Temos assim um critério para verificar a existência e unicidade de\n",
    "zero de uma função contínua $f$ num dado intervalo $[a,b]$."
   ]
  },
  {
   "cell_type": "markdown",
   "metadata": {},
   "source": [
    "# Método da Bissecção \n",
    "\n",
    "O método da bissecção foi um dos primeiros métodos\n",
    "desenvolvidos para encontrar raízes de não lineares $f(x)=0$. O\n",
    "método é baseado no mesmo resultado já usado para localizar raízes:\n",
    "\n",
    "- Se $f$ for uma função contínua em $[x_e,y_d]$ e se $f(x_e).f(x_d)<0$\n",
    "então existe pelo menos um $x\\in]x_e,x_d[$ tal que $f(x)=0$.\n",
    "\n",
    "Note que caso $f(x_e).f(x_d)>0$, pode ou não existir uma raiz entre\n",
    "$x_e$ e $x_d$. Se $f(x_e).f(x_d)<0$ existe de pelo menos uma raiz.\n",
    "Assim o teorema só garante a existência duma raiz.\n",
    "\n",
    "![Raizes 3](./images/raizesfuncont3.jpg)\n",
    "\n",
    "Supondo que localizamos a raiz da função $f$ no $[x_e,x_d]$, onde\n",
    "$f$ é continuar, $f(x_e).f(x_d)<0$, e tal que a derivada não muda de\n",
    "sinal. Podemos assim tomar o ponto médio $x_m=\\frac{x_d+x_e}{2}$ do\n",
    "intervalo $I_n=[x_e,x_d]$ como uma aproximação para a raiz de $f$.\n",
    "Esta aproximação pode ser sempre melhorada se decompusermos o\n",
    "intervalo inicial em dois $[x_e,x_m]$ e $[x_m,x_d]$ e tomarmos como\n",
    "nova aproximação o ponto médio do intervalo $I_{n+1}$ que contém a\n",
    "raiz. Assim caso $f(x_e).f(x_m)<0$ temos a raiz em\n",
    "$I_{n+1}=[x_e,x_m]$, caso contrário a raiz está em\n",
    "$I_{n+1}=[x_m,x_d]$. Este procedimento pode ser aplicado a\n",
    "intervalos por forma a localizar a raiz de $f$ num intervalo de\n",
    "amplitude tão pequena quanto se queira."
   ]
  },
  {
   "cell_type": "code",
   "execution_count": 2,
   "metadata": {
    "slideshow": {
     "slide_type": "skip"
    }
   },
   "outputs": [
    {
     "data": {
      "image/png": "[encoded data removed]",
      "text/plain": [
       "<Figure size 432x288 with 1 Axes>"
      ]
     },
     "metadata": {
      "needs_background": "light"
     },
     "output_type": "display_data"
    }
   ],
   "source": [
    "P = 1500.0\n",
    "m = 12\n",
    "n = 20.0\n",
    "A = 1e6\n",
    "r = numpy.linspace(0.05, 0.1, 100)\n",
    "f = lambda r, A, m, P, n: A - m * P / r * ((1.0 + r / m)**(m * n) - 1.0)\n",
    "\n",
    "fig = plt.figure()\n",
    "axes = fig.add_subplot(1, 1, 1)\n",
    "axes.plot(r, f(r, A, m, P, n), 'b')\n",
    "axes.plot(r, numpy.zeros(r.shape),'r--')\n",
    "axes.set_xlabel(\"r (%)\")\n",
    "axes.set_ylabel(\"f(r)\")\n",
    "axes.ticklabel_format(axis='y', style='sci', scilimits=(-1,1))\n",
    "\n",
    "a = 0.075\n",
    "b = 0.095\n",
    "axes.plot(a, f(a, A, m, P, n), 'ko')\n",
    "axes.plot([a, a], [0.0, f(a, A, m, P, n)], 'k--')\n",
    "axes.plot(b, f(b, A, m, P, n), 'ko')\n",
    "axes.plot([b, b], [f(b, A, m, P, n), 0.0], 'k--')\n",
    "\n",
    "plt.show()"
   ]
  },
  {
   "cell_type": "markdown",
   "metadata": {
    "slideshow": {
     "slide_type": "subslide"
    }
   },
   "source": [
    "### Este procedimento define o método da bissecção:\n",
    "\n",
    "Introduzir os dados para começar o método:\n",
    "- Extremos $a$ e $b$;\n",
    "- Tolerância de Erro $TOL$\n",
    "- Número Máximo de Iterações $MaxN$;\n",
    "\n",
    "    while (abs(b-a) >= TOL and MaxN>i):\n",
    "        p=(a+b)/2\n",
    "        if f(a)*f(p)>0:\n",
    "            a=p\n",
    "        else:\n",
    "            b=p\n",
    "        i=i+1"
   ]
  },
  {
   "cell_type": "markdown",
   "metadata": {},
   "source": [
    "#### Exemplo: \n",
    "Seja $cos(x) =x$. Por aplicação do método da bissecção, apresente uma aproximação da solução com um erro inferior a $0.05$"
   ]
  },
  {
   "cell_type": "code",
   "execution_count": 3,
   "metadata": {},
   "outputs": [
    {
     "name": "stdout",
     "output_type": "stream",
     "text": [
      "1 1 2 1.5 0.657028812701807 1\n",
      "2 1.5 2 1.75 2.7559703533708073 0.5\n",
      "3 1.75 2 1.875 4.193035656187707 0.25\n",
      "4 1.875 2 1.9375 4.992816384091194 0.125\n",
      "5 1.9375 2 1.96875 5.410119926341529 0.0625\n",
      "6 1.96875 2 1.96875 5.552068334313858 0.03125\n"
     ]
    }
   ],
   "source": [
    "import math\n",
    "\n",
    "def f(x):\n",
    "    return math.cos(x)-x\n",
    "\n",
    "i=1\n",
    "a=1\n",
    "b=2\n",
    "MaxN = 100\n",
    "TOL = 0.05\n",
    "while (abs(b-a) >= TOL and MaxN>i):\n",
    "    p=(a+b)/2\n",
    "    \n",
    "    print(i,a,b,p,f(a)*f(p), abs(b-a) )\n",
    "    \n",
    "    if f(a)*f(p)>0:\n",
    "        a=p\n",
    "    else:\n",
    "        b=p\n",
    "    i=i+1\n",
    "print(i,a,b,p,f(a)*f(p), abs(b-a) )"
   ]
  },
  {
   "cell_type": "markdown",
   "metadata": {},
   "source": [
    "Notemos que, no método, a exigência de unicidade de raiz é\n",
    "supérflua. A única exigência para que o método convirja para uma\n",
    "raiz é que a função tenha valos contrários nos extremos do\n",
    "intervalo e tal é verificado sempre que exista, nesse intervalo, um\n",
    "número ímpar de raízes."
   ]
  },
  {
   "cell_type": "markdown",
   "metadata": {},
   "source": [
    "### Convergência\n",
    "\n",
    "Verifica-se facilmente que, sendo o intervalo inicial\n",
    "$I_0=[a,b]$, a amplitude do intervalo $I_n$ (obtido ao fim de $n$\n",
    "iterações) é dado por $$\\frac{b-a}{2^n},$$ uma vez que a amplitude\n",
    "do intervalo $I_{k+1}$ é sempre igual a metade da amplitude do\n",
    "intervalo $I_k$, para $k=1,2,\\ldots$.\n",
    "\n",
    "Sendo $L$ a amplitude do intervalo inicial que contém uma única raiz\n",
    "$x^\\ast$ de $f(x)=0$ e $x_1,x_2,\\ldots$ a sucessão de aproximações\n",
    "para a raiz $x^\\ast$ gerada pelo método. Temos que\n",
    "$$|x^\\ast-x_{k+1}|\\leq|x_{k+1}-x_k|=\\frac{L}{2^{k+1}}$$\n",
    "Fixando uma precisão $\\delta$ para calcular $n$ tal que\n",
    "$|x_n-x_{n-1}|\\leq\\delta$ temos $\\frac{L}{2^n}\\leq\\delta$ donde sai\n",
    "sucessivamente $\\frac{L}{2^n}\\leq\\delta$, logo $n\\geq\n",
    "-\\frac{\\ln\\frac{\\delta}{L}}{\\ln 2}$. Assim o número $n$ de iterações\n",
    "necessárias para garantir um aproximação da raiz com precisão\n",
    "$\\delta$ é dado por $$n\\geq -\\frac{\\ln\\frac{\\delta}{L}}{\\ln 2}.$$ A\n",
    "convergência do método resulta imediatamente do que foi dito uma vez\n",
    "que:\n",
    "$$\n",
    "\\lim_{k\\rightarrow\\infty}|x^\\ast-x_k|\\leq\\lim_{k\\rightarrow\\infty}\\frac{L}{2^k}=0.\n",
    "$$"
   ]
  },
  {
   "cell_type": "markdown",
   "metadata": {},
   "source": [
    "### Método de Newton-Raphson\n",
    "\n",
    "Em Análise Numérica, o método de Newton-Raphson, é um algoritmo\n",
    "extremamente eficiente para a aproximação de raízes de funções de\n",
    "valor real. O método foi descrito pela primeira vez em 1669. O\n",
    "método no entanto foi apresentado de forma puramente algébrica,\n",
    "tendo sido aplicado por Newton apenas como uma ferramenta para\n",
    "aproximar raízes de polinómios. O algoritmo moderno de Newton\n",
    "apareceu pela primeira vez em 1740 por Thomas Simpson para resolver\n",
    "equações não lineares genéricas."
   ]
  },
  {
   "cell_type": "markdown",
   "metadata": {},
   "source": [
    "Seja $f\\in C^2([a,b])$, e $x^\\ast\\in[a,b]$ a única raiz de $f(x)=0$\n",
    "nesse intervalo. Pela fórmula de Taylor temos que, se $x_0\\in[a,b]$,\n",
    "$$\n",
    "f(x^\\ast)=f(x_0)+f'(x_0)(x^\\ast-x_0)+\\frac{f''(c)}{2}(x^\\ast-x_0)^2,\\,c\\in\n",
    "I\\{x^\\ast,x_0\\}.\n",
    "$$\n",
    "Como $f(x^\\ast)=0$ e supondo $f'(x^\\ast)\\neq0$ para todo\n",
    "$x\\in[a,b]$, vem que\n",
    "$$\n",
    "x^\\ast=x_0-\\frac{f(x_0)}{f'(x_0)}-\\frac{f''(x_0)}{2f'(c)}(x^\\ast-x_0)^2,\\,c\\in\n",
    "I\\{x^\\ast,x_0\\}.\n",
    "$$\n",
    "Seja $x_1=x_0-\\frac{f(x_0)}{f'(x_0)}$. Procedendo de forma análoga,\n",
    "poderemos definir um método iterativo dado pela fórmula de\n",
    "recorrência\n",
    "$$\n",
    "x_{k+1}=x_k-\\frac{f(x_k)}{f'(x_k)},\\,k=0,1,\\ldots\n",
    "$$\n",
    "que pretendemos que seja convergente para $x^\\ast$. Este processo\n",
    "iterativo é descrito por método de Newton ou método de\n",
    "Newton-Raphson ou ainda método da tangente. Esta última designação\n",
    "resulta da interpretação geométrica do processo iterativo."
   ]
  },
  {
   "cell_type": "markdown",
   "metadata": {},
   "source": [
    "### Interpretação geométrica\n",
    "\n",
    "Consideremos a recta tangente à curva $y=f(x)$ no ponto de abcissa\n",
    "$x_k$. Essa recta é dada por\n",
    "$$\n",
    "y=f(x_k)+\\frac{1}{f'(x_k)}(x-x_k).\n",
    "$$\n",
    "O ponto de intersecção da recta tangente com o eixo das abcissas é\n",
    "dado por\n",
    "$$\n",
    "x=x_k-\\frac{f(x_k)}{f'(x_k)}.\n",
    "$$\n",
    "Temos assim que a iteração $x_{k+1}$ dada pelo método de Newton é a\n",
    "abcissa do ponto de intersecção da recta tangente à curva $y=f(x)$\n",
    "no ponto $(x_k,f(x_k))$ com a recta $y=0$.\n",
    "\n",
    "![Raizes 2](./images/newtonmeth.jpg)"
   ]
  },
  {
   "cell_type": "markdown",
   "metadata": {},
   "source": [
    "Ao contrário do método da bissecção, que converge sempre que $f(x)$ é uma função contínuacom um único zero no intervalo $[a,b]$, o método de Newton-Raphson nem sempre converge. Note-se, por exemplo, que se existir um valor de $x\\in [a,b]$ tal que $f′(x) = 0$, então o algoritmode Newton-Raphson pode não ser aplicável.\n",
    "\n",
    "No entanto, pode-se garantir a convergência do método de Newton-Raphson nas condições seguintes. "
   ]
  },
  {
   "cell_type": "markdown",
   "metadata": {},
   "source": [
    "### Proposição:\n",
    "Seja $f\\in C^2([a,b])$. Se $r\\in[a,b]$ é tal que $f(r) = 0$ e $f′(r)\\neq 0$ então existeum $δ >0$ tal que para uma aproximação inicial $x_0∈[r−δ,r+δ]$ o método de Newton-Raphsonconverge, i.e., a sucessão $x_0,x_1,x_2,\\ldots$ gerada pela fórmula iteradora do método converge parar."
   ]
  },
  {
   "cell_type": "markdown",
   "metadata": {},
   "source": [
    "A proposição anterior garante que o método converge para uma escolha adequada da aproximação inicial $x_0$ mas não tem grande utilidade prática uma vez que não fornece uma forma de calcular $δ$.\n",
    "\n",
    "Por outro lado, dado um determinado intervalo $[a,b]$ pode-se garantir a convergência dométodo de Newton-Raphson de acordo com a proposição seguinte:"
   ]
  },
  {
   "cell_type": "markdown",
   "metadata": {},
   "source": [
    "### Proposição:\n",
    "\n",
    "Seja $f\\in C^2([a,b])$. Se\n",
    "\n",
    "- $f(a)f(b)<0$,\n",
    "- $f'(x)\\neq 0$, para todo $x\\in[a,b]$\n",
    "- $f''(x)\\neq 0$, para todo $x\\in[a,b]$\n",
    "- $x_0$ é escolhido de forma a que $f(x_0)f''(x)\\neq 0$, para todo $x\\in ]a,b[$\n",
    "\n",
    "então o método é convergente, i.e., a sucessão $x_0,x_1,x_2,\\ldots$ converge para $r$."
   ]
  },
  {
   "cell_type": "markdown",
   "metadata": {},
   "source": [
    "Note-se que a não verificação de algumas das condições não implica anão convergência do método. Este método é bastante rápido, no entanto nem sempre é fácil averificação de todas as condições exigidas."
   ]
  },
  {
   "cell_type": "markdown",
   "metadata": {},
   "source": [
    "Não é difícil provar a convergência do método de Newton é\n",
    "quadrática. Já que, como\n",
    "$$\n",
    "x^\\ast-x_{k+1}= \\frac{f''(c)}{2f'(x_k)}(x^\\ast-x_0)^2,\\,c\\in\n",
    "I\\{x^\\ast,x_0\\}.\n",
    "$$\n",
    "Tomando módulos obtemos\n",
    "$$\n",
    "|e_{k+1}|\\leq M|e_k|\n",
    "$$\n",
    "com\n",
    "$$\n",
    "M=\\frac{1}{2}\\frac{\\max_{x\\in[a,b]}|f''(x)|}{\\min_{x\\in[a,b]}|f'(x)|}.\n",
    "$$\n",
    "Assim, supondo verificadas as hipóteses do anterior, podemos concluir que o método tem ordem de\n",
    "convergência $p=2$."
   ]
  },
  {
   "cell_type": "markdown",
   "metadata": {},
   "source": [
    "A proposição anterior afirma, em particular, que o método de Newton-Raphson, sempre que converge, o faz de forma mais rápida do que o método da bissecção.\n",
    "\n",
    "Quanto à majoração do erro cometido em cada iteração tem-se o seguinte resultado:"
   ]
  },
  {
   "cell_type": "markdown",
   "metadata": {},
   "source": [
    "### Proposição:\n",
    "\n",
    "Em cada iteração $i + 1$ o erro do método de Newton-Raphson satisfaz as desigualdades seguintes:\n",
    "$$\n",
    "|x_{i+1}-r|\\leq\\frac{|f''(x_{i+1})|}{\\min_{x\\in[a,b]}|f'(x)|}.\n",
    "$$\n",
    "$$\n",
    "|x_{i+1}-r|\\leq\\frac{1}{2}\\frac{\\max_{x\\in[a,b]}|f''(x)|}{\\min_{x\\in[a,b]}|f'(x)|}|x_{i+1}-x_i|^2.\n",
    "$$"
   ]
  },
  {
   "cell_type": "markdown",
   "metadata": {},
   "source": [
    "#### Exemplo:\n",
    "Aproxime a único zero da equação $x^3−x^2−17x+ 25 = 0$ no intervalo $[1.375,1.4375]$ aplicando 4 iterações do método de Newton-Raphson, tendo por apóximação inicial $x_0=1.375$."
   ]
  },
  {
   "cell_type": "code",
   "execution_count": 4,
   "metadata": {},
   "outputs": [
    {
     "name": "stdout",
     "output_type": "stream",
     "text": [
      "1 1.375 2.333984375 -14.078125 1.540788013318535 0.165788013318535\n",
      "2 1.540788013318535 0.09044949810512293 -12.959492920678835 1.5477674143382152 0.006979401019680198\n",
      "3 1.5477674143382152 0.00017679271776671612 -12.908782922014817 1.5477811098754966 1.3695537281366299e-05\n",
      "4 1.5477811098754966 6.833680288309552e-10 -12.908683127488722 1.547781109928435 5.2938542438596414e-11\n"
     ]
    }
   ],
   "source": [
    "import math\n",
    "\n",
    "def f(x):\n",
    "    return x**3-x**2-17*x+25\n",
    "\n",
    "def df(x):\n",
    "    return 3*x**2-2*x-17\n",
    "\n",
    "xi=1.375\n",
    "for i in range(1,5):\n",
    "    xf = xi - f(xi)/df(xi)\n",
    "    print(i,xi,f(xi),df(xi),xf,abs(xf-xi))\n",
    "    xi=xf"
   ]
  },
  {
   "cell_type": "markdown",
   "metadata": {},
   "source": [
    "Ex 8.1 Localize graficamente as raízes reais das equações:\n",
    "1. $\\cos(x)=x^3$\n",
    "2. $\\ln(x)+x^3=0$\n",
    "3. $|x|-e^x=0$"
   ]
  },
  {
   "cell_type": "markdown",
   "metadata": {},
   "source": [
    "Ex 8.2 Mostre que as equações seguintes têm pelo menos uma solução\n",
    "  nos intervalos dados:\n",
    "1. $(x-2)^2-\\ln(x)=0,[1,2]\\text{ e }[e,5].$\n",
    "2.  $2\\cos(2x)-(x-2)^2=0,[2,3]\\text{ e }[3,4].$"
   ]
  },
  {
   "cell_type": "markdown",
   "metadata": {},
   "source": [
    "Ex 8.3 Considere a função $f(x)=x^3-x-1.$ Mostre que $f$ tem um único zero no intervalo $[1,2]$."
   ]
  },
  {
   "cell_type": "markdown",
   "metadata": {},
   "source": [
    "Ex 8.4 Use o método da bissecção para aproximar a solução, com erro\n",
    "  inferior a $10^{-1}$, da equação $x+0.5+2\\cos(\\pi x)=0$, no\n",
    "  intervalo $[0.5,1.0]$."
   ]
  },
  {
   "cell_type": "markdown",
   "metadata": {},
   "source": [
    "Ex 8.5 Quantas vezes teríamos de aplicar o método da bissecção na\n",
    "  pergunta anterior se quiséssemos determinar $x_k$ de modo que\n",
    "  $|x^\\ast-x_k|<10^{-5}$?"
   ]
  },
  {
   "cell_type": "markdown",
   "metadata": {},
   "source": [
    "Ex 8.6 A concentração de uma bactéria poluente num lago decresce\n",
    "    segundo\n",
    "$$\n",
    "    c(t)=70e^{-1.5t}+25e^{-0.075t}\n",
    "$$\n",
    "    Determine o tempo necessário para que a concentração seja 9, com um erro absoluto\n",
    "    inferior a $10^{-3}$."
   ]
  },
  {
   "cell_type": "markdown",
   "metadata": {},
   "source": [
    "Ex 8.7 A velocidade de ascensão de um foguetão pode ser calculado\n",
    "pela fórmula seguinte\n",
    "$$\n",
    "v=u\\ln(\\frac{m_0}{m_0-qt})-gt\n",
    "$$\n",
    "onde $v$ é a velocidade de ascensão, $u$ é a velocidade, em\n",
    "relação ao foguetão, à qual o combustível é expelido, $m_0$ é a\n",
    "massa inicial do foguetão, $q$ é a razão à qual o combustível é\n",
    "trajectória (que se supõe constante igual a $9.8m/s^2$). Se\n",
    "$u=2200m/s$, $m_0=160000kg$ e $q=2680kg/s$, calcule o instante\n",
    "em  que $v=1000m/s$. Determine a aproximação com erro inferior a\n",
    "1\\%."
   ]
  },
  {
   "cell_type": "markdown",
   "metadata": {},
   "source": [
    "Ex 8.8 A equação $x^3−x^2−17x+ 25 = 0$ tem uma raiz separada em $[2.5,4]$.\n",
    "1. Determine um intervalo com a amplitude máxima de 0.1 que contenha essa raiz.\n",
    "2. Mostre que no intervalo obtido na alínea anterior são verificadas as condições suficientesde convergência do método de Newton-Raphson.\n",
    "3. Aproxime o valor dessa raiz utilizando o método de Newton-Raphson com 10 iterações.\n",
    "4. Determine um majorante para um erro da aproximação obtida na alínea anterior."
   ]
  },
  {
   "cell_type": "markdown",
   "metadata": {},
   "source": [
    "Ex 8.9 Considere a função $f(x) = \\log(x) + \\tan(x)$.\n",
    "\n",
    "1. Mostre que a equaçãof(x) = 0tem exactamente uma raiz no intervalo $]\\pi/2,3\\pi/2[$.\n",
    "2. Utilize o método da bissecção para determinar um intervalo com $0.1$ de amplitude quecontenha essa raiz.\n",
    "3. Mostre que o método de Newton-Raphson converge para a raiz da equação $f(x) = 0$ no intervalo determinado na alínea anterior.\n",
    "4. Considerando uma aproximação inicial adequada, efectue 5 iterações do método de Newton-Raphson e determine um majorante do erro da aproximação obtida."
   ]
  }
 ],
 "metadata": {
  "celltoolbar": "Slideshow",
  "kernelspec": {
   "display_name": "Python 3",
   "language": "python",
   "name": "python3"
  },
  "language_info": {
   "codemirror_mode": {
    "name": "ipython",
    "version": 3
   },
   "file_extension": ".py",
   "mimetype": "text/x-python",
   "name": "python",
   "nbconvert_exporter": "python",
   "pygments_lexer": "ipython3",
   "version": "3.8.2"
  },
  "latex_envs": {
   "bibliofile": "biblio.bib",
   "cite_by": "apalike",
   "current_citInitial": 1,
   "eqLabelWithNumbers": true,
   "eqNumInitial": 0
  }
 },
 "nbformat": 4,
 "nbformat_minor": 2
}
