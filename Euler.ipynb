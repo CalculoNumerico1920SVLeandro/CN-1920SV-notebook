{
 "cells": [
  {
   "cell_type": "markdown",
   "metadata": {},
   "source": [
    "### Método de Euler\n",
    "\n",
    "$$y_{i+1}=y_i+hf(t_i,y_i)$$    \n",
    "\n",
    "para i= 0,1,2,...,N−1, onde $y_0 \\in ]a,b[$\n"
   ]
  },
  {
   "cell_type": "code",
   "execution_count": 28,
   "metadata": {},
   "outputs": [],
   "source": [
    "%matplotlib inline\n",
    "from math import exp\n",
    "import numpy\n",
    "import matplotlib.pyplot as plt"
   ]
  },
  {
   "cell_type": "code",
   "execution_count": 2,
   "metadata": {},
   "outputs": [],
   "source": [
    "def f(t,y):\n",
    "    return y-t**2+1"
   ]
  },
  {
   "cell_type": "code",
   "execution_count": 9,
   "metadata": {},
   "outputs": [],
   "source": [
    "#Definição da solução exacta\n",
    "def y_ex(t):\n",
    "    return (t+1)**2-0.5*numpy.exp(t)"
   ]
  },
  {
   "cell_type": "code",
   "execution_count": 4,
   "metadata": {},
   "outputs": [],
   "source": [
    "#Condição inicial\n",
    "t=0\n",
    "y=0.5"
   ]
  },
  {
   "cell_type": "code",
   "execution_count": 5,
   "metadata": {},
   "outputs": [],
   "source": [
    "#Passo da malha\n",
    "h=0.2"
   ]
  },
  {
   "cell_type": "code",
   "execution_count": 6,
   "metadata": {},
   "outputs": [
    {
     "name": "stdout",
     "output_type": "stream",
     "text": [
      "t=0.20, y=0.8000000, y_exacto=0.8292986, erro=0.0292986\n",
      "t=0.40, y=1.1520000, y_exacto=1.2140877, erro=0.0620877\n",
      "t=0.60, y=1.5504000, y_exacto=1.6489406, erro=0.0985406\n",
      "t=0.80, y=1.9884800, y_exacto=2.1272295, erro=0.1387495\n",
      "t=1.00, y=2.4581760, y_exacto=2.6408591, erro=0.1826831\n",
      "t=1.20, y=2.9498112, y_exacto=3.1799415, erro=0.2301303\n",
      "t=1.40, y=3.4517734, y_exacto=3.7324000, erro=0.2806266\n",
      "t=1.60, y=3.9501281, y_exacto=4.2834838, erro=0.3333557\n",
      "t=1.80, y=4.4281538, y_exacto=4.8151763, erro=0.3870225\n",
      "t=2.00, y=4.8657845, y_exacto=5.3054720, erro=0.4396874\n"
     ]
    }
   ],
   "source": [
    "#10 iterações para aproximar a solução em [0.2,2]\n",
    "for i in range(1,11):\n",
    "    y=y+h*f(t,y)\n",
    "    t=t+h\n",
    "    ye=y_ex(t)\n",
    "    erro=abs(y-ye)\n",
    "    print('t=%.2f, y=%.7f, y_exacto=%.7f, erro=%.7f'%(t, y, ye, erro))"
   ]
  },
  {
   "cell_type": "code",
   "execution_count": 36,
   "metadata": {},
   "outputs": [],
   "source": [
    "a=0.0\n",
    "b=2.0\n",
    "\n",
    "t_exact = numpy.linspace(a, b, 100)\n",
    "y_exact = y_ex(t_exact)\n",
    "\n",
    "N = 100\n",
    "t = numpy.empty(N)\n",
    "y = numpy.empty(N)\n",
    "h=(b-a)/N\n",
    "t[0]=0\n",
    "y[0]=0.5\n",
    "for i in range(0,N-1):\n",
    "    y[i+1]=y[i]+h*f(t[i],y[i])\n",
    "    t[i+1]=t[i]+h"
   ]
  },
  {
   "cell_type": "code",
   "execution_count": 37,
   "metadata": {},
   "outputs": [
    {
     "data": {
      "image/png": "[encoded data removed]",
      "text/plain": [
       "<Figure size 432x288 with 1 Axes>"
      ]
     },
     "metadata": {
      "needs_background": "light"
     },
     "output_type": "display_data"
    }
   ],
   "source": [
    "fig = plt.figure()\n",
    "axes = fig.add_subplot(1, 1, 1)\n",
    "\n",
    "axes.plot(t_exact, y_exact, 'k', label=\"True\")\n",
    "axes.plot(t, y, 'r', label=\"Euler\")\n",
    "axes.legend(loc=1)\n",
    "\n",
    "plt.show()"
   ]
  },
  {
   "cell_type": "code",
   "execution_count": null,
   "metadata": {},
   "outputs": [],
   "source": []
  }
 ],
 "metadata": {
  "kernelspec": {
   "display_name": "Python 3",
   "language": "python",
   "name": "python3"
  },
  "language_info": {
   "codemirror_mode": {
    "name": "ipython",
    "version": 3
   },
   "file_extension": ".py",
   "mimetype": "text/x-python",
   "name": "python",
   "nbconvert_exporter": "python",
   "pygments_lexer": "ipython3",
   "version": "3.8.2"
  }
 },
 "nbformat": 4,
 "nbformat_minor": 4
}
