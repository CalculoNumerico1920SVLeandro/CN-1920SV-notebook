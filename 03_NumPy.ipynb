{
 "cells": [
  {
   "cell_type": "markdown",
   "metadata": {
    "slideshow": {
     "slide_type": "skip"
    }
   },
   "source": [
    "<table>\n",
    " <tr align=left><td><img align=left src=\"./images/CC-BY.png\">\n",
    " <td>Text provided under a Creative Commons Attribution license, CC-BY. All code is made available under the FSF-approved MIT license. (c) Kyle T. Mandli</td>\n",
    "</table>"
   ]
  },
  {
   "cell_type": "code",
   "execution_count": null,
   "metadata": {
    "slideshow": {
     "slide_type": "skip"
    }
   },
   "outputs": [],
   "source": [
    "from __future__ import print_function"
   ]
  },
  {
   "cell_type": "markdown",
   "metadata": {
    "slideshow": {
     "slide_type": "slide"
    }
   },
   "source": [
    "# Introdução ao NumPy\n",
    "\n",
    "O NumPy é uma biblioteca básica em Python que define várias estruturas e funções essenciais para a computação numérica (entre outras coisas).  A estrutura de dados fundamental nesta biblioteca são  os `ndarray`,  de manipulações  semelhante às `list`s. Muitas funções são semelhantes aos comandos do matlab. Implementados usando algorimos semelhante. \n",
    "\n",
    "Tópicos:\n",
    "  - O `ndarray`\n",
    "  - Funções matemáticas\n",
    "  - Manipulações de matriz\n",
    "  - Funções comuns com array"
   ]
  },
  {
   "cell_type": "markdown",
   "metadata": {
    "slideshow": {
     "slide_type": "slide"
    }
   },
   "source": [
    "## `ndarray`\n",
    "\n",
    "O `ndarray` forma o tipo mais básico de estrutura de dados do NumPy. Como o nome sugere, o `ndarray` é uma matriz que pode ter tantas dimensões quanto se defina. Para utilizadores do matlab, isso é familiar, embora observe que o `ndarray` não se comporta exatamente como as matrizes do matlab. Aqui apresentamos alguns exemplos de usos:"
   ]
  },
  {
   "cell_type": "code",
   "execution_count": 7,
   "metadata": {
    "slideshow": {
     "slide_type": "fragment"
    }
   },
   "outputs": [],
   "source": [
    "import numpy"
   ]
  },
  {
   "cell_type": "markdown",
   "metadata": {
    "slideshow": {
     "slide_type": "fragment"
    }
   },
   "source": [
    "Defina uma matriz 2x2, observe que, diferentemente do MATLAB, precisamos de vírgulas em todas as posições:"
   ]
  },
  {
   "cell_type": "code",
   "execution_count": null,
   "metadata": {
    "slideshow": {
     "slide_type": "-"
    }
   },
   "outputs": [],
   "source": [
    "my_array = numpy.array([[1, 2], [3, 4]])\n",
    "print(my_array)"
   ]
  },
  {
   "cell_type": "markdown",
   "metadata": {
    "slideshow": {
     "slide_type": "subslide"
    }
   },
   "source": [
    "Obtenha a entrada  `(0, 1)` da matriz:"
   ]
  },
  {
   "cell_type": "code",
   "execution_count": null,
   "metadata": {
    "slideshow": {
     "slide_type": "-"
    }
   },
   "outputs": [],
   "source": [
    "print(my_array)"
   ]
  },
  {
   "cell_type": "code",
   "execution_count": null,
   "metadata": {
    "slideshow": {
     "slide_type": "-"
    }
   },
   "outputs": [],
   "source": [
    "my_array[0, 1]"
   ]
  },
  {
   "cell_type": "markdown",
   "metadata": {
    "slideshow": {
     "slide_type": "fragment"
    }
   },
   "source": [
    "A segunda linha da matriz:"
   ]
  },
  {
   "cell_type": "code",
   "execution_count": null,
   "metadata": {
    "slideshow": {
     "slide_type": "-"
    }
   },
   "outputs": [],
   "source": [
    "my_array[1,:]"
   ]
  },
  {
   "cell_type": "markdown",
   "metadata": {
    "slideshow": {
     "slide_type": "subslide"
    }
   },
   "source": [
    "A primeira coluna da matriz:"
   ]
  },
  {
   "cell_type": "code",
   "execution_count": null,
   "metadata": {
    "slideshow": {
     "slide_type": "-"
    }
   },
   "outputs": [],
   "source": [
    "print(my_array)"
   ]
  },
  {
   "cell_type": "code",
   "execution_count": null,
   "metadata": {},
   "outputs": [],
   "source": [
    "my_array[:,0]"
   ]
  },
  {
   "cell_type": "code",
   "execution_count": null,
   "metadata": {
    "slideshow": {
     "slide_type": "-"
    }
   },
   "outputs": [],
   "source": [
    "#my_array[?,?]"
   ]
  },
  {
   "cell_type": "markdown",
   "metadata": {
    "slideshow": {
     "slide_type": "subslide"
    }
   },
   "source": [
    "Definir um vetor de coluna: "
   ]
  },
  {
   "cell_type": "code",
   "execution_count": null,
   "metadata": {
    "slideshow": {
     "slide_type": "-"
    }
   },
   "outputs": [],
   "source": [
    "my_vec = numpy.array([[1], [2]])\n",
    "print(my_vec)"
   ]
  },
  {
   "cell_type": "markdown",
   "metadata": {
    "slideshow": {
     "slide_type": "fragment"
    }
   },
   "source": [
    "Multiplicação da matriz my_array pelo vetor my_vec no sentido usual em álgebra linear (equivalente ao * MATLAB )"
   ]
  },
  {
   "cell_type": "code",
   "execution_count": null,
   "metadata": {
    "slideshow": {
     "slide_type": "-"
    }
   },
   "outputs": [],
   "source": [
    "print(my_array)"
   ]
  },
  {
   "cell_type": "code",
   "execution_count": null,
   "metadata": {
    "slideshow": {
     "slide_type": "-"
    }
   },
   "outputs": [],
   "source": [
    "print(numpy.dot(my_array, my_vec))"
   ]
  },
  {
   "cell_type": "markdown",
   "metadata": {
    "slideshow": {
     "slide_type": "subslide"
    }
   },
   "source": [
    "Multiplicação de `my_array` e` my_vec` \"broadcasting\" as dimensões correspondentes (equivalente ao .* MATLAB ): "
   ]
  },
  {
   "cell_type": "code",
   "execution_count": null,
   "metadata": {
    "slideshow": {
     "slide_type": "-"
    }
   },
   "outputs": [],
   "source": [
    "print(my_array)\n",
    "print()\n",
    "print(my_vec)"
   ]
  },
  {
   "cell_type": "code",
   "execution_count": null,
   "metadata": {
    "slideshow": {
     "slide_type": "-"
    }
   },
   "outputs": [],
   "source": [
    "my_array * my_vec"
   ]
  },
  {
   "cell_type": "markdown",
   "metadata": {
    "slideshow": {
     "slide_type": "slide"
    }
   },
   "source": [
    "## Construtores de matriz\n",
    "Juntamente com o construtor comum para o `ndarray`s acima (`array`), existem várias outras maneiras de criar arrays com estruturas especificas. Aqui tem alguma das mais úteis."
   ]
  },
  {
   "cell_type": "markdown",
   "metadata": {
    "slideshow": {
     "slide_type": "subslide"
    }
   },
   "source": [
    "O comando `linspace` (semelhante ao comando `linspace` do MATLAB) usa três argumentos, os dois primeiros definem um intervalo, o terceiro define o número pontos de uma partição entre eles. Isso é usado para decompor o domínio de uma função,  muito útil se quiser avaliar uma função numa parte do seu domínio."
   ]
  },
  {
   "cell_type": "code",
   "execution_count": null,
   "metadata": {
    "slideshow": {
     "slide_type": "-"
    }
   },
   "outputs": [],
   "source": [
    "print(numpy.linspace(-1, 1, 10))\n",
    "#numpy.linspace?"
   ]
  },
  {
   "cell_type": "markdown",
   "metadata": {
    "slideshow": {
     "slide_type": "subslide"
    }
   },
   "source": [
    "Outras funções são `zeros` e `ones` que criam matriz de zeros e uns respetivamente (novamente equivalente às funções de mesmo nome no MATLAB). Note que pode definir explicitamente o tipo de dados a usar para preencher as matrizes."
   ]
  },
  {
   "cell_type": "code",
   "execution_count": null,
   "metadata": {
    "slideshow": {
     "slide_type": "-"
    }
   },
   "outputs": [],
   "source": [
    "numpy.zeros([3, 3])"
   ]
  },
  {
   "cell_type": "code",
   "execution_count": null,
   "metadata": {
    "slideshow": {
     "slide_type": "-"
    }
   },
   "outputs": [],
   "source": [
    "numpy.ones([2, 3, 2], dtype=int)"
   ]
  },
  {
   "cell_type": "markdown",
   "metadata": {
    "slideshow": {
     "slide_type": "subslide"
    }
   },
   "source": [
    "Outra matriz importante é a matriz de identidade. O comando `identity` pode ser usado para definir uma matriz de identidade de uma determinada ordem."
   ]
  },
  {
   "cell_type": "code",
   "execution_count": null,
   "metadata": {
    "slideshow": {
     "slide_type": "-"
    }
   },
   "outputs": [],
   "source": [
    "I = numpy.identity(3)\n",
    "print(I)"
   ]
  },
  {
   "cell_type": "markdown",
   "metadata": {
    "slideshow": {
     "slide_type": "subslide"
    }
   },
   "source": [
    "Observe que o tipo de uma matrizes NumPy  pode ser alterado após a sua criação. Isto é normalmente exigido quando se tem de alocar espaço para uma matriz que vai ser o output de um processo. No entanto  ajustar o tipo de uma matriz para satisfazer as exigências de output  estas é sempre difícil entender. Uma maneira de evitar esses problemas é criar uma matriz vazia do tipo certo e armazenar os valores calculados conforme os vai encontrando. O construtor da matriz para fazer isso é chamado de `empty`:"
   ]
  },
  {
   "cell_type": "code",
   "execution_count": null,
   "metadata": {
    "slideshow": {
     "slide_type": "-"
    }
   },
   "outputs": [],
   "source": [
    "numpy.empty([2,3])"
   ]
  },
  {
   "cell_type": "markdown",
   "metadata": {
    "slideshow": {
     "slide_type": "skip"
    }
   },
   "source": [
    "Observe que aqui o notebook IPython está a preencher a matriz com zeros (ou algo próximo disso). Os valores quase nunca são zero, mas a representação do número apresentado é truncada para tabular a exibição de números longos. Este comportamento pode ser controlado usando `%precision 3`, em que 3 é o número de casas decimais na representação."
   ]
  },
  {
   "cell_type": "code",
   "execution_count": null,
   "metadata": {
    "slideshow": {
     "slide_type": "skip"
    }
   },
   "outputs": [],
   "source": [
    "%precision 3\n",
    "numpy.empty([2,3]) + 1/3"
   ]
  },
  {
   "cell_type": "markdown",
   "metadata": {
    "slideshow": {
     "slide_type": "slide"
    }
   },
   "source": [
    "## Manipulações de matriz\n",
    "Às vezes, apesar de nossos esforços, precisamos manipular o tipo das matrizes criadas.\n",
    " - Note que essas funções são de difícil utilização  e muito ineficientes em termos computacionais.\n",
    " - No entanto quando usadas de forma inteligente podem ser usadas para simplificar algoritmos e otimizar o uso de memória..\n",
    " - Confire em [NumPy Docs](http://docs.scipy.org/doc/numpy/reference/routines.array-manipulation.html) para mais funções para além destas básicas"
   ]
  },
  {
   "cell_type": "markdown",
   "metadata": {
    "slideshow": {
     "slide_type": "subslide"
    }
   },
   "source": [
    "O tipo da matriz pode ser obtido através do sufixo `shape` (um dos atributos dum objeto array)."
   ]
  },
  {
   "cell_type": "code",
   "execution_count": null,
   "metadata": {
    "slideshow": {
     "slide_type": "-"
    }
   },
   "outputs": [],
   "source": [
    "A = numpy.array([[1, 2, 3], [4, 5, 6]])\n",
    "print(A)\n",
    "print(\"Tipo = \", A.shape)\n"
   ]
  },
  {
   "cell_type": "markdown",
   "metadata": {
    "slideshow": {
     "slide_type": "fragment"
    }
   },
   "source": [
    "Podemos alterar o tipo  de uma matriz (fazer o ”reshape”)"
   ]
  },
  {
   "cell_type": "code",
   "execution_count": null,
   "metadata": {
    "slideshow": {
     "slide_type": "-"
    }
   },
   "outputs": [],
   "source": [
    "B = A.reshape((6,1))\n",
    "print(\"A Shape = \", A.shape)\n",
    "print(\"B Shape = \", B.shape)\n",
    "print(B)\n",
    "#numpy.reshape?  "
   ]
  },
  {
   "cell_type": "markdown",
   "metadata": {
    "slideshow": {
     "slide_type": "subslide"
    }
   },
   "source": [
    "Pegue na matriz `A` e faça uma matriz maior, preenchendo a nova matriz com cópias da primeira o vezes definido."
   ]
  },
  {
   "cell_type": "code",
   "execution_count": null,
   "metadata": {
    "slideshow": {
     "slide_type": "-"
    }
   },
   "outputs": [],
   "source": [
    "A"
   ]
  },
  {
   "cell_type": "code",
   "execution_count": null,
   "metadata": {
    "slideshow": {
     "slide_type": "-"
    }
   },
   "outputs": [],
   "source": [
    "numpy.tile(A, (2,3))"
   ]
  },
  {
   "cell_type": "code",
   "execution_count": null,
   "metadata": {
    "slideshow": {
     "slide_type": "-"
    }
   },
   "outputs": [],
   "source": [
    "A.flatten()"
   ]
  },
  {
   "cell_type": "markdown",
   "metadata": {
    "slideshow": {
     "slide_type": "slide"
    }
   },
   "source": [
    "## Operações de matriz\n",
    "\n",
    "A biblioteca numpy também inclui várias operações básicas em matrizes. Por exemplo, uma das operação é a transposição de uma matriz dada."
   ]
  },
  {
   "cell_type": "code",
   "execution_count": null,
   "metadata": {
    "slideshow": {
     "slide_type": "-"
    }
   },
   "outputs": [],
   "source": [
    "B = numpy.array([[1,2,3],[1,4,9],[1,8,27]])\n",
    "print(B)\n",
    "print(B.transpose())"
   ]
  },
  {
   "cell_type": "markdown",
   "metadata": {
    "slideshow": {
     "slide_type": "subslide"
    }
   },
   "source": [
    "Um aspeto interessante da biblioteca numpy é que a multiplicação escalar é definida da maneira usual."
   ]
  },
  {
   "cell_type": "code",
   "execution_count": null,
   "metadata": {
    "slideshow": {
     "slide_type": "-"
    }
   },
   "outputs": [],
   "source": [
    "v = numpy.array([[1],[2],[3]])\n",
    "print(v)\n",
    "print(2*v)"
   ]
  },
  {
   "cell_type": "markdown",
   "metadata": {
    "slideshow": {
     "slide_type": "subslide"
    }
   },
   "source": [
    "Outra operação comum é multiplicar duas matrizes. Tenha cuidado para garantir que a operação está definida. No exemplo abaixo, a operação comentada não está definida."
   ]
  },
  {
   "cell_type": "code",
   "execution_count": null,
   "metadata": {
    "slideshow": {
     "slide_type": "-"
    }
   },
   "outputs": [],
   "source": [
    "A = numpy.array([[1],[-1],[1]])\n",
    "B = numpy.array([[1,2,3],[1,4,9],[1,8,27]])\n",
    "print(numpy.matmul(B,A))\n",
    "print(numpy.matmul(A.transpose(),B))\n",
    "#print(numpy.matmul(A,B))"
   ]
  },
  {
   "cell_type": "markdown",
   "metadata": {
    "slideshow": {
     "slide_type": "subslide"
    }
   },
   "source": [
    "Um entrada matriz pode ser alterado usando a mesma notação que usamos acima para obter o valor da entrada na dentro de uma matriz, usada agora numa atribuição."
   ]
  },
  {
   "cell_type": "code",
   "execution_count": null,
   "metadata": {
    "slideshow": {
     "slide_type": "-"
    }
   },
   "outputs": [],
   "source": [
    "B = numpy.array([[1,2,3],[1,4,9],[1,8,27]])\n",
    "print(B)\n",
    "B[0,0] = -5\n",
    "print(B)"
   ]
  },
  {
   "cell_type": "markdown",
   "metadata": {
    "slideshow": {
     "slide_type": "slide"
    }
   },
   "source": [
    "## Funções matemáticas\n",
    "Similar ao módulo Python `math`, o NumPy também tem várias funções matemáticas definidas, como` sqrt`, `sin`,` cos` e `tan`, além de várias constantes úteis, dos quais a mais importante é $\\pi$. O benefício de usar as versões do NumPy é que elas podem ter por argumento matrizes."
   ]
  },
  {
   "cell_type": "code",
   "execution_count": null,
   "metadata": {
    "slideshow": {
     "slide_type": "subslide"
    }
   },
   "outputs": [],
   "source": [
    "x = numpy.linspace(-2.0 * numpy.pi, 2.0 * numpy.pi, 62)\n",
    "y = numpy.sin(x)\n",
    "print(y)"
   ]
  },
  {
   "cell_type": "markdown",
   "metadata": {
    "slideshow": {
     "slide_type": "subslide"
    }
   },
   "source": [
    "Esta estratégia é geralmente útil para desenhar o gráfico de funções (abordaremos a representação gráfica mais tarde)."
   ]
  },
  {
   "cell_type": "code",
   "execution_count": null,
   "metadata": {
    "hide_input": true
   },
   "outputs": [],
   "source": [
    "import matplotlib.pyplot as plt\n",
    "%matplotlib inline\n",
    "\n",
    "fig = plt.figure(figsize=(8,6))\n",
    "plt.plot(x,y,linewidth=2)\n",
    "plt.grid()\n",
    "plt.xlabel('$x$',fontsize=16)\n",
    "plt.ylabel('$y$',fontsize=16)\n",
    "plt.title('$\\sin{x}$',fontsize=18)\n",
    "plt.show()"
   ]
  },
  {
   "cell_type": "markdown",
   "metadata": {
    "slideshow": {
     "slide_type": "subslide"
    }
   },
   "source": [
    "Uma coisa a observar (e isso é verdade no módulo `math`) é que, ao contrário do que você pode esperar:"
   ]
  },
  {
   "cell_type": "code",
   "execution_count": null,
   "metadata": {
    "slideshow": {
     "slide_type": "-"
    }
   },
   "outputs": [],
   "source": [
    "x = numpy.linspace(-1, 1, 20)\n",
    "print(x)\n",
    "numpy.sqrt(x)"
   ]
  },
  {
   "cell_type": "markdown",
   "metadata": {
    "slideshow": {
     "slide_type": "subslide"
    }
   },
   "source": [
    "O problema é que, se `sqrt` tiver por argumento um número negativo, o NumPy não usará automaticamente variável `Complex` para representar o resultado. Ao contrário das listas, o NumPy exige que os dados armazenados numa matriz sejam todos do mesmo tipo. Por padrão, o NumPy assume que se quer usar `float`s  (vemos mais sobre isto na próxima aula) , como a operação não está definida para negativo gera `nan`s (`nan` significa \"não é um número\".\n",
    "\n",
    "Se quiser realmente usar números complexos, tem de dizer explicitamente ao NumPy que quer  uma matriz de Complexos, fazendo o seguinte:"
   ]
  },
  {
   "cell_type": "code",
   "execution_count": null,
   "metadata": {
    "slideshow": {
     "slide_type": "-"
    }
   },
   "outputs": [],
   "source": [
    "x = numpy.linspace(-1, 1, 20, dtype=complex)\n",
    "numpy.sqrt(x)"
   ]
  },
  {
   "cell_type": "markdown",
   "metadata": {},
   "source": [
    "### Exercício 1\n",
    "Implemente uma função que dada uma matriz, devolve a tipo da matriz."
   ]
  },
  {
   "cell_type": "code",
   "execution_count": null,
   "metadata": {},
   "outputs": [],
   "source": []
  },
  {
   "cell_type": "markdown",
   "metadata": {},
   "source": [
    "### Exercício 2\n",
    "Implemente uma função que dada duas matrizes $A$ e $B$, devolve devolve `True` se e só se as duas matrizes são compaíveis, i.e. se $A\\times B$ está definida."
   ]
  },
  {
   "cell_type": "code",
   "execution_count": null,
   "metadata": {},
   "outputs": [],
   "source": []
  },
  {
   "cell_type": "markdown",
   "metadata": {},
   "source": [
    "### Exercício 3\n",
    "Implemente uma função que dada duas matrizes $A$ e $B$, devolve devolve $A\\times B$ o produto de $A$ por $B$ caso esteja definido, caso contrário deve devolver `nan` (i.e, `numpy.NaN`)."
   ]
  },
  {
   "cell_type": "code",
   "execution_count": null,
   "metadata": {},
   "outputs": [],
   "source": []
  }
 ],
 "metadata": {
  "celltoolbar": "Slideshow",
  "kernelspec": {
   "display_name": "Python 3",
   "language": "python",
   "name": "python3"
  },
  "language_info": {
   "codemirror_mode": {
    "name": "ipython",
    "version": 3
   },
   "file_extension": ".py",
   "mimetype": "text/x-python",
   "name": "python",
   "nbconvert_exporter": "python",
   "pygments_lexer": "ipython3",
   "version": "3.8.2"
  },
  "latex_envs": {
   "bibliofile": "biblio.bib",
   "cite_by": "apalike",
   "current_citInitial": 1,
   "eqLabelWithNumbers": true,
   "eqNumInitial": 0
  }
 },
 "nbformat": 4,
 "nbformat_minor": 4
}
